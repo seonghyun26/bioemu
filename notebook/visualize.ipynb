{
 "cells": [
  {
   "cell_type": "code",
   "execution_count": 1,
   "metadata": {},
   "outputs": [
    {
     "data": {
      "application/vnd.jupyter.widget-view+json": {
       "model_id": "9a33b9225ddc4547826ec0f1531799a7",
       "version_major": 2,
       "version_minor": 0
      },
      "text/plain": []
     },
     "metadata": {},
     "output_type": "display_data"
    }
   ],
   "source": [
    "import pyemma\n",
    "import pickle\n",
    "\n",
    "import mdtraj as md\n",
    "import numpy as np\n",
    "import nglview as nv\n",
    "import matplotlib.pyplot as plt\n",
    "import numpy as np\n",
    "\n",
    "np.bool = np.bool_\n",
    "\n",
    "from tqdm import tqdm\n",
    "from matplotlib.colors import LogNorm\n"
   ]
  },
  {
   "cell_type": "code",
   "execution_count": 2,
   "metadata": {},
   "outputs": [],
   "source": [
    "result_path = \"../res\"\n",
    "molecule = \"chignolin\""
   ]
  },
  {
   "cell_type": "markdown",
   "metadata": {},
   "source": [
    "# Visualization"
   ]
  },
  {
   "cell_type": "code",
   "execution_count": 3,
   "metadata": {},
   "outputs": [
    {
     "data": {
      "application/vnd.jupyter.widget-view+json": {
       "model_id": "c993394bf8b240fab835c0f7ad1f25c4",
       "version_major": 2,
       "version_minor": 0
      },
      "text/plain": [
       "NGLWidget(max_frame=90)"
      ]
     },
     "metadata": {},
     "output_type": "display_data"
    }
   ],
   "source": [
    "topology_file = f\"{result_path}/{molecule}/topology.pdb\"\n",
    "samples_file = f\"{result_path}/{molecule}/samples.xtc\"\n",
    "\n",
    "traj = md.load(samples_file, top=topology_file)\n",
    "view = nv.show_mdtraj(traj)\n",
    "view.add_representation(\"licorice\", selection=\"protein\")\n",
    "view"
   ]
  },
  {
   "cell_type": "code",
   "execution_count": 4,
   "metadata": {},
   "outputs": [],
   "source": [
    "view.frame = 4"
   ]
  },
  {
   "cell_type": "markdown",
   "metadata": {},
   "source": [
    "# TICA Plot"
   ]
  },
  {
   "cell_type": "code",
   "execution_count": 5,
   "metadata": {},
   "outputs": [
    {
     "name": "stdout",
     "output_type": "stream",
     "text": [
      "TICA(commute_map=False, dim=2, epsilon=1e-06, kinetic_map=True, lag=5,\n",
      "   ncov_max=inf, reversible=True, skip=0, stride=1, var_cutoff=0.95,\n",
      "   weights=None)\n"
     ]
    }
   ],
   "source": [
    "with open('tica_model.pkl', 'rb') as f:\n",
    "    tica = pickle.load(f)\n",
    "print(tica)"
   ]
  },
  {
   "cell_type": "code",
   "execution_count": 6,
   "metadata": {},
   "outputs": [
    {
     "name": "stdout",
     "output_type": "stream",
     "text": [
      "[ 1  5 10 15 20 25 30 34 39 44]\n"
     ]
    }
   ],
   "source": [
    "ca_atoms = traj.topology.select('name CA')\n",
    "print(ca_atoms)"
   ]
  },
  {
   "cell_type": "code",
   "execution_count": 7,
   "metadata": {},
   "outputs": [
    {
     "name": "stdout",
     "output_type": "stream",
     "text": [
      "d1: DISTANCE ATOMS=1, 5\n",
      "d2: DISTANCE ATOMS=1, 10\n",
      "d3: DISTANCE ATOMS=1, 15\n",
      "d4: DISTANCE ATOMS=1, 20\n",
      "d5: DISTANCE ATOMS=1, 25\n",
      "d6: DISTANCE ATOMS=1, 30\n",
      "d7: DISTANCE ATOMS=1, 34\n",
      "d8: DISTANCE ATOMS=1, 39\n",
      "d9: DISTANCE ATOMS=1, 44\n",
      "d10: DISTANCE ATOMS=5, 10\n",
      "d11: DISTANCE ATOMS=5, 15\n",
      "d12: DISTANCE ATOMS=5, 20\n",
      "d13: DISTANCE ATOMS=5, 25\n",
      "d14: DISTANCE ATOMS=5, 30\n",
      "d15: DISTANCE ATOMS=5, 34\n",
      "d16: DISTANCE ATOMS=5, 39\n",
      "d17: DISTANCE ATOMS=5, 44\n",
      "d18: DISTANCE ATOMS=10, 15\n",
      "d19: DISTANCE ATOMS=10, 20\n",
      "d20: DISTANCE ATOMS=10, 25\n",
      "d21: DISTANCE ATOMS=10, 30\n",
      "d22: DISTANCE ATOMS=10, 34\n",
      "d23: DISTANCE ATOMS=10, 39\n",
      "d24: DISTANCE ATOMS=10, 44\n",
      "d25: DISTANCE ATOMS=15, 20\n",
      "d26: DISTANCE ATOMS=15, 25\n",
      "d27: DISTANCE ATOMS=15, 30\n",
      "d28: DISTANCE ATOMS=15, 34\n",
      "d29: DISTANCE ATOMS=15, 39\n",
      "d30: DISTANCE ATOMS=15, 44\n",
      "d31: DISTANCE ATOMS=20, 25\n",
      "d32: DISTANCE ATOMS=20, 30\n",
      "d33: DISTANCE ATOMS=20, 34\n",
      "d34: DISTANCE ATOMS=20, 39\n",
      "d35: DISTANCE ATOMS=20, 44\n",
      "d36: DISTANCE ATOMS=25, 30\n",
      "d37: DISTANCE ATOMS=25, 34\n",
      "d38: DISTANCE ATOMS=25, 39\n",
      "d39: DISTANCE ATOMS=25, 44\n",
      "d40: DISTANCE ATOMS=30, 34\n",
      "d41: DISTANCE ATOMS=30, 39\n",
      "d42: DISTANCE ATOMS=30, 44\n",
      "d43: DISTANCE ATOMS=34, 39\n",
      "d44: DISTANCE ATOMS=34, 44\n",
      "d45: DISTANCE ATOMS=39, 44\n"
     ]
    }
   ],
   "source": [
    "cnt = 1\n",
    "\n",
    "for i, ca_atom in enumerate(ca_atoms):\n",
    "    for j in range(i+1, len(ca_atoms)):\n",
    "        print(f\"d{cnt}: DISTANCE ATOMS={ca_atoms[i]}, {ca_atoms[j]}\")\n",
    "        cnt += 1"
   ]
  },
  {
   "cell_type": "code",
   "execution_count": 10,
   "metadata": {},
   "outputs": [],
   "source": [
    "def compute_ca_distances(traj, ca_atoms):\n",
    "\tn_atoms = len(ca_atoms)\t\n",
    "\tatom_pairs = []\n",
    "\tfor i in tqdm(\n",
    "     \trange(n_atoms),\n",
    "      \tleave=False,\n",
    "       \tdesc=f\"Computing CA distances \"\n",
    "    ):\n",
    "\t\tfor j in range(i+1, n_atoms):\n",
    "\t\t\tatom_pairs.append([ca_atoms[i], ca_atoms[j]])\n",
    "\n",
    "\tatom_pairs = np.array(atom_pairs)\n",
    "\tdistances = md.compute_distances(traj, atom_pairs)\t\n",
    "\treturn distances"
   ]
  },
  {
   "cell_type": "code",
   "execution_count": 11,
   "metadata": {},
   "outputs": [
    {
     "name": "stderr",
     "output_type": "stream",
     "text": [
      "                                                               \r"
     ]
    },
    {
     "data": {
      "text/plain": [
       "(91, 45)"
      ]
     },
     "execution_count": 11,
     "metadata": {},
     "output_type": "execute_result"
    }
   ],
   "source": [
    "ca_distances = compute_ca_distances(traj, ca_atoms)\n",
    "ca_distances.shape"
   ]
  },
  {
   "cell_type": "code",
   "execution_count": 13,
   "metadata": {},
   "outputs": [
    {
     "name": "stdout",
     "output_type": "stream",
     "text": [
      "18-06-25 01:52:15 pyemma.coordinates.data.featurization.featurizer.MDFeaturizer[1] WARNING  The 1D arrays input for add_distances() have been sorted, and index duplicates have been eliminated.\n",
      "Check the output of describe() to see the actual order of the features\n",
      "(91, 2)\n"
     ]
    }
   ],
   "source": [
    "feat_dist = pyemma.coordinates.featurizer(topology_file)\n",
    "feat_dist.add_distances(indices=ca_atoms)\n",
    "feature_distances = feat_dist.transform(traj)\n",
    "tica_coord = tica.transform(feature_distances)\n",
    "print(tica_coord.shape)"
   ]
  },
  {
   "cell_type": "code",
   "execution_count": 16,
   "metadata": {},
   "outputs": [
    {
     "data": {
      "image/png": "[encoded data removed]",
      "text/plain": [
       "<Figure size 600x600 with 1 Axes>"
      ]
     },
     "metadata": {},
     "output_type": "display_data"
    }
   ],
   "source": [
    "state_traj = md.load(topology_file)\n",
    "state_feat = feat_dist.transform(state_traj)\n",
    "tica_state = tica.transform(state_feat)\n",
    "\n",
    "# Plot\n",
    "fig = plt.figure(figsize=(6, 6))\n",
    "ax = fig.add_subplot(111)\n",
    "hb = ax.hexbin(\n",
    "\ttica_coord[:, 0], tica_coord[:, 1],  # data\n",
    "\tgridsize=200,                     # controls resolution\n",
    "\treduce_C_function=np.mean,       # compute average per hexagon\n",
    "\tcmap='viridis',                  # colormap\n",
    ")\n",
    "plt.scatter(tica_state[:, 0], tica_state[:, 1], c='red', s=10)\n",
    "plt.xlabel(\"TIC 1\")\n",
    "plt.ylabel(\"TIC 2\")\n",
    "plt.show()"
   ]
  },
  {
   "cell_type": "code",
   "execution_count": null,
   "metadata": {},
   "outputs": [],
   "source": []
  }
 ],
 "metadata": {
  "kernelspec": {
   "display_name": "mlcv",
   "language": "python",
   "name": "python3"
  },
  "language_info": {
   "codemirror_mode": {
    "name": "ipython",
    "version": 3
   },
   "file_extension": ".py",
   "mimetype": "text/x-python",
   "name": "python",
   "nbconvert_exporter": "python",
   "pygments_lexer": "ipython3",
   "version": "3.9.19"
  }
 },
 "nbformat": 4,
 "nbformat_minor": 2
}
