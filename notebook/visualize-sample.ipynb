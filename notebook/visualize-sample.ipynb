{
 "cells": [
  {
   "cell_type": "code",
   "execution_count": 34,
   "metadata": {},
   "outputs": [],
   "source": [
    "import numpy as np\n",
    "import mdtraj as md\n",
    "import nglview as nv"
   ]
  },
  {
   "cell_type": "markdown",
   "metadata": {},
   "source": [
    "# Data"
   ]
  },
  {
   "cell_type": "code",
   "execution_count": 11,
   "metadata": {},
   "outputs": [
    {
     "name": "stdout",
     "output_type": "stream",
     "text": [
      "Number of non-hydrogen atoms: 93\n",
      "[TYR1-N, TYR1-CA, TYR1-CB, TYR1-CG, TYR1-CD1, TYR1-CE1, TYR1-CZ, TYR1-OH, TYR1-CD2, TYR1-CE2, TYR1-C, TYR1-O, TYR2-N, TYR2-CA, TYR2-CB, TYR2-CG, TYR2-CD1, TYR2-CE1, TYR2-CZ, TYR2-OH, TYR2-CD2, TYR2-CE2, TYR2-C, TYR2-O, ASP3-N, ASP3-CA, ASP3-CB, ASP3-CG, ASP3-OD1, ASP3-OD2, ASP3-C, ASP3-O, PRO4-N, PRO4-CD, PRO4-CA, PRO4-CB, PRO4-CG, PRO4-C, PRO4-O, GLU5-N, GLU5-CA, GLU5-CB, GLU5-CG, GLU5-CD, GLU5-OE1, GLU5-OE2, GLU5-C, GLU5-O, THR6-N, THR6-CA, THR6-CB, THR6-OG1, THR6-CG2, THR6-C, THR6-O, GLY7-N, GLY7-CA, GLY7-C, GLY7-O, THR8-N, THR8-CA, THR8-CB, THR8-OG1, THR8-CG2, THR8-C, THR8-O, TRP9-N, TRP9-CA, TRP9-CB, TRP9-CG, TRP9-CD1, TRP9-NE1, TRP9-CE2, TRP9-CD2, TRP9-CE3, TRP9-CZ3, TRP9-CZ2, TRP9-CH2, TRP9-C, TRP9-O, TYR10-N, TYR10-CA, TYR10-CB, TYR10-CG, TYR10-CD1, TYR10-CE1, TYR10-CZ, TYR10-OH, TYR10-CD2, TYR10-CE2, TYR10-C, TYR10-O, TYR10-OXT]\n"
     ]
    },
    {
     "data": {
      "application/vnd.jupyter.widget-view+json": {
       "model_id": "f7efd8805e3a484193d39da3e6bf06d5",
       "version_major": 2,
       "version_minor": 0
      },
      "text/plain": [
       "NGLWidget()"
      ]
     },
     "metadata": {},
     "output_type": "display_data"
    }
   ],
   "source": [
    "\n",
    "pdb_path = f\"/home/shpark/prj-mlcv/lib/DESRES/data/CLN025.pdb\"\n",
    "traj_pdb = md.load_pdb(pdb_path)\n",
    "\n",
    "view_pdb = nv.show_mdtraj(traj_pdb)\n",
    "view_pdb\n",
    "\n",
    "non_h_atoms = [atom for atom in traj_pdb.topology.atoms if atom.element.symbol != 'H']\n",
    "num_non_h = len(non_h_atoms)\n",
    "print(f\"Number of non-hydrogen atoms: {num_non_h}\")\n",
    "print(non_h_atoms)\n",
    "\n",
    "view_pdb.clear_representations()\n",
    "# view_pdb.add_representation(\"ball+stick\", selection=\"not hydrogen\")\n",
    "# view_pdb.add_representation(\"licorice\", selection=\"not hydrogen\")\n",
    "view_pdb.add_representation(\"licorice\", selection=\"protein\")\n",
    "view_pdb"
   ]
  },
  {
   "cell_type": "markdown",
   "metadata": {},
   "source": [
    "# Samples"
   ]
  },
  {
   "cell_type": "code",
   "execution_count": null,
   "metadata": {},
   "outputs": [
    {
     "name": "stdout",
     "output_type": "stream",
     "text": [
      "<mdtraj.Trajectory with 31 frames, 92 atoms, 10 residues, without unitcells>\n"
     ]
    },
    {
     "data": {
      "application/vnd.jupyter.widget-view+json": {
       "model_id": "15a5db6c6d934f1ea90905da73501737",
       "version_major": 2,
       "version_minor": 0
      },
      "text/plain": [
       "NGLWidget(max_frame=30)"
      ]
     },
     "metadata": {},
     "output_type": "display_data"
    }
   ],
   "source": [
    "# method = \"org-0707-0536\"\n",
    "method = \"ours-0701_1147\"\n",
    "\n",
    "xtc_path = f\"/home/shpark/prj-mlcv/lib/bioemu/res/cln025-{method}/samples.xtc\"\n",
    "pdb_path = f\"/home/shpark/prj-mlcv/lib/bioemu/res/cln025-{method}/topology.pdb\"\n",
    "reconstructed_xtc_path = f\"/home/shpark/prj-mlcv/lib/bioemu/res/cln025-{method}/samples_sidechain_rec.xtc\"\n",
    "reconstructed_pdb_path = f\"/home/shpark/prj-mlcv/lib/bioemu/res/cln025-{method}/samples_sidechain_rec.pdb\"\n",
    "\n",
    "traj = md.load(reconstructed_xtc_path, top=reconstructed_pdb_path)\n",
    "print(traj)\n",
    "\n",
    "view = nv.show_mdtraj(traj)\n",
    "view.add_representation(\"licorice\", selection=\"protein\")\n",
    "# view.add_representation(\"licorice\", selection=\"not hydrogen\")\n",
    "view"
   ]
  },
  {
   "cell_type": "code",
   "execution_count": 58,
   "metadata": {},
   "outputs": [
    {
     "name": "stdout",
     "output_type": "stream",
     "text": [
      "<mdtraj.Trajectory with 31 frames, 93 atoms, 10 residues, without unitcells>\n"
     ]
    },
    {
     "data": {
      "application/vnd.jupyter.widget-view+json": {
       "model_id": "c62f32c915574c10935b00cf3085c9ec",
       "version_major": 2,
       "version_minor": 0
      },
      "text/plain": [
       "NGLWidget(max_frame=30)"
      ]
     },
     "metadata": {},
     "output_type": "display_data"
    }
   ],
   "source": [
    "xtc_path = f\"/home/shpark/prj-mlcv/lib/bioemu/res/cln025-{method}/samples_md_equil.xtc\"\n",
    "pdb_path = f\"/home/shpark/prj-mlcv/lib/bioemu/res/cln025-{method}/samples_md_equil.pdb\"\n",
    "\n",
    "traj = md.load(xtc_path, top=pdb_path)\n",
    "print(traj)\n",
    "\n",
    "view = nv.show_mdtraj(traj)\n",
    "view.add_representation(\"licorice\", selection=\"protein\")\n",
    "view"
   ]
  },
  {
   "cell_type": "code",
   "execution_count": 59,
   "metadata": {},
   "outputs": [],
   "source": [
    "view.frame = 0"
   ]
  },
  {
   "cell_type": "code",
   "execution_count": 60,
   "metadata": {},
   "outputs": [],
   "source": [
    "def foldedness_by_hbond(\n",
    "    traj,\n",
    "    distance_cutoff=0.35,\n",
    "    bond_number_cutoff=3\n",
    "):\n",
    "\t\"\"\"\n",
    "\tGenerate binary labels for folded/unfolded states based at least 3 bonds among eight bonds\n",
    "\t- TYR1T-YR10OT1\n",
    "\t- TYR1T-YR10OT2\n",
    "\t- ASP3N-TYR8O\n",
    "\t- THR6OG1-ASP3O\n",
    "\t- THR6N-ASP3OD1\n",
    "\t- THR6N-ASP3OD2\n",
    "\t- TYR10N-TYR1O\n",
    "\n",
    "\n",
    "\tArgs:\n",
    "\t\ttraj (mdtraj): mdtraj trajectory object\n",
    "\t\tdistance_cutoff (float): donor-acceptor distance cutoff in nm (default 0.35 nm = 3.5 amstrong)\n",
    "\t\tangle_cutoff (float): hydrogen bond angle cutoff in degrees (default 110 deg)\n",
    "\t\tbond_number_cutoff (int): minimum number of bonds to be considered as folded (default 3)\n",
    "\n",
    "\tReturns:\n",
    "\t\tlabels (np.array): binary array (1: folded, 0: unfolded)\n",
    "\t\"\"\"\n",
    "\t# TYR1N-YR10OT1\n",
    "\tdonor_idx = traj.topology.select('residue 1 and name N')[0] # Tyr1:N\n",
    "\tacceptor_idx = traj.topology.select('residue 10 and name O')[0]   # Tyr10:OT1\n",
    "\tdistance = md.compute_distances(traj, [[donor_idx, acceptor_idx]])\n",
    "\tlabel_O1 = ((distance[:,0] < distance_cutoff)).astype(int)\n",
    "\tlabel_O2 = ((distance[:,0] < distance_cutoff)).astype(int) \n",
    "\tlabel_O3 = ((distance[:,0] < distance_cutoff)).astype(int)\n",
    "\tlabel_TYR1N_TYR10OT1 = label_O1 | label_O2 | label_O3\n",
    "\n",
    "\n",
    "\t# TYR1N-YR10OT2\n",
    "\tdonor_idx = traj.topology.select('residue 1 and name N')[0] # Tyr1:N\n",
    "\tacceptor_idx = traj.topology.select('residue 10 and name OXT')[0]   # Tyr10:OT2\n",
    "\tdistance = md.compute_distances(traj, [[donor_idx, acceptor_idx]])\n",
    "\tlabel_O1 = ((distance[:,0] < distance_cutoff)).astype(int)\n",
    "\tlabel_O2 = ((distance[:,0] < distance_cutoff)).astype(int)\n",
    "\tlabel_O3 = ((distance[:,0] < distance_cutoff)).astype(int)\n",
    "\tlabel_TYR1N_TYR10OT2 = label_O1 | label_O2 | label_O3\n",
    "\n",
    "\n",
    "\t# ASP3N-TYR8O\n",
    "\tdonor_idx = traj.topology.select('residue 3 and name N')[0]\n",
    "\tacceptor_idx = traj.topology.select('residue 8 and name O')[0]\n",
    "\tdistance = md.compute_distances(traj, [[donor_idx, acceptor_idx]])\n",
    "\tlabel_ASP3N_TYR8O = ((distance[:,0] < distance_cutoff)).astype(int)\n",
    " \n",
    " \n",
    "\t# THR6OG1-ASP3O\n",
    "\tdonor_idx = traj.topology.select('residue 6 and name OG1')[0]\n",
    "\tacceptor_idx = traj.topology.select('residue 3 and name O')[0]\n",
    "\tdistance = md.compute_distances(traj, [[donor_idx, acceptor_idx]])\n",
    "\tlabel_THR6OG1_ASP3O = ((distance[:,0] < distance_cutoff)).astype(int)\n",
    " \n",
    " \n",
    "\t# THR6N-ASP3OD1\n",
    "\tdonor_idx = traj.topology.select('residue 6 and name N')[0]\n",
    "\tacceptor_idx = traj.topology.select('residue 3 and name OD1')[0]\n",
    "\tdistance = md.compute_distances(traj, [[donor_idx, acceptor_idx]])\n",
    "\tlabel_THR6N_ASP3OD1 = ((distance[:,0] < distance_cutoff)).astype(int)\n",
    " \n",
    "\t# THR6N-ASP3OD2\n",
    "\tdonor_idx = traj.topology.select('residue 6 and name N')[0]\n",
    "\tacceptor_idx = traj.topology.select('residue 3 and name OD2')[0]\n",
    "\tdistance = md.compute_distances(traj, [[donor_idx, acceptor_idx]])\n",
    "\tlabel_THR6N_ASP3OD2 = ((distance[:,0] < distance_cutoff)).astype(int)\n",
    " \n",
    " \n",
    "\t# GLY7N-ASP3O\n",
    "\tdonor_idx = traj.topology.select('residue 7 and name N')[0]\n",
    "\tacceptor_idx = traj.topology.select('residue 3 and name O')[0]\n",
    "\tdistance = md.compute_distances(traj, [[donor_idx, acceptor_idx]])\n",
    "\tlabel_GLY7N_ASP3O = ((distance[:,0] < distance_cutoff)).astype(int)\n",
    " \n",
    "\n",
    "\t# TYR10N-TYR1O\n",
    "\tdonor_idx = traj.topology.select('residue 10 and name N')[0] \n",
    "\tacceptor_idx = traj.topology.select('residue 1 and name O')[0] \n",
    "\tdistance = md.compute_distances(traj, [[donor_idx, acceptor_idx]])\n",
    "\tlabel_TYR10N_TYR1O = ((distance[:,0] < distance_cutoff)).astype(int)\n",
    "\n",
    "\n",
    "\n",
    "\n",
    "\t# ASP3OD_THR6OG1_ASP3N_THR8O\n",
    "\tbond_sum = label_TYR1N_TYR10OT1 + label_TYR1N_TYR10OT2 + label_ASP3N_TYR8O + label_THR6OG1_ASP3O \\\n",
    "\t\t+ label_THR6N_ASP3OD1 + label_THR6N_ASP3OD2 + label_GLY7N_ASP3O + label_TYR10N_TYR1O\n",
    "\tlabels = bond_sum >= bond_number_cutoff\n",
    "\n",
    "\t# print(label_TYR10OT_TYR1N.sum())\n",
    "\t# print(labels_TYR10N_TYR1O.sum())\n",
    "\t# print(labels_ASP3OD_THR6OG1.sum())\n",
    "\t# print(labels_ASP3N_TYR8O.sum())\n",
    "\n",
    "\treturn labels, bond_sum"
   ]
  },
  {
   "cell_type": "code",
   "execution_count": 61,
   "metadata": {},
   "outputs": [
    {
     "name": "stdout",
     "output_type": "stream",
     "text": [
      "21 folded states out of (31,) total states\n",
      "Folded states: [ 0  1  2  4  5  6  7  8 13 14 15 16 19 20 22 23 24 25 26 28 30]\n"
     ]
    }
   ],
   "source": [
    "label, bond_sum = foldedness_by_hbond(traj)\n",
    "\n",
    "print(f\"{label.sum()} folded states out of {label.shape} total states\")\n",
    "print(f\"Folded states: {np.where(label)[0]}\")"
   ]
  },
  {
   "cell_type": "code",
   "execution_count": null,
   "metadata": {},
   "outputs": [],
   "source": []
  }
 ],
 "metadata": {
  "kernelspec": {
   "display_name": "bioemu",
   "language": "python",
   "name": "python3"
  },
  "language_info": {
   "codemirror_mode": {
    "name": "ipython",
    "version": 3
   },
   "file_extension": ".py",
   "mimetype": "text/x-python",
   "name": "python",
   "nbconvert_exporter": "python",
   "pygments_lexer": "ipython3",
   "version": "3.10.18"
  }
 },
 "nbformat": 4,
 "nbformat_minor": 2
}
