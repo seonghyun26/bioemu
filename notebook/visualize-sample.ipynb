{
 "cells": [
  {
   "cell_type": "code",
   "execution_count": 1,
   "metadata": {},
   "outputs": [
    {
     "data": {
      "application/vnd.jupyter.widget-view+json": {
       "model_id": "05e842f0d9d74b8ea0987103ef3addcd",
       "version_major": 2,
       "version_minor": 0
      },
      "text/plain": []
     },
     "metadata": {},
     "output_type": "display_data"
    }
   ],
   "source": [
    "import numpy as np\n",
    "import mdtraj as md\n",
    "import nglview as nv"
   ]
  },
  {
   "cell_type": "markdown",
   "metadata": {},
   "source": [
    "# Data"
   ]
  },
  {
   "cell_type": "code",
   "execution_count": null,
   "metadata": {},
   "outputs": [
    {
     "data": {
      "application/vnd.jupyter.widget-view+json": {
       "model_id": "37efa7a6a2f943bb837dbfe4fe1567da",
       "version_major": 2,
       "version_minor": 0
      },
      "text/plain": [
       "NGLWidget()"
      ]
     },
     "metadata": {},
     "output_type": "display_data"
    }
   ],
   "source": [
    "\n",
    "pdb_path = f\"/home/shpark/prj-mlcv/lib/DESRES/data/CLN025_desres.pdb\"\n",
    "traj_pdb = md.load_pdb(pdb_path)\n",
    "\n",
    "view_pdb = nv.show_mdtraj(traj_pdb)\n",
    "view_pdb\n",
    "\n",
    "\n",
    "view_pdb.clear_representations()\n",
    "# view_pdb.add_representation(\"ball+stick\", selection=\"not hydrogen\")\n",
    "# view_pdb.add_representation(\"licorice\", selection=\"not hydrogen\")\n",
    "view_pdb.add_representation(\"licorice\", selection=\"protein\")\n",
    "view_pdb"
   ]
  },
  {
   "cell_type": "markdown",
   "metadata": {},
   "source": [
    "# Samples"
   ]
  },
  {
   "cell_type": "code",
   "execution_count": 8,
   "metadata": {},
   "outputs": [
    {
     "name": "stdout",
     "output_type": "stream",
     "text": [
      "<mdtraj.Trajectory with 200 frames, 92 atoms, 10 residues, without unitcells>\n"
     ]
    },
    {
     "data": {
      "application/vnd.jupyter.widget-view+json": {
       "model_id": "77131aff5527408aaf9c32344bd247d8",
       "version_major": 2,
       "version_minor": 0
      },
      "text/plain": [
       "NGLWidget(max_frame=199)"
      ]
     },
     "metadata": {},
     "output_type": "display_data"
    }
   ],
   "source": [
    "# method = \"org-0707-0536\"\n",
    "method = \"ours-0716_221151_unfiltered\"\n",
    "\n",
    "xtc_path = f\"/home/shpark/prj-mlcv/lib/bioemu/res/cln025-{method}/samples.xtc\"\n",
    "pdb_path = f\"/home/shpark/prj-mlcv/lib/bioemu/res/cln025-{method}/topology.pdb\"\n",
    "reconstructed_xtc_path = f\"/home/shpark/prj-mlcv/lib/bioemu/res/cln025-{method}/samples_sidechain_rec.xtc\"\n",
    "reconstructed_pdb_path = f\"/home/shpark/prj-mlcv/lib/bioemu/res/cln025-{method}/samples_sidechain_rec.pdb\"\n",
    "\n",
    "traj = md.load(reconstructed_xtc_path, top=reconstructed_pdb_path)\n",
    "print(traj)\n",
    "\n",
    "view = nv.show_mdtraj(traj)\n",
    "view.add_representation(\"licorice\", selection=\"protein\")\n",
    "# view.add_representation(\"licorice\", selection=\"not hydrogen\")\n",
    "view"
   ]
  },
  {
   "cell_type": "code",
   "execution_count": 5,
   "metadata": {},
   "outputs": [
    {
     "ename": "OSError",
     "evalue": "No such file: /home/shpark/prj-mlcv/lib/bioemu/res/cln025-ours-0716_221151_unfiltered/samples_md_equil.pdb",
     "output_type": "error",
     "traceback": [
      "\u001b[0;31m---------------------------------------------------------------------------\u001b[0m",
      "\u001b[0;31mOSError\u001b[0m                                   Traceback (most recent call last)",
      "Cell \u001b[0;32mIn[5], line 4\u001b[0m\n\u001b[1;32m      1\u001b[0m xtc_path \u001b[38;5;241m=\u001b[39m \u001b[38;5;124mf\u001b[39m\u001b[38;5;124m\"\u001b[39m\u001b[38;5;124m/home/shpark/prj-mlcv/lib/bioemu/res/cln025-\u001b[39m\u001b[38;5;132;01m{\u001b[39;00mmethod\u001b[38;5;132;01m}\u001b[39;00m\u001b[38;5;124m/samples_md_equil.xtc\u001b[39m\u001b[38;5;124m\"\u001b[39m\n\u001b[1;32m      2\u001b[0m pdb_path \u001b[38;5;241m=\u001b[39m \u001b[38;5;124mf\u001b[39m\u001b[38;5;124m\"\u001b[39m\u001b[38;5;124m/home/shpark/prj-mlcv/lib/bioemu/res/cln025-\u001b[39m\u001b[38;5;132;01m{\u001b[39;00mmethod\u001b[38;5;132;01m}\u001b[39;00m\u001b[38;5;124m/samples_md_equil.pdb\u001b[39m\u001b[38;5;124m\"\u001b[39m\n\u001b[0;32m----> 4\u001b[0m traj \u001b[38;5;241m=\u001b[39m \u001b[43mmd\u001b[49m\u001b[38;5;241;43m.\u001b[39;49m\u001b[43mload\u001b[49m\u001b[43m(\u001b[49m\u001b[43mxtc_path\u001b[49m\u001b[43m,\u001b[49m\u001b[43m \u001b[49m\u001b[43mtop\u001b[49m\u001b[38;5;241;43m=\u001b[39;49m\u001b[43mpdb_path\u001b[49m\u001b[43m)\u001b[49m\n\u001b[1;32m      5\u001b[0m \u001b[38;5;28mprint\u001b[39m(traj)\n\u001b[1;32m      7\u001b[0m view \u001b[38;5;241m=\u001b[39m nv\u001b[38;5;241m.\u001b[39mshow_mdtraj(traj)\n",
      "File \u001b[0;32m~/.conda/envs/bioemu4/lib/python3.10/site-packages/mdtraj/core/trajectory.py:398\u001b[0m, in \u001b[0;36mload\u001b[0;34m(filename_or_filenames, discard_overlapping_frames, **kwargs)\u001b[0m\n\u001b[1;32m    396\u001b[0m \u001b[38;5;28;01mif\u001b[39;00m top \u001b[38;5;129;01mis\u001b[39;00m \u001b[38;5;28;01mNone\u001b[39;00m:\n\u001b[1;32m    397\u001b[0m     top \u001b[38;5;241m=\u001b[39m filename_or_filenames[\u001b[38;5;241m0\u001b[39m]\n\u001b[0;32m--> 398\u001b[0m kwargs[\u001b[38;5;124m\"\u001b[39m\u001b[38;5;124mtop\u001b[39m\u001b[38;5;124m\"\u001b[39m] \u001b[38;5;241m=\u001b[39m \u001b[43m_parse_topology\u001b[49m\u001b[43m(\u001b[49m\u001b[43mtop\u001b[49m\u001b[43m,\u001b[49m\u001b[43m \u001b[49m\u001b[38;5;241;43m*\u001b[39;49m\u001b[38;5;241;43m*\u001b[39;49m\u001b[43mtopkwargs\u001b[49m\u001b[43m)\u001b[49m\n\u001b[1;32m    400\u001b[0m \u001b[38;5;66;03m# get the right loader\u001b[39;00m\n\u001b[1;32m    401\u001b[0m \u001b[38;5;28;01mtry\u001b[39;00m:\n\u001b[1;32m    402\u001b[0m     \u001b[38;5;66;03m# loader = _LoaderRegistry[extension][0]\u001b[39;00m\n",
      "File \u001b[0;32m~/.conda/envs/bioemu4/lib/python3.10/site-packages/mdtraj/core/trajectory.py:169\u001b[0m, in \u001b[0;36m_parse_topology\u001b[0;34m(top, **kwargs)\u001b[0m\n\u001b[1;32m    167\u001b[0m     topology \u001b[38;5;241m=\u001b[39m top\u001b[38;5;241m.\u001b[39mtopology\n\u001b[1;32m    168\u001b[0m \u001b[38;5;28;01melif\u001b[39;00m \u001b[38;5;28misinstance\u001b[39m(top, (\u001b[38;5;28mstr\u001b[39m, os\u001b[38;5;241m.\u001b[39mPathLike)) \u001b[38;5;129;01mand\u001b[39;00m (ext \u001b[38;5;129;01min\u001b[39;00m [\u001b[38;5;124m\"\u001b[39m\u001b[38;5;124m.pdb\u001b[39m\u001b[38;5;124m\"\u001b[39m, \u001b[38;5;124m\"\u001b[39m\u001b[38;5;124m.pdb.gz\u001b[39m\u001b[38;5;124m\"\u001b[39m, \u001b[38;5;124m\"\u001b[39m\u001b[38;5;124m.pdbx\u001b[39m\u001b[38;5;124m\"\u001b[39m, \u001b[38;5;124m\"\u001b[39m\u001b[38;5;124m.cif\u001b[39m\u001b[38;5;124m\"\u001b[39m, \u001b[38;5;124m\"\u001b[39m\u001b[38;5;124m.h5\u001b[39m\u001b[38;5;124m\"\u001b[39m, \u001b[38;5;124m\"\u001b[39m\u001b[38;5;124m.lh5\u001b[39m\u001b[38;5;124m\"\u001b[39m]):\n\u001b[0;32m--> 169\u001b[0m     _traj \u001b[38;5;241m=\u001b[39m \u001b[43mload_frame\u001b[49m\u001b[43m(\u001b[49m\u001b[43mtop\u001b[49m\u001b[43m,\u001b[49m\u001b[43m \u001b[49m\u001b[38;5;241;43m0\u001b[39;49m\u001b[43m,\u001b[49m\u001b[43m \u001b[49m\u001b[38;5;241;43m*\u001b[39;49m\u001b[38;5;241;43m*\u001b[39;49m\u001b[43mkwargs\u001b[49m\u001b[43m)\u001b[49m\n\u001b[1;32m    170\u001b[0m     topology \u001b[38;5;241m=\u001b[39m _traj\u001b[38;5;241m.\u001b[39mtopology\n\u001b[1;32m    171\u001b[0m \u001b[38;5;28;01melif\u001b[39;00m \u001b[38;5;28misinstance\u001b[39m(top, (\u001b[38;5;28mstr\u001b[39m, os\u001b[38;5;241m.\u001b[39mPathLike)) \u001b[38;5;129;01mand\u001b[39;00m (ext \u001b[38;5;129;01min\u001b[39;00m [\u001b[38;5;124m\"\u001b[39m\u001b[38;5;124m.prmtop\u001b[39m\u001b[38;5;124m\"\u001b[39m, \u001b[38;5;124m\"\u001b[39m\u001b[38;5;124m.parm7\u001b[39m\u001b[38;5;124m\"\u001b[39m, \u001b[38;5;124m\"\u001b[39m\u001b[38;5;124m.prm7\u001b[39m\u001b[38;5;124m\"\u001b[39m]):\n",
      "File \u001b[0;32m~/.conda/envs/bioemu4/lib/python3.10/site-packages/mdtraj/core/trajectory.py:308\u001b[0m, in \u001b[0;36mload_frame\u001b[0;34m(filename, index, top, atom_indices, **kwargs)\u001b[0m\n\u001b[1;32m    305\u001b[0m     kwargs[\u001b[38;5;124m\"\u001b[39m\u001b[38;5;124mtop\u001b[39m\u001b[38;5;124m\"\u001b[39m] \u001b[38;5;241m=\u001b[39m top\n\u001b[1;32m    307\u001b[0m \u001b[38;5;28;01mif\u001b[39;00m loader\u001b[38;5;241m.\u001b[39m\u001b[38;5;18m__name__\u001b[39m \u001b[38;5;129;01mnot\u001b[39;00m \u001b[38;5;129;01min\u001b[39;00m [\u001b[38;5;124m\"\u001b[39m\u001b[38;5;124mload_dtr\u001b[39m\u001b[38;5;124m\"\u001b[39m]:\n\u001b[0;32m--> 308\u001b[0m     \u001b[43m_assert_files_exist\u001b[49m\u001b[43m(\u001b[49m\u001b[43mfilename\u001b[49m\u001b[43m)\u001b[49m\n\u001b[1;32m    309\u001b[0m \u001b[38;5;28;01melse\u001b[39;00m:\n\u001b[1;32m    310\u001b[0m     _assert_files_or_dirs_exist(filename)\n",
      "File \u001b[0;32m~/.conda/envs/bioemu4/lib/python3.10/site-packages/mdtraj/core/trajectory.py:107\u001b[0m, in \u001b[0;36m_assert_files_exist\u001b[0;34m(filenames)\u001b[0m\n\u001b[1;32m    105\u001b[0m \u001b[38;5;28;01mfor\u001b[39;00m fn \u001b[38;5;129;01min\u001b[39;00m filenames:\n\u001b[1;32m    106\u001b[0m     \u001b[38;5;28;01mif\u001b[39;00m \u001b[38;5;129;01mnot\u001b[39;00m (os\u001b[38;5;241m.\u001b[39mpath\u001b[38;5;241m.\u001b[39mexists(fn) \u001b[38;5;129;01mand\u001b[39;00m os\u001b[38;5;241m.\u001b[39mpath\u001b[38;5;241m.\u001b[39misfile(fn)):\n\u001b[0;32m--> 107\u001b[0m         \u001b[38;5;28;01mraise\u001b[39;00m \u001b[38;5;167;01mOSError\u001b[39;00m(\u001b[38;5;124m\"\u001b[39m\u001b[38;5;124mNo such file: \u001b[39m\u001b[38;5;132;01m%s\u001b[39;00m\u001b[38;5;124m\"\u001b[39m \u001b[38;5;241m%\u001b[39m fn)\n",
      "\u001b[0;31mOSError\u001b[0m: No such file: /home/shpark/prj-mlcv/lib/bioemu/res/cln025-ours-0716_221151_unfiltered/samples_md_equil.pdb"
     ]
    }
   ],
   "source": [
    "xtc_path = f\"/home/shpark/prj-mlcv/lib/bioemu/res/cln025-{method}/samples_md_equil.xtc\"\n",
    "pdb_path = f\"/home/shpark/prj-mlcv/lib/bioemu/res/cln025-{method}/samples_md_equil.pdb\"\n",
    "\n",
    "traj = md.load(xtc_path, top=pdb_path)\n",
    "print(traj)\n",
    "\n",
    "view = nv.show_mdtraj(traj)\n",
    "view.add_representation(\"licorice\", selection=\"protein\")\n",
    "view"
   ]
  },
  {
   "cell_type": "code",
   "execution_count": 59,
   "metadata": {},
   "outputs": [],
   "source": [
    "view.frame = 0"
   ]
  },
  {
   "cell_type": "code",
   "execution_count": null,
   "metadata": {},
   "outputs": [],
   "source": []
  }
 ],
 "metadata": {
  "kernelspec": {
   "display_name": "bioemu",
   "language": "python",
   "name": "python3"
  },
  "language_info": {
   "codemirror_mode": {
    "name": "ipython",
    "version": 3
   },
   "file_extension": ".py",
   "mimetype": "text/x-python",
   "name": "python",
   "nbconvert_exporter": "python",
   "pygments_lexer": "ipython3",
   "version": "3.10.18"
  }
 },
 "nbformat": 4,
 "nbformat_minor": 2
}
