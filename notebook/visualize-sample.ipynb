{
 "cells": [
  {
   "cell_type": "code",
   "execution_count": 1,
   "metadata": {},
   "outputs": [
    {
     "data": {
      "application/vnd.jupyter.widget-view+json": {
       "model_id": "c1c6511e7e2c40e0b1b17248aa03fdfe",
       "version_major": 2,
       "version_minor": 0
      },
      "text/plain": []
     },
     "metadata": {},
     "output_type": "display_data"
    }
   ],
   "source": [
    "import numpy as np\n",
    "import mdtraj as md\n",
    "import nglview as nv"
   ]
  },
  {
   "cell_type": "markdown",
   "metadata": {},
   "source": [
    "# Data"
   ]
  },
  {
   "cell_type": "code",
   "execution_count": 2,
   "metadata": {},
   "outputs": [
    {
     "data": {
      "application/vnd.jupyter.widget-view+json": {
       "model_id": "77f56bbe09324b9baf53b99d9b67d20a",
       "version_major": 2,
       "version_minor": 0
      },
      "text/plain": [
       "NGLWidget()"
      ]
     },
     "metadata": {},
     "output_type": "display_data"
    }
   ],
   "source": [
    "\n",
    "pdb_path = f\"/home/shpark/prj-mlcv/lib/DESRES/data/CLN025_desres.pdb\"\n",
    "traj_pdb = md.load_pdb(pdb_path)\n",
    "\n",
    "view_pdb = nv.show_mdtraj(traj_pdb)\n",
    "view_pdb\n",
    "\n",
    "\n",
    "view_pdb.clear_representations()\n",
    "# view_pdb.add_representation(\"ball+stick\", selection=\"not hydrogen\")\n",
    "# view_pdb.add_representation(\"licorice\", selection=\"not hydrogen\")\n",
    "view_pdb.add_representation(\"licorice\", selection=\"protein\")\n",
    "view_pdb"
   ]
  },
  {
   "cell_type": "markdown",
   "metadata": {},
   "source": [
    "# Samples"
   ]
  },
  {
   "cell_type": "code",
   "execution_count": 3,
   "metadata": {},
   "outputs": [
    {
     "name": "stdout",
     "output_type": "stream",
     "text": [
      "<mdtraj.Trajectory with 100 frames, 92 atoms, 10 residues, without unitcells>\n"
     ]
    },
    {
     "data": {
      "application/vnd.jupyter.widget-view+json": {
       "model_id": "66e51547d4dd41bf836e23be05e767f3",
       "version_major": 2,
       "version_minor": 0
      },
      "text/plain": [
       "NGLWidget(max_frame=99)"
      ]
     },
     "metadata": {},
     "output_type": "display_data"
    }
   ],
   "source": [
    "date = \"0729_091523/1bond\"\n",
    "\n",
    "xtc_path = f\"/home/shpark/prj-mlcv/lib/bioemu/res/cln025/{date}/samples.xtc\"\n",
    "pdb_path = f\"/home/shpark/prj-mlcv/lib/bioemu/res/cln025/{date}/topology.pdb\"\n",
    "reconstructed_xtc_path = f\"/home/shpark/prj-mlcv/lib/bioemu/res/cln025/{date}/samples_sidechain_rec.xtc\"\n",
    "reconstructed_pdb_path = f\"/home/shpark/prj-mlcv/lib/bioemu/res/cln025/{date}/samples_sidechain_rec.pdb\"\n",
    "\n",
    "traj = md.load(reconstructed_xtc_path, top=reconstructed_pdb_path)\n",
    "print(traj)\n",
    "\n",
    "view = nv.show_mdtraj(traj)\n",
    "view.add_representation(\"licorice\", selection=\"protein\")\n",
    "# view.add_representation(\"licorice\", selection=\"not hydrogen\")\n",
    "view"
   ]
  },
  {
   "cell_type": "code",
   "execution_count": 9,
   "metadata": {},
   "outputs": [
    {
     "name": "stdout",
     "output_type": "stream",
     "text": [
      "<mdtraj.Trajectory with 100 frames, 93 atoms, 10 residues, without unitcells>\n"
     ]
    },
    {
     "data": {
      "application/vnd.jupyter.widget-view+json": {
       "model_id": "8daf1a69989e4230a487683b0b3d3917",
       "version_major": 2,
       "version_minor": 0
      },
      "text/plain": [
       "NGLWidget(max_frame=99)"
      ]
     },
     "metadata": {},
     "output_type": "display_data"
    }
   ],
   "source": [
    "xtc_path = f\"/home/shpark/prj-mlcv/lib/bioemu/res/cln025/{date}/samples_md_equil.xtc\"\n",
    "pdb_path = f\"/home/shpark/prj-mlcv/lib/bioemu/res/cln025/{date}/samples_md_equil.pdb\"\n",
    "\n",
    "traj = md.load(xtc_path, top=pdb_path)\n",
    "print(traj)\n",
    "\n",
    "view = nv.show_mdtraj(traj)\n",
    "view.add_representation(\"licorice\", selection=\"protein\")\n",
    "view"
   ]
  },
  {
   "cell_type": "code",
   "execution_count": 10,
   "metadata": {},
   "outputs": [],
   "source": [
    "view.frame = 25"
   ]
  },
  {
   "cell_type": "code",
   "execution_count": null,
   "metadata": {},
   "outputs": [
    {
     "data": {
      "application/vnd.jupyter.widget-view+json": {
       "model_id": "8916e24673764dde9f99d2d5b0b6b7fa",
       "version_major": 2,
       "version_minor": 0
      },
      "text/plain": [
       "NGLWidget()"
      ]
     },
     "metadata": {},
     "output_type": "display_data"
    }
   ],
   "source": [
    "condition_pdb = \"/home/shpark/prj-mlcv/lib/DESRES/data/6bond.pdb\"\n",
    "\n",
    "condition_pdb_traj = md.load_pdb(condition_pdb)\n",
    "condition_pdb_view = nv.show_mdtraj(condition_pdb_traj)\n",
    "condition_pdb_view.add_representation(\"licorice\", selection=\"protein\")\n",
    "condition_pdb_view"
   ]
  },
  {
   "cell_type": "code",
   "execution_count": null,
   "metadata": {},
   "outputs": [],
   "source": []
  }
 ],
 "metadata": {
  "kernelspec": {
   "display_name": "bioemu4",
   "language": "python",
   "name": "python3"
  },
  "language_info": {
   "codemirror_mode": {
    "name": "ipython",
    "version": 3
   },
   "file_extension": ".py",
   "mimetype": "text/x-python",
   "name": "python",
   "nbconvert_exporter": "python",
   "pygments_lexer": "ipython3",
   "version": "3.10.18"
  }
 },
 "nbformat": 4,
 "nbformat_minor": 2
}
