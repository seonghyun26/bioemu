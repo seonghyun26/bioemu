{
 "cells": [
  {
   "cell_type": "code",
   "execution_count": 3,
   "id": "ce29b0fd",
   "metadata": {},
   "outputs": [
    {
     "data": {
      "application/vnd.jupyter.widget-view+json": {
       "model_id": "538a4c3a72f24f74b010dc1f05c8df54",
       "version_major": 2,
       "version_minor": 0
      },
      "text/plain": []
     },
     "metadata": {},
     "output_type": "display_data"
    }
   ],
   "source": [
    "import torch\n",
    "import mdtraj as md\n",
    "import nglview as nv"
   ]
  },
  {
   "cell_type": "code",
   "execution_count": 7,
   "id": "7d5e444f",
   "metadata": {},
   "outputs": [
    {
     "name": "stdout",
     "output_type": "stream",
     "text": [
      "torch.Size([10, 3])\n",
      "torch.Size([45])\n"
     ]
    }
   ],
   "source": [
    "generated_pos = torch.load(\"../generated_pos.pt\")\n",
    "target_pos = torch.load(\"../target_pos.pt\")\n",
    "\n",
    "print(generated_pos.shape)\n",
    "print(target_pos.shape)"
   ]
  },
  {
   "cell_type": "code",
   "execution_count": 5,
   "id": "952bde01",
   "metadata": {},
   "outputs": [
    {
     "name": "stdout",
     "output_type": "stream",
     "text": [
      "tensor([0.5466, 0.5889, 0.7998, 0.7716, 0.8404, 1.1195, 0.8404, 0.6602, 0.5564,\n",
      "        0.5671, 0.6299, 0.6431, 0.3992, 0.6791, 0.5585, 0.5617, 0.3713, 0.2421,\n",
      "        0.2364, 0.6140, 0.9916, 0.9943, 0.9906, 0.8712, 0.0969, 0.5240, 0.8917,\n",
      "        1.0141, 1.0795, 0.9823, 0.5303, 0.8851, 0.9889, 1.0507, 0.9835, 0.3903,\n",
      "        0.5775, 0.7481, 0.7166, 0.4940, 0.7764, 0.8651, 0.3005, 0.5285, 0.3729],\n",
      "       device='cuda:0', grad_fn=<IndexBackward0>)\n"
     ]
    }
   ],
   "source": [
    "generated_ca_pair_distances = torch.cdist(generated_pos, generated_pos, p=2)\n",
    "n = generated_ca_pair_distances.shape[0]\n",
    "i, j = torch.triu_indices(n, n, offset=1)\n",
    "generated_ca_distances = generated_ca_pair_distances[i, j]\n",
    "print(generated_ca_distances)"
   ]
  },
  {
   "cell_type": "code",
   "execution_count": 9,
   "id": "ab348a6c",
   "metadata": {},
   "outputs": [
    {
     "data": {
      "text/plain": [
       "tensor([0.1675, 0.0833, 0.1775, 0.4473, 0.3542, 0.0731, 0.0010, 0.0467, 0.0787,\n",
       "        0.1877, 0.0076, 0.2552, 0.4862, 0.0128, 0.0143, 0.0795, 0.1983, 0.1399,\n",
       "        0.3104, 0.0189, 0.4477, 0.4426, 0.2921, 0.1111, 0.2898, 0.0503, 0.4326,\n",
       "        0.3160, 0.1667, 0.1058, 0.1473, 0.3329, 0.1888, 0.0622, 0.2531, 0.0080,\n",
       "        0.0277, 0.1751, 0.3496, 0.1214, 0.0784, 0.0937, 0.0871, 0.0950, 0.0150],\n",
       "       device='cuda:0', grad_fn=<AbsBackward0>)"
      ]
     },
     "execution_count": 9,
     "metadata": {},
     "output_type": "execute_result"
    }
   ],
   "source": [
    "(generated_ca_distances - target_pos).abs()"
   ]
  },
  {
   "cell_type": "code",
   "execution_count": null,
   "id": "9a5f22e3",
   "metadata": {},
   "outputs": [],
   "source": []
  }
 ],
 "metadata": {
  "kernelspec": {
   "display_name": "bioemu",
   "language": "python",
   "name": "python3"
  },
  "language_info": {
   "codemirror_mode": {
    "name": "ipython",
    "version": 3
   },
   "file_extension": ".py",
   "mimetype": "text/x-python",
   "name": "python",
   "nbconvert_exporter": "python",
   "pygments_lexer": "ipython3",
   "version": "3.10.18"
  }
 },
 "nbformat": 4,
 "nbformat_minor": 5
}
