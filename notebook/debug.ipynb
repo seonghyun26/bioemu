{
 "cells": [
  {
   "cell_type": "code",
   "execution_count": 1,
   "id": "ce29b0fd",
   "metadata": {},
   "outputs": [
    {
     "data": {
      "application/vnd.jupyter.widget-view+json": {
       "model_id": "b637643330704262bb602fc2c7377dd6",
       "version_major": 2,
       "version_minor": 0
      },
      "text/plain": []
     },
     "metadata": {},
     "output_type": "display_data"
    }
   ],
   "source": [
    "import torch\n",
    "import mdtraj as md\n",
    "import nglview as nv"
   ]
  },
  {
   "cell_type": "code",
   "execution_count": 6,
   "id": "04b9af71",
   "metadata": {},
   "outputs": [
    {
     "name": "stdout",
     "output_type": "stream",
     "text": [
      "torch.Size([1280, 3])\n",
      "torch.Size([1280, 3, 3])\n"
     ]
    }
   ],
   "source": [
    "pos = torch.load(\"../pos.pt\")\n",
    "node_orientations = torch.load(\"../node_orientations.pt\")\n",
    "\n",
    "print(pos.shape)\n",
    "print(node_orientations.shape)"
   ]
  },
  {
   "cell_type": "code",
   "execution_count": 8,
   "id": "3921f56a",
   "metadata": {},
   "outputs": [
    {
     "name": "stdout",
     "output_type": "stream",
     "text": [
      "torch.Size([10, 3])\n",
      "torch.Size([10, 3, 3])\n"
     ]
    }
   ],
   "source": [
    "pos_ex = pos[:10]\n",
    "node_ex = node_orientations[:10]\n",
    "\n",
    "print(pos_ex.shape)\n",
    "print(node_ex.shape)"
   ]
  },
  {
   "cell_type": "code",
   "execution_count": null,
   "id": "b931d51f",
   "metadata": {},
   "outputs": [],
   "source": []
  }
 ],
 "metadata": {
  "kernelspec": {
   "display_name": "bioemu",
   "language": "python",
   "name": "python3"
  },
  "language_info": {
   "codemirror_mode": {
    "name": "ipython",
    "version": 3
   },
   "file_extension": ".py",
   "mimetype": "text/x-python",
   "name": "python",
   "nbconvert_exporter": "python",
   "pygments_lexer": "ipython3",
   "version": "3.10.18"
  }
 },
 "nbformat": 4,
 "nbformat_minor": 5
}
