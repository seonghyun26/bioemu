{
 "cells": [
  {
   "cell_type": "code",
   "execution_count": 4,
   "id": "17672514",
   "metadata": {},
   "outputs": [],
   "source": [
    "import subprocess\n",
    "\n",
    "import mdtraj as md"
   ]
  },
  {
   "cell_type": "code",
   "execution_count": 7,
   "id": "f3aeec16",
   "metadata": {},
   "outputs": [],
   "source": [
    "traj = md.load(\"../data/2F4K/2F4K_from_mae2.pdb\")\n",
    "traj.save_gro(\"../data/2F4K/folded2.gro\")"
   ]
  },
  {
   "cell_type": "code",
   "execution_count": null,
   "id": "7ab3214e",
   "metadata": {
    "vscode": {
     "languageId": "shellscript"
    }
   },
   "outputs": [],
   "source": [
    "gmx grompp -f test.mdp -c 2JOF/folded.gro -p 2JOF/topol.top -o 2jof.tpr\n",
    "\n",
    "gmx pdb2gmx -f 2JOF/folded.pdb -o structure.gro -p topol.top\n",
    "\n",
    "gmx pdb2gmx -f 2JOF/folded.pdb -o 2JOF/folded.gro -p 2JOF/topol.top -ff amber99sb-ildn -water tip3p\n",
    "\n",
    "gmx grompp -f 2JOF/2jof.mdp -c 2JOF/folded.gro -p 2JOF/topol.top -o 2jof.tpr\n",
    "gmx grompp -f test.mdp -c 2JOF/folded.gro -p 2JOF/topol.top -o 2jof.tpr"
   ]
  },
  {
   "cell_type": "code",
   "execution_count": null,
   "id": "054e77fc",
   "metadata": {
    "vscode": {
     "languageId": "shellscript"
    }
   },
   "outputs": [],
   "source": [
    "# Create topology file\n",
    "gmx pdb2gmx -f 2F4K/2F4K_from_mae2.pdb -o 2F4K/folded2.gro -p 2F4K/topol.top -ignh\n",
    "\n",
    "gmx grompp -f test.mdp -c 2F4K/folded.gro -p 2F4K/topol.top -o 2jof.tpr\n",
    "\n",
    "gmx pdb2gmx -f 2F4K/folded.pdb -o 2F4K/folded.gro -p 2F4K/topol.top -ff amber99sb-ildn -water tip3p\n",
    "\n",
    "gmx grompp -f 2F4K/2jof.mdp -c 2F4K/folded.gro -p 2F4K/topol.top -o 2f4k.tpr\n",
    "gmx grompp -f test.mdp -c 2F4K/folded.gro -p 2F4K/topol.top -o 2f4k.tpr"
   ]
  },
  {
   "cell_type": "code",
   "execution_count": null,
   "id": "2c448bc2",
   "metadata": {},
   "outputs": [],
   "source": [
    "1.79071   2.10721   1.56292"
   ]
  }
 ],
 "metadata": {
  "kernelspec": {
   "display_name": "bioemu",
   "language": "python",
   "name": "python3"
  },
  "language_info": {
   "codemirror_mode": {
    "name": "ipython",
    "version": 3
   },
   "file_extension": ".py",
   "mimetype": "text/x-python",
   "name": "python",
   "nbconvert_exporter": "python",
   "pygments_lexer": "ipython3",
   "version": "3.10.18"
  }
 },
 "nbformat": 4,
 "nbformat_minor": 5
}
