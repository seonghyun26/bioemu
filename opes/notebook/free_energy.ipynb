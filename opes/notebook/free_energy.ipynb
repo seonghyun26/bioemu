{
 "cells": [
  {
   "cell_type": "code",
   "execution_count": 2,
   "id": "6e03be95",
   "metadata": {},
   "outputs": [
    {
     "data": {
      "application/vnd.jupyter.widget-view+json": {
       "model_id": "d050eddacaff49349dd30785af9ba798",
       "version_major": 2,
       "version_minor": 0
      },
      "text/plain": []
     },
     "metadata": {},
     "output_type": "display_data"
    }
   ],
   "source": [
    "import math\n",
    "import torch\n",
    "import mdtraj as md\n",
    "import nglview as nv\n",
    "import numpy as np\n",
    "\n",
    "from tqdm import tqdm\n",
    "from pathlib import Path\n",
    "from matplotlib import pyplot as plt\n",
    "\n",
    "from adaptive_sampling.processing_tools import mbar\n",
    "from adaptive_sampling.processing_tools.utils import DeltaF_fromweights"
   ]
  },
  {
   "cell_type": "code",
   "execution_count": 13,
   "id": "336f8b44",
   "metadata": {},
   "outputs": [],
   "source": [
    "# UNITS\n",
    "\n",
    "# conversions\n",
    "J_to_atomic = 1.0 / 4.359744e-18\n",
    "atomic_to_kJmol = 2625.499639\n",
    "kJ_to_kcal = 0.239006\n",
    "atomic_to_K = 315775.04e0\n",
    "BOHR_to_ANGSTROM = 0.52917721092e0\n",
    "BOHR_to_NANOMETER = BOHR_to_ANGSTROM / 10.0\n",
    "DEGREES_per_RADIAN = 180.0 / math.pi\n",
    "atomic_to_kg = 1.66054e-27\n",
    "atomic_to_fs = 1.0327503e0\n",
    "atomic_to_bar = 2.9421912e8\n",
    "\n",
    "# constants\n",
    "kB_in_SI = 1.380648e-23\n",
    "R_in_SI = 8.314\n",
    "kB_in_atomic = kB_in_SI * J_to_atomic\n",
    "h_in_SI = 6.62607004e-34\n",
    "\n",
    "blue = (70 / 255, 110 / 255, 250 / 255)"
   ]
  },
  {
   "cell_type": "code",
   "execution_count": 4,
   "id": "b2ec1ecf",
   "metadata": {},
   "outputs": [],
   "source": [
    "# OURS\n",
    "molecule = \"cln025\"\n",
    "seed = \"0\"\n",
    "method = \"ours\"\n",
    "date = \"0830_162145\"\n",
    "\n",
    "# TDA\n",
    "# molecule = \"cln025\"\n",
    "# seed = \"0\"\n",
    "# method = \"tda\"\n",
    "# date = \"0827_081656\"\n",
    "\n",
    "simulation_dir = Path(f\"/home/shpark/prj-mlcv/lib/bioemu/opes/simulations/{molecule}/{method}/{date}\")\n",
    "traj_path = simulation_dir / \"analysis\" / f\"{seed}_tc.xtc\"\n",
    "gro_path = simulation_dir / f\"{seed}.gro\""
   ]
  },
  {
   "cell_type": "markdown",
   "id": "39257627",
   "metadata": {},
   "source": [
    "# Load Trajectory"
   ]
  },
  {
   "cell_type": "code",
   "execution_count": 19,
   "id": "41201cc7",
   "metadata": {},
   "outputs": [
    {
     "name": "stdout",
     "output_type": "stream",
     "text": [
      "<mdtraj.Trajectory with 120001 frames, 166 atoms, 10 residues, and unitcells>\n"
     ]
    }
   ],
   "source": [
    "# gro_protein_idx = md.load(gro_path).topology.select(\"protein\")\n",
    "traj = md.load_xtc(\n",
    "    traj_path,\n",
    "    top=\"/home/shpark/prj-mlcv/lib/bioemu/opes/data/CLN025/folded.pdb\",\n",
    "    # atom_indices=gro_protein_idx\n",
    ")\n",
    "traj.center_coordinates()\n",
    "print(traj)"
   ]
  },
  {
   "cell_type": "code",
   "execution_count": 20,
   "id": "325051af",
   "metadata": {},
   "outputs": [
    {
     "data": {
      "application/vnd.jupyter.widget-view+json": {
       "model_id": "7f2f30d341984611a25bc81bc59f0c7e",
       "version_major": 2,
       "version_minor": 0
      },
      "text/plain": [
       "NGLWidget(max_frame=120000)"
      ]
     },
     "metadata": {},
     "output_type": "display_data"
    }
   ],
   "source": [
    "view = nv.show_mdtraj(traj)\n",
    "view.add_representation(\"licorice\", selection=\"protein\")\n",
    "view"
   ]
  },
  {
   "cell_type": "code",
   "execution_count": 21,
   "id": "bd2cc1bd",
   "metadata": {},
   "outputs": [],
   "source": [
    "view.frame = 1"
   ]
  },
  {
   "cell_type": "markdown",
   "id": "6b9aa751",
   "metadata": {},
   "source": [
    "# Energy"
   ]
  },
  {
   "cell_type": "markdown",
   "id": "152452a1",
   "metadata": {},
   "source": [
    "### 5. Delta F and PMF calculation\n",
    "We also provide a single example for the case mentioned above.\n",
    "We followed the metadynamics grid range and sigma values for each CV from Table S1 in the SI.\n",
    "Note that we are printing to the `COLVAR` file every 1000 steps (2 ps), so `--skip-steps` of 50000 corresponds to 100 ns.\n",
    "```bash\n",
    "python scripts/compute_pmf.py \\\n",
    "    --colvar-file simulations/enhanced/TDA/nvt_0/COLVAR \\\n",
    "    --cv-thresh -8.5 8.5 \\\n",
    "    --sigma 0.20 \\\n",
    "    --skip-steps 50000 \\\n",
    "    --save-path simulations/enhanced/TDA/nvt_0\n",
    "```\n",
    "This script will generate two files in the `--save-path` directory:\n",
    "- `Delta_Fs.log` contains the time (in ns) and the delta F value (in kJ/mol) at each time point.\n",
    "- `pmf.log` contains the CV grid and the PMF value (in kJ/mol) at each grid point."
   ]
  },
  {
   "cell_type": "code",
   "execution_count": 21,
   "id": "82aff19a",
   "metadata": {},
   "outputs": [],
   "source": [
    "# Load and predefine components\n",
    "cv_min = -1\n",
    "cv_max = 1\n",
    "cv_avg = (cv_max + cv_min) / 2\n",
    "cv_thresh = [\n",
    "    cv_min,\n",
    "    cv_avg,\n",
    "    cv_max,\n",
    "]\n",
    "\n",
    "sigma = 0.20\n",
    "equil_temp = 340\n",
    "ns_per_step = 0.002\n",
    "unit_steps = 2500\n",
    "skip_steps = 5000\n",
    "\n",
    "save_path = Path(f\"{simulation_dir}/{seed}\")\n",
    "colvar_path = Path(f\"{simulation_dir}/{seed}/COLVAR\")"
   ]
  },
  {
   "cell_type": "markdown",
   "id": "193c58af",
   "metadata": {},
   "source": [
    "## Delta F"
   ]
  },
  {
   "cell_type": "markdown",
   "id": "13782ab6",
   "metadata": {},
   "source": [
    "### Library"
   ]
  },
  {
   "cell_type": "code",
   "execution_count": 22,
   "id": "19f796be",
   "metadata": {},
   "outputs": [
    {
     "name": "stdout",
     "output_type": "stream",
     "text": [
      "< Trajectory information >\n",
      "- Total steps: 200001\n",
      "- Skip steps: 5000\n",
      "- Unit steps: 2500\n"
     ]
    }
   ],
   "source": [
    "# Load the normal and extended system trajectory (COLVAR file)\n",
    "traj_dat = np.genfromtxt(colvar_path, skip_header=1)\n",
    "time = traj_dat[:, 0]\n",
    "cv = traj_dat[:, 1]\n",
    "bias = traj_dat[:, 2]\n",
    "total_steps = len(traj_dat)\n",
    "step_grid = np.arange(\n",
    "    skip_steps + unit_steps, total_steps + 1, unit_steps\n",
    ")\n",
    "\n",
    "print(\"< Trajectory information >\")\n",
    "print(f\"- Total steps: {total_steps}\")\n",
    "print(f\"- Skip steps: {skip_steps}\")\n",
    "print(f\"- Unit steps: {unit_steps}\")"
   ]
  },
  {
   "cell_type": "code",
   "execution_count": 23,
   "id": "e34cafc5",
   "metadata": {},
   "outputs": [
    {
     "name": "stdout",
     "output_type": "stream",
     "text": [
      "[  7500  10000  12500  15000  17500  20000  22500  25000  27500  30000\n",
      "  32500  35000  37500  40000  42500  45000  47500  50000  52500  55000\n",
      "  57500  60000  62500  65000  67500  70000  72500  75000  77500  80000\n",
      "  82500  85000  87500  90000  92500  95000  97500 100000 102500 105000\n",
      " 107500 110000 112500 115000 117500 120000 122500 125000 127500 130000\n",
      " 132500 135000 137500 140000 142500 145000 147500 150000 152500 155000\n",
      " 157500 160000 162500 165000 167500 170000 172500 175000 177500 180000\n",
      " 182500 185000 187500 190000 192500 195000 197500 200000]\n",
      "[-0.995803 -0.795803 -0.595803 -0.395803 -0.195803  0.004197  0.204197\n",
      "  0.404197  0.604197  0.804197  1.004197]\n"
     ]
    }
   ],
   "source": [
    "R = 0.008314462618  # kJ/mol/K\n",
    "beta = 1.0 / (R * equil_temp)\n",
    "W = np.exp(beta * bias)  \n",
    "cv_grid = np.arange(cv.min(), cv.max() + sigma / 2, sigma)\n",
    "\n",
    "print(step_grid)\n",
    "print(cv_grid)"
   ]
  },
  {
   "cell_type": "code",
   "execution_count": 24,
   "id": "030aad00",
   "metadata": {},
   "outputs": [
    {
     "name": "stdout",
     "output_type": "stream",
     "text": [
      "Free energy difference: -5.558 kJ/mol\n"
     ]
    }
   ],
   "source": [
    "# Constants\n",
    "R = 8.314462618  # J/mol·K\n",
    "T = 340.0  # Temperature in Kelvin\n",
    "RT = R * T / 1000.0  # RT in kJ/mol\n",
    "\n",
    "# Load OPES data (example: from COLVAR file)\n",
    "xi_traj = np.loadtxt(colvar_path, usecols=1)  # CV values\n",
    "opes_bias = np.loadtxt(colvar_path, usecols=2)  # OPES.bias values\n",
    "\n",
    "# Compute unbiased Boltzmann weights\n",
    "weights = np.exp(opes_bias / RT)\n",
    "weights /= weights.sum()  # Normalize weights\n",
    "\n",
    "# Define reactant, TS, and product regions\n",
    "cv_thresh = [-1.0, 0.0, 1.0]  # Example boundaries for R_min, TS, P_max\n",
    "\n",
    "# Compute free energy difference\n",
    "dA = DeltaF_fromweights(xi_traj, weights, cv_thresh, T=T)\n",
    "print(f\"Free energy difference: {dA:.3f} kJ/mol\")"
   ]
  },
  {
   "cell_type": "code",
   "execution_count": 25,
   "id": "3d7f19d3",
   "metadata": {},
   "outputs": [
    {
     "name": "stderr",
     "output_type": "stream",
     "text": [
      "100%|██████████| 78/78 [00:00<00:00, 1618.57it/s]\n"
     ]
    }
   ],
   "source": [
    "# Compute DeltaFs\n",
    "\n",
    "Delta_Fs = []\n",
    "for current_step in tqdm(step_grid):\n",
    "\tcv_t = cv[skip_steps:current_step]\n",
    "\tW_t  = W[skip_steps:current_step]\n",
    "\n",
    "\tDelta_F = DeltaF_fromweights(\n",
    "\t\txi_traj=cv_t,\n",
    "\t\tweights=W_t,\n",
    "\t\tcv_thresh=cv_thresh,\n",
    "\t\tT=equil_temp,\n",
    "\t)\n",
    "\tDelta_Fs.append(Delta_F)\n",
    "\n",
    "Delta_Fs = np.array(Delta_Fs)"
   ]
  },
  {
   "cell_type": "code",
   "execution_count": 26,
   "id": "543feb3c",
   "metadata": {},
   "outputs": [
    {
     "data": {
      "image/png": "[encoded data removed]",
      "text/plain": [
       "<Figure size 600x400 with 1 Axes>"
      ]
     },
     "metadata": {},
     "output_type": "display_data"
    }
   ],
   "source": [
    "time_points = step_grid * ns_per_step\n",
    "fig = plt.figure(figsize=(6, 4))\n",
    "ax = fig.add_subplot(111)\n",
    "plt.plot(\n",
    "    time_points, Delta_Fs,\n",
    "    color=blue, linewidth=2,\n",
    ")\n",
    "ax.xaxis.set_major_locator(plt.MaxNLocator(nbins=5))\n",
    "plt.xlabel(\"Time (ns)\", fontsize=12)\n",
    "plt.ylabel(\"Delta F (kJ/mol)\", fontsize=12)\n",
    "plt.xticks(fontsize=10)\n",
    "plt.yticks(fontsize=10)\n",
    "plt.tight_layout()\n",
    "plt.savefig(\"pmf.png\", dpi=300)\n",
    "plt.show()"
   ]
  },
  {
   "cell_type": "markdown",
   "id": "a6d261a1",
   "metadata": {},
   "source": [
    "## PMF"
   ]
  },
  {
   "cell_type": "code",
   "execution_count": 11,
   "id": "c14e4ffa",
   "metadata": {},
   "outputs": [],
   "source": [
    "# Compute PMF\n",
    "pmf, _ = mbar.pmf_from_weights(\n",
    "    cv_grid,\n",
    "    cv,\n",
    "    W,\n",
    "    equil_temp=equil_temp\n",
    ")\n",
    "pmf -= pmf.min()\n",
    "# np.savetxt(\"pmf.log\", [cv_grid, pmf], fmt=\"%.6f\")"
   ]
  },
  {
   "cell_type": "code",
   "execution_count": 18,
   "id": "c4641fa1",
   "metadata": {},
   "outputs": [
    {
     "data": {
      "image/png": "[encoded data removed]",
      "text/plain": [
       "<Figure size 600x400 with 1 Axes>"
      ]
     },
     "metadata": {},
     "output_type": "display_data"
    }
   ],
   "source": [
    "fig = plt.figure(figsize=(6, 4))\n",
    "ax = fig.add_subplot(111)\n",
    "plt.plot(\n",
    "    cv_grid, pmf,\n",
    "    color=blue, linewidth=2,\n",
    ")\n",
    "ax.xaxis.set_major_locator(plt.MaxNLocator(nbins=5))\n",
    "plt.xlabel(\"CV\", fontsize=12)\n",
    "plt.ylabel(\"PMF (kJ/mol)\", fontsize=12)\n",
    "plt.xticks(fontsize=10)\n",
    "plt.yticks(fontsize=10)\n",
    "plt.tight_layout()\n",
    "plt.savefig(\"pmf.png\", dpi=300)\n",
    "plt.show()"
   ]
  },
  {
   "cell_type": "markdown",
   "id": "5fc1ee59",
   "metadata": {},
   "source": [
    "# Fraction contact"
   ]
  },
  {
   "cell_type": "code",
   "execution_count": 2,
   "id": "bb459d41",
   "metadata": {},
   "outputs": [],
   "source": [
    "import numpy as np\n",
    "import mdtraj as md\n",
    "import matplotlib.pyplot as plt\n",
    "from typing import Optional, Sequence, Tuple, Union\n",
    "\n",
    "def plot_fractional_contacts_ffp(\n",
    "    traj_or_path: Union[str, md.Trajectory],\n",
    "    top_or_ref: Optional[Union[str, md.Trajectory]] = None,\n",
    "    *,\n",
    "    seq_separation: int = 7,          # long-range: |i-j| >= 7\n",
    "    ca_cutoff_A: float = 10.0,        # native if CA–CA <= 10 Å in the folded ref\n",
    "    require_fraction_in_folded: Optional[float] = None,\n",
    "    folded_mask: Optional[Sequence[bool]] = None,\n",
    "    beta_Ainv: float = 5.0,           # sharpness (1/Å); 5 Å^-1 is common\n",
    "    eta_A: float = 0.0,               # small shift (Å), set >0 to be lenient\n",
    "    balance_by_residue: bool = False, # if True, average per-residue first (optional variant)\n",
    "    ax: Optional[plt.Axes] = None,\n",
    "    label: Optional[str] = None,\n",
    "    save_path: Optional[str] = None,\n",
    "    show: bool = False,\n",
    ") -> Tuple[np.ndarray, np.ndarray, np.ndarray]:\n",
    "    \"\"\"\n",
    "    Fractional native contacts Q(t) per the Fast Folding Proteins paper (residue CA–CA contacts).\n",
    "\n",
    "    Contact set S:\n",
    "        - Use only Cα atoms (one per residue).\n",
    "        - Pairs with sequence separation >= `seq_separation`.\n",
    "        - Mark (i, j) native if CA–CA distance in the *folded reference* <= `ca_cutoff_A`.\n",
    "        - Optionally require that, among frames marked folded by `folded_mask`,\n",
    "          the pair is within `ca_cutoff_A` for at least `require_fraction_in_folded`\n",
    "          of those frames (e.g., 0.8 for “80% of time in folded state”).\n",
    "\n",
    "    Reaction coordinate:\n",
    "        Q(t) = [ Σ_i Σ_{j in native(i)} 1/(1 + exp(β (d_ij(t) - (d^0_ij + η)))) ] / [ Σ_i N_i ]\n",
    "\n",
    "        where d^0_ij is the CA–CA distance in the folded reference; N_i is the number\n",
    "        of native contacts of residue i. If `balance_by_residue=True`, compute\n",
    "        Q(t) = mean_i [ (1/N_i) Σ_{j in native(i)} sigmoid(...) ] which gives each residue\n",
    "        equal weight (optional variant).\n",
    "\n",
    "    Parameters\n",
    "    ----------\n",
    "    traj_or_path : str or md.Trajectory\n",
    "        Trajectory to analyze. If a path (e.g., XTC), supply topology via `top_or_ref`.\n",
    "    top_or_ref : str or md.Trajectory, optional\n",
    "        Topology to load `traj_or_path` if needed; also used as folded reference if a structure.\n",
    "        If None and `traj_or_path` is a structure (e.g., PDB), the first frame is used as ref.\n",
    "    seq_separation : int\n",
    "        Minimum |i-j| along sequence to consider a long-range contact.\n",
    "    ca_cutoff_A : float\n",
    "        CA–CA native cutoff in Å (10.0 Å in the paper).\n",
    "    require_fraction_in_folded : float, optional\n",
    "        If set (e.g., 0.8), enforce that native pairs must also satisfy the cutoff in at least\n",
    "        that fraction of frames indicated by `folded_mask=True`.\n",
    "    folded_mask : sequence of bool, optional\n",
    "        Boolean mask over trajectory frames marking folded-state frames. Required if\n",
    "        `require_fraction_in_folded` is not None.\n",
    "    beta_Ainv : float\n",
    "        Sharpness β (1/Å) in the Fermi-like switching function.\n",
    "    eta_A : float\n",
    "        Small shift η (Å) inside the switching function.\n",
    "    balance_by_residue : bool\n",
    "        If True, compute per-residue averages then average across residues (equal residue weight).\n",
    "        If False (default), use the paper’s Σ_i Σ_j / Σ_i N_i form.\n",
    "    ax : matplotlib Axes, optional\n",
    "        Axes to draw on; create a new one if None.\n",
    "    label : str, optional\n",
    "        Legend label for the plotted curve.\n",
    "    save_path : str, optional\n",
    "        If given, save figure here (e.g., 'q_ffp.png').\n",
    "    show : bool\n",
    "        If True, call plt.show().\n",
    "\n",
    "    Returns\n",
    "    -------\n",
    "    q_t : (T,) array\n",
    "        Fractional native contacts per frame.\n",
    "    t_ns : (T,) array\n",
    "        Time vector in nanoseconds (best-effort from traj.time).\n",
    "    native_pairs : (P, 2) int array\n",
    "        Atom index pairs (Cα atom indices) in the native set S.\n",
    "    \"\"\"\n",
    "    # --- Load trajectory / reference ---\n",
    "    if isinstance(traj_or_path, str):\n",
    "        traj = md.load(traj_or_path, top=top_or_ref) if top_or_ref is not None else md.load(traj_or_path)\n",
    "    else:\n",
    "        traj = traj_or_path\n",
    "\n",
    "    # Reference (folded) structure\n",
    "    ref: Optional[md.Trajectory] = None\n",
    "    if isinstance(top_or_ref, md.Trajectory):\n",
    "        ref = top_or_ref\n",
    "    elif isinstance(top_or_ref, str):\n",
    "        try:\n",
    "            ref = md.load(top_or_ref)\n",
    "        except Exception:\n",
    "            ref = None\n",
    "    if ref is None:\n",
    "        ref = traj[0]\n",
    "\n",
    "    # --- Build Cα list per residue ---\n",
    "    top = traj.topology\n",
    "    ca_indices = []\n",
    "    res_indices = []\n",
    "    for res in top.residues:\n",
    "        ca = [a.index for a in res.atoms if a.name == \"CA\"]\n",
    "    # Some ligands/waters won't have CA; skip those residues\n",
    "        if ca:\n",
    "            ca_indices.append(ca[0])\n",
    "            res_indices.append(res.index)\n",
    "    ca_indices = np.array(ca_indices, dtype=int)\n",
    "    res_indices = np.array(res_indices, dtype=int)\n",
    "\n",
    "    # --- Long-range CA–CA pairs by sequence separation ---\n",
    "    # Map residue index -> position in `ca_indices` list\n",
    "    res_to_pos = {r: i for i, r in enumerate(res_indices)}\n",
    "    pairs = []\n",
    "    for i_pos, i_res in enumerate(res_indices):\n",
    "        for j_pos in range(i_pos + 1, len(res_indices)):\n",
    "            j_res = res_indices[j_pos]\n",
    "            if abs(i_res - j_res) >= seq_separation:\n",
    "                pairs.append((ca_indices[i_pos], ca_indices[j_pos]))\n",
    "    if not pairs:\n",
    "        raise ValueError(\"No long-range CA–CA pairs found with the given sequence separation.\")\n",
    "\n",
    "    pairs = np.array(pairs, dtype=int)\n",
    "\n",
    "    # --- Distances in reference (Å) and native set selection ---\n",
    "    r0 = md.compute_distances(ref, pairs)[0] * 10.0  # nm -> Å\n",
    "    native_mask = r0 <= ca_cutoff_A\n",
    "\n",
    "    # Optional stability criterion over folded frames\n",
    "    if require_fraction_in_folded is not None:\n",
    "        if folded_mask is None:\n",
    "            raise ValueError(\"folded_mask must be provided if require_fraction_in_folded is set.\")\n",
    "        folded_mask = np.asarray(folded_mask, dtype=bool)\n",
    "        if folded_mask.shape[0] != traj.n_frames:\n",
    "            raise ValueError(\"folded_mask length must equal number of trajectory frames.\")\n",
    "\n",
    "        d_traj_native = md.compute_distances(traj, pairs[native_mask]) * 10.0  # Å\n",
    "        within_cutoff = (d_traj_native <= ca_cutoff_A)\n",
    "        frac_within = within_cutoff[folded_mask].mean(axis=0)  # per pair\n",
    "        keep = frac_within >= float(require_fraction_in_folded)\n",
    "        native_mask_idx = np.where(native_mask)[0][keep]\n",
    "        native_mask = np.zeros_like(native_mask, dtype=bool)\n",
    "        native_mask[native_mask_idx] = True\n",
    "\n",
    "    native_pairs = pairs[native_mask]\n",
    "    if native_pairs.size == 0:\n",
    "        raise ValueError(\"No native CA–CA contacts passed the criteria (check cutoff/criteria).\")\n",
    "\n",
    "    r0_native = r0[native_mask]  # Å\n",
    "\n",
    "    # --- Distances over trajectory for native pairs (Å) ---\n",
    "    d_t = md.compute_distances(traj, native_pairs) * 10.0  # shape (T, P)\n",
    "\n",
    "    # --- Fermi switching (paper form): 1/(1 + exp[β (d_ij(t) - (d^0_ij + η))]) ---\n",
    "    x = d_t - (r0_native[None, :] + eta_A)\n",
    "    w_t = 1.0 / (1.0 + np.exp(beta_Ainv * x))  # (T, P)\n",
    "\n",
    "    # --- Normalization ---\n",
    "    # Build residue-degree N_i over native graph\n",
    "    # (each pair contributes to two residues)\n",
    "    # Map CA atom index -> residue index\n",
    "    atom_to_res = {a.index: a.residue.index for a in top.atoms}\n",
    "    res_deg = {}\n",
    "    pair_res = []\n",
    "    for (ai, aj) in native_pairs:\n",
    "        ri = atom_to_res[ai]\n",
    "        rj = atom_to_res[aj]\n",
    "        pair_res.append((ri, rj))\n",
    "        res_deg[ri] = res_deg.get(ri, 0) + 1\n",
    "        res_deg[rj] = res_deg.get(rj, 0) + 1\n",
    "    pair_res = np.array(pair_res, dtype=int)\n",
    "\n",
    "    if balance_by_residue:\n",
    "        # Equal weight per residue: Q(t) = mean_i ( (1/N_i) Σ_{j in native(i)} w_ij )\n",
    "        # Build lists of columns (pairs) touching each residue\n",
    "        res_to_cols = {}\n",
    "        for col, (ri, rj) in enumerate(pair_res):\n",
    "            res_to_cols.setdefault(ri, []).append(col)\n",
    "            res_to_cols.setdefault(rj, []).append(col)\n",
    "        # Only use residues with at least one native contact\n",
    "        per_res = []\n",
    "        for ri, cols in res_to_cols.items():\n",
    "            cols = np.asarray(cols, dtype=int)\n",
    "            per_res.append(w_t[:, cols].mean(axis=1))\n",
    "        per_res = np.stack(per_res, axis=1)  # (T, R*)\n",
    "        q_t = per_res.mean(axis=1)\n",
    "    else:\n",
    "        # Paper’s Σ_i Σ_j / Σ_i N_i form: equals simple average over pairs\n",
    "        q_t = w_t.mean(axis=1)\n",
    "\n",
    "    # --- Time vector (ns) ---\n",
    "    if getattr(traj, \"time\", None) is not None:\n",
    "        t_ns = np.asarray(traj.time, dtype=float) / 1000.0\n",
    "    else:\n",
    "        t_ns = np.arange(traj.n_frames, dtype=float)\n",
    "\n",
    "    # --- Plot ---\n",
    "    if ax is None:\n",
    "        fig = plt.figure(figsize=(6, 4))\n",
    "        ax = fig.add_subplot(111)\n",
    "    ax.plot(t_ns, q_t, linewidth=2, label=label or \"Q(t) (FFP, Cα–Cα)\")\n",
    "    ax.set_xlabel(\"Time (ns)\")\n",
    "    ax.set_ylabel(\"Q (fraction of native contacts)\")\n",
    "    ax.set_ylim(0.0, 1.05)\n",
    "    ax.set_title(\"Fractional Native Contacts (Fast Folding Proteins)\")\n",
    "    if label is not None:\n",
    "        ax.legend(frameon=False)\n",
    "\n",
    "    if save_path is not None:\n",
    "        plt.savefig(save_path, bbox_inches=\"tight\", dpi=300)\n",
    "    if show:\n",
    "        plt.show()\n",
    "\n",
    "    return q_t, t_ns, native_pairs"
   ]
  },
  {
   "cell_type": "code",
   "execution_count": null,
   "id": "2bed6b9c",
   "metadata": {},
   "outputs": [
    {
     "data": {
      "image/png": "[encoded data removed]",
      "text/plain": [
       "<Figure size 600x400 with 1 Axes>"
      ]
     },
     "metadata": {},
     "output_type": "display_data"
    },
    {
     "name": "stdout",
     "output_type": "stream",
     "text": [
      "[0.5        0.37709904 0.7728845  ... 0.509055   0.6238996  0.42950186]\n",
      "[0.00000e+00 1.00000e-02 2.00000e-02 ... 1.19998e+03 1.19999e+03\n",
      " 1.20000e+03]\n",
      "[[  4 122]\n",
      " [ 25 122]\n",
      " [ 25 146]\n",
      " [ 46 146]]\n"
     ]
    }
   ],
   "source": [
    "q, t, pairs = plot_fractional_contacts_ffp(traj, \"/home/shpark/prj-mlcv/lib/bioemu/opes/data/CLN025/folded.pdb\", show=True)\n",
    "\n",
    "print(q)\n",
    "print(t)\n",
    "print(pairs)"
   ]
  },
  {
   "cell_type": "code",
   "execution_count": 13,
   "id": "c456fe89",
   "metadata": {},
   "outputs": [
    {
     "data": {
      "application/vnd.jupyter.widget-view+json": {
       "model_id": "15a183af6c594f3ebe334013c2b738a6",
       "version_major": 2,
       "version_minor": 0
      },
      "text/plain": [
       "NGLWidget(max_frame=534742)"
      ]
     },
     "metadata": {},
     "output_type": "display_data"
    }
   ],
   "source": [
    "simulation_traj = md.load(\n",
    "\t\"/home/shpark/prj-mlcv/lib/bioemu/opes/data/CLN025/folded.pdb\"\n",
    ")\n",
    "simulation_xyz = torch.load(\n",
    "\t\"/home/shpark/prj-mlcv/lib/DESRES/DESRES-Trajectory_CLN025-0-protein/CLN025-0-pos.pt\"\n",
    ").numpy()\n",
    "simulation_traj.xyz = simulation_xyz\n",
    "simuulation_view = nv.show_mdtraj(simulation_traj)\n",
    "simuulation_view.add_representation(\"licorice\", selection=\"protein\")\n",
    "simuulation_view"
   ]
  },
  {
   "cell_type": "code",
   "execution_count": 15,
   "id": "bc4270cb",
   "metadata": {},
   "outputs": [
    {
     "ename": "ValueError",
     "evalue": "unitcell_vectors must be shape (534743, 3, 3). You supplied  (1, 3, 3)",
     "output_type": "error",
     "traceback": [
      "\u001b[0;31m---------------------------------------------------------------------------\u001b[0m",
      "\u001b[0;31mValueError\u001b[0m                                Traceback (most recent call last)",
      "Cell \u001b[0;32mIn[15], line 4\u001b[0m\n\u001b[1;32m      1\u001b[0m simulation_pdb \u001b[38;5;241m=\u001b[39m md\u001b[38;5;241m.\u001b[39mload_pdb(\n\u001b[1;32m      2\u001b[0m     \u001b[38;5;124m\"\u001b[39m\u001b[38;5;124m/home/shpark/prj-mlcv/lib/bioemu/opes/data/CLN025/folded.pdb\u001b[39m\u001b[38;5;124m\"\u001b[39m\n\u001b[1;32m      3\u001b[0m )\n\u001b[0;32m----> 4\u001b[0m q, t, pairs \u001b[38;5;241m=\u001b[39m \u001b[43mplot_fractional_contacts_ffp\u001b[49m\u001b[43m(\u001b[49m\u001b[43msimulation_traj\u001b[49m\u001b[43m,\u001b[49m\u001b[43m \u001b[49m\u001b[38;5;124;43m\"\u001b[39;49m\u001b[38;5;124;43m/home/shpark/prj-mlcv/lib/bioemu/opes/data/CLN025/folded.pdb\u001b[39;49m\u001b[38;5;124;43m\"\u001b[39;49m\n\u001b[1;32m      5\u001b[0m \u001b[43m,\u001b[49m\u001b[43m \u001b[49m\u001b[43mshow\u001b[49m\u001b[38;5;241;43m=\u001b[39;49m\u001b[38;5;28;43;01mTrue\u001b[39;49;00m\u001b[43m)\u001b[49m\n\u001b[1;32m      7\u001b[0m \u001b[38;5;28mprint\u001b[39m(q)\n\u001b[1;32m      8\u001b[0m \u001b[38;5;28mprint\u001b[39m(t)\n",
      "Cell \u001b[0;32mIn[2], line 155\u001b[0m, in \u001b[0;36mplot_fractional_contacts_ffp\u001b[0;34m(traj_or_path, top_or_ref, seq_separation, ca_cutoff_A, require_fraction_in_folded, folded_mask, beta_Ainv, eta_A, balance_by_residue, ax, label, save_path, show)\u001b[0m\n\u001b[1;32m    152\u001b[0m r0_native \u001b[38;5;241m=\u001b[39m r0[native_mask]  \u001b[38;5;66;03m# Å\u001b[39;00m\n\u001b[1;32m    154\u001b[0m \u001b[38;5;66;03m# --- Distances over trajectory for native pairs (Å) ---\u001b[39;00m\n\u001b[0;32m--> 155\u001b[0m d_t \u001b[38;5;241m=\u001b[39m \u001b[43mmd\u001b[49m\u001b[38;5;241;43m.\u001b[39;49m\u001b[43mcompute_distances\u001b[49m\u001b[43m(\u001b[49m\u001b[43mtraj\u001b[49m\u001b[43m,\u001b[49m\u001b[43m \u001b[49m\u001b[43mnative_pairs\u001b[49m\u001b[43m)\u001b[49m \u001b[38;5;241m*\u001b[39m \u001b[38;5;241m10.0\u001b[39m  \u001b[38;5;66;03m# shape (T, P)\u001b[39;00m\n\u001b[1;32m    157\u001b[0m \u001b[38;5;66;03m# --- Fermi switching (paper form): 1/(1 + exp[β (d_ij(t) - (d^0_ij + η))]) ---\u001b[39;00m\n\u001b[1;32m    158\u001b[0m x \u001b[38;5;241m=\u001b[39m d_t \u001b[38;5;241m-\u001b[39m (r0_native[\u001b[38;5;28;01mNone\u001b[39;00m, :] \u001b[38;5;241m+\u001b[39m eta_A)\n",
      "File \u001b[0;32m~/.conda/envs/bioemu/lib/python3.10/site-packages/mdtraj/geometry/distance.py:170\u001b[0m, in \u001b[0;36mcompute_distances\u001b[0;34m(traj, atom_pairs, periodic, opt)\u001b[0m\n\u001b[1;32m    146\u001b[0m \u001b[38;5;28;01mdef\u001b[39;00m\u001b[38;5;250m \u001b[39m\u001b[38;5;21mcompute_distances\u001b[39m(traj, atom_pairs, periodic\u001b[38;5;241m=\u001b[39m\u001b[38;5;28;01mTrue\u001b[39;00m, opt\u001b[38;5;241m=\u001b[39m\u001b[38;5;28;01mTrue\u001b[39;00m):\n\u001b[1;32m    147\u001b[0m \u001b[38;5;250m    \u001b[39m\u001b[38;5;124;03m\"\"\"Compute the distances between pairs of atoms in each frame.\u001b[39;00m\n\u001b[1;32m    148\u001b[0m \n\u001b[1;32m    149\u001b[0m \u001b[38;5;124;03m    Parameters\u001b[39;00m\n\u001b[0;32m   (...)\u001b[0m\n\u001b[1;32m    167\u001b[0m \u001b[38;5;124;03m        The distance, in each frame, between each pair of atoms.\u001b[39;00m\n\u001b[1;32m    168\u001b[0m \u001b[38;5;124;03m    \"\"\"\u001b[39;00m\n\u001b[0;32m--> 170\u001b[0m     \u001b[38;5;28;01mreturn\u001b[39;00m \u001b[43mcompute_distances_core\u001b[49m\u001b[43m(\u001b[49m\n\u001b[1;32m    171\u001b[0m \u001b[43m        \u001b[49m\u001b[43mtraj\u001b[49m\u001b[38;5;241;43m.\u001b[39;49m\u001b[43mxyz\u001b[49m\u001b[43m,\u001b[49m\n\u001b[1;32m    172\u001b[0m \u001b[43m        \u001b[49m\u001b[43matom_pairs\u001b[49m\u001b[43m,\u001b[49m\n\u001b[1;32m    173\u001b[0m \u001b[43m        \u001b[49m\u001b[43munitcell_vectors\u001b[49m\u001b[38;5;241;43m=\u001b[39;49m\u001b[43mtraj\u001b[49m\u001b[38;5;241;43m.\u001b[39;49m\u001b[43munitcell_vectors\u001b[49m\u001b[43m,\u001b[49m\n\u001b[1;32m    174\u001b[0m \u001b[43m        \u001b[49m\u001b[43mperiodic\u001b[49m\u001b[38;5;241;43m=\u001b[39;49m\u001b[43mperiodic\u001b[49m\u001b[43m,\u001b[49m\n\u001b[1;32m    175\u001b[0m \u001b[43m        \u001b[49m\u001b[43mopt\u001b[49m\u001b[38;5;241;43m=\u001b[39;49m\u001b[43mopt\u001b[49m\u001b[43m,\u001b[49m\n\u001b[1;32m    176\u001b[0m \u001b[43m    \u001b[49m\u001b[43m)\u001b[49m\n",
      "File \u001b[0;32m~/.conda/envs/bioemu/lib/python3.10/site-packages/mdtraj/geometry/distance.py:102\u001b[0m, in \u001b[0;36mcompute_distances_core\u001b[0;34m(positions, atom_pairs, unitcell_vectors, periodic, opt)\u001b[0m\n\u001b[1;32m     99\u001b[0m     \u001b[38;5;28;01mreturn\u001b[39;00m np\u001b[38;5;241m.\u001b[39mzeros((\u001b[38;5;28mlen\u001b[39m(xyz), \u001b[38;5;241m0\u001b[39m), dtype\u001b[38;5;241m=\u001b[39mnp\u001b[38;5;241m.\u001b[39mfloat32)\n\u001b[1;32m    101\u001b[0m \u001b[38;5;28;01mif\u001b[39;00m periodic \u001b[38;5;129;01mand\u001b[39;00m (unitcell_vectors \u001b[38;5;129;01mis\u001b[39;00m \u001b[38;5;129;01mnot\u001b[39;00m \u001b[38;5;28;01mNone\u001b[39;00m):\n\u001b[0;32m--> 102\u001b[0m     box \u001b[38;5;241m=\u001b[39m \u001b[43mensure_type\u001b[49m\u001b[43m(\u001b[49m\n\u001b[1;32m    103\u001b[0m \u001b[43m        \u001b[49m\u001b[43munitcell_vectors\u001b[49m\u001b[43m,\u001b[49m\n\u001b[1;32m    104\u001b[0m \u001b[43m        \u001b[49m\u001b[43mdtype\u001b[49m\u001b[38;5;241;43m=\u001b[39;49m\u001b[43mnp\u001b[49m\u001b[38;5;241;43m.\u001b[39;49m\u001b[43mfloat32\u001b[49m\u001b[43m,\u001b[49m\n\u001b[1;32m    105\u001b[0m \u001b[43m        \u001b[49m\u001b[43mndim\u001b[49m\u001b[38;5;241;43m=\u001b[39;49m\u001b[38;5;241;43m3\u001b[39;49m\u001b[43m,\u001b[49m\n\u001b[1;32m    106\u001b[0m \u001b[43m        \u001b[49m\u001b[43mname\u001b[49m\u001b[38;5;241;43m=\u001b[39;49m\u001b[38;5;124;43m\"\u001b[39;49m\u001b[38;5;124;43munitcell_vectors\u001b[39;49m\u001b[38;5;124;43m\"\u001b[39;49m\u001b[43m,\u001b[49m\n\u001b[1;32m    107\u001b[0m \u001b[43m        \u001b[49m\u001b[43mshape\u001b[49m\u001b[38;5;241;43m=\u001b[39;49m\u001b[43m(\u001b[49m\u001b[38;5;28;43mlen\u001b[39;49m\u001b[43m(\u001b[49m\u001b[43mxyz\u001b[49m\u001b[43m)\u001b[49m\u001b[43m,\u001b[49m\u001b[43m \u001b[49m\u001b[38;5;241;43m3\u001b[39;49m\u001b[43m,\u001b[49m\u001b[43m \u001b[49m\u001b[38;5;241;43m3\u001b[39;49m\u001b[43m)\u001b[49m\u001b[43m,\u001b[49m\n\u001b[1;32m    108\u001b[0m \u001b[43m        \u001b[49m\u001b[43mwarn_on_cast\u001b[49m\u001b[38;5;241;43m=\u001b[39;49m\u001b[38;5;28;43;01mFalse\u001b[39;49;00m\u001b[43m,\u001b[49m\n\u001b[1;32m    109\u001b[0m \u001b[43m    \u001b[49m\u001b[43m)\u001b[49m\n\u001b[1;32m    111\u001b[0m     \u001b[38;5;66;03m# convert to angles\u001b[39;00m\n\u001b[1;32m    112\u001b[0m     unitcell_angles \u001b[38;5;241m=\u001b[39m []\n",
      "File \u001b[0;32m~/.conda/envs/bioemu/lib/python3.10/site-packages/mdtraj/utils/validation.py:157\u001b[0m, in \u001b[0;36mensure_type\u001b[0;34m(val, dtype, ndim, name, length, can_be_none, shape, warn_on_cast, add_newaxis_on_deficient_ndim)\u001b[0m\n\u001b[1;32m    154\u001b[0m             \u001b[38;5;28;01mcontinue\u001b[39;00m\n\u001b[1;32m    155\u001b[0m         \u001b[38;5;28;01mif\u001b[39;00m a \u001b[38;5;241m!=\u001b[39m b:\n\u001b[1;32m    156\u001b[0m             \u001b[38;5;66;03m# check for equality\u001b[39;00m\n\u001b[0;32m--> 157\u001b[0m             \u001b[38;5;28;01mraise\u001b[39;00m error\n\u001b[1;32m    159\u001b[0m \u001b[38;5;28;01mreturn\u001b[39;00m val\n",
      "\u001b[0;31mValueError\u001b[0m: unitcell_vectors must be shape (534743, 3, 3). You supplied  (1, 3, 3)"
     ]
    }
   ],
   "source": [
    "simulation_pdb = md.load_pdb(\n",
    "    \"/home/shpark/prj-mlcv/lib/bioemu/opes/data/CLN025/folded.pdb\"\n",
    ")\n",
    "q, t, pairs = plot_fractional_contacts_ffp(simulation_traj, \"/home/shpark/prj-mlcv/lib/bioemu/opes/data/CLN025/folded.pdb\"\n",
    ", show=True)\n",
    "\n",
    "print(q)\n",
    "print(t)\n",
    "print(pairs)"
   ]
  },
  {
   "cell_type": "code",
   "execution_count": null,
   "id": "d766b52d",
   "metadata": {},
   "outputs": [],
   "source": []
  }
 ],
 "metadata": {
  "kernelspec": {
   "display_name": "bioemu",
   "language": "python",
   "name": "python3"
  },
  "language_info": {
   "codemirror_mode": {
    "name": "ipython",
    "version": 3
   },
   "file_extension": ".py",
   "mimetype": "text/x-python",
   "name": "python",
   "nbconvert_exporter": "python",
   "pygments_lexer": "ipython3",
   "version": "3.10.18"
  }
 },
 "nbformat": 4,
 "nbformat_minor": 5
}
