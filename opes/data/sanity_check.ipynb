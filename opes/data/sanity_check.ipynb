{
 "cells": [
  {
   "cell_type": "code",
   "execution_count": 1,
   "id": "e0c8f974",
   "metadata": {},
   "outputs": [
    {
     "data": {
      "application/vnd.jupyter.widget-view+json": {
       "model_id": "808df7750d494fbba1a64aaf51d1e74d",
       "version_major": 2,
       "version_minor": 0
      },
      "text/plain": []
     },
     "metadata": {},
     "output_type": "display_data"
    }
   ],
   "source": [
    "import torch\n",
    "import pickle\n",
    "\n",
    "from pathlib import Path\n",
    "from itertools import combinations\n",
    "from matplotlib.colors import LogNorm\n",
    "\n",
    "import numpy as np\n",
    "import matplotlib.pyplot as plt\n",
    "import mdtraj as md\n",
    "import nglview as nv\n",
    "\n",
    "blue = (70 / 255, 110 / 255, 250 / 255)"
   ]
  },
  {
   "cell_type": "markdown",
   "id": "baf1005f",
   "metadata": {},
   "source": [
    "# Plumed"
   ]
  },
  {
   "cell_type": "code",
   "execution_count": 175,
   "id": "5a58ae65",
   "metadata": {},
   "outputs": [],
   "source": [
    "molecule = \"2jof\""
   ]
  },
  {
   "cell_type": "markdown",
   "id": "e88d9b1f",
   "metadata": {},
   "source": [
    "## Visualization"
   ]
  },
  {
   "cell_type": "code",
   "execution_count": 176,
   "id": "2a1917de",
   "metadata": {},
   "outputs": [
    {
     "name": "stdout",
     "output_type": "stream",
     "text": [
      "<mdtraj.Trajectory with 1 frames, 272 atoms, 20 residues, and unitcells>\n",
      "Alpha carbon indices: [5, 17, 27, 48, 58, 75, 99, 118, 128, 140, 147, 156, 168, 179, 190, 197, 223, 237, 251, 263]\n"
     ]
    },
    {
     "data": {
      "application/vnd.jupyter.widget-view+json": {
       "model_id": "ba836bf47e4e4be382d7c982cf27b1e3",
       "version_major": 2,
       "version_minor": 0
      },
      "text/plain": [
       "NGLWidget()"
      ]
     },
     "metadata": {},
     "output_type": "display_data"
    }
   ],
   "source": [
    "gro_path = f\"./{molecule.upper()}/folded.gro\"\n",
    "gro_traj = md.load(gro_path)\n",
    "print(gro_traj)\n",
    "\n",
    "gro_traj.center_coordinates()\n",
    "gro_view = nv.show_mdtraj(gro_traj)\n",
    "gro_view.add_representation(\"licorice\", selection=\"protein\")\n",
    "\n",
    "gro_ca_atoms = [atom for atom in gro_traj.topology.atoms if atom.name == \"CA\"]\n",
    "gro_ca_indices = [atom.index + 1 for atom in gro_ca_atoms]\n",
    "print(\"Alpha carbon indices:\", gro_ca_indices)\n",
    "\n",
    "gro_view"
   ]
  },
  {
   "cell_type": "code",
   "execution_count": 177,
   "id": "27ab014a",
   "metadata": {},
   "outputs": [
    {
     "name": "stdout",
     "output_type": "stream",
     "text": [
      "<mdtraj.Trajectory with 1 frames, 272 atoms, 20 residues, without unitcells>\n",
      "Alpha carbon indices: [2, 16, 26, 47, 57, 74, 98, 117, 127, 139, 146, 153, 167, 178, 189, 196, 220, 234, 248, 262]\n"
     ]
    },
    {
     "data": {
      "application/vnd.jupyter.widget-view+json": {
       "model_id": "91de7ed7104f4d3aab20da1863d4fc96",
       "version_major": 2,
       "version_minor": 0
      },
      "text/plain": [
       "NGLWidget()"
      ]
     },
     "metadata": {},
     "output_type": "display_data"
    }
   ],
   "source": [
    "pdb_path = f\"./{molecule.upper()}/folded.pdb\"\n",
    "pdb_traj = md.load_pdb(pdb_path)\n",
    "print(pdb_traj)\n",
    "\n",
    "pdb_traj.center_coordinates()\n",
    "pdb_view = nv.show_mdtraj(pdb_traj)\n",
    "pdb_view.add_representation(\"licorice\", selection=\"protein\")\n",
    "\n",
    "pdb_ca_atoms = [atom for atom in pdb_traj.topology.atoms if atom.name == \"CA\"]\n",
    "pdb_ca_indices = [atom.index + 1 for atom in pdb_ca_atoms]\n",
    "print(\"Alpha carbon indices:\", pdb_ca_indices)\n",
    "\n",
    "pdb_view"
   ]
  },
  {
   "cell_type": "code",
   "execution_count": 178,
   "id": "336fb9b7",
   "metadata": {},
   "outputs": [
    {
     "data": {
      "text/plain": [
       "array([False, False, False, False, False, False, False, False, False,\n",
       "       False, False, False, False, False, False, False, False, False,\n",
       "       False, False])"
      ]
     },
     "execution_count": 178,
     "metadata": {},
     "output_type": "execute_result"
    }
   ],
   "source": [
    "np.array(gro_ca_indices) == np.array(pdb_ca_indices)"
   ]
  },
  {
   "cell_type": "code",
   "execution_count": 179,
   "id": "16a7ea85",
   "metadata": {},
   "outputs": [
    {
     "name": "stdout",
     "output_type": "stream",
     "text": [
      "d1: DISTANCE ATOMS=5,17\n",
      "d2: DISTANCE ATOMS=5,27\n",
      "d3: DISTANCE ATOMS=5,48\n",
      "d4: DISTANCE ATOMS=5,58\n",
      "d5: DISTANCE ATOMS=5,75\n",
      "d6: DISTANCE ATOMS=5,99\n",
      "d7: DISTANCE ATOMS=5,118\n",
      "d8: DISTANCE ATOMS=5,128\n",
      "d9: DISTANCE ATOMS=5,140\n",
      "d10: DISTANCE ATOMS=5,147\n",
      "d11: DISTANCE ATOMS=5,156\n",
      "d12: DISTANCE ATOMS=5,168\n",
      "d13: DISTANCE ATOMS=5,179\n",
      "d14: DISTANCE ATOMS=5,190\n",
      "d15: DISTANCE ATOMS=5,197\n",
      "d16: DISTANCE ATOMS=5,223\n",
      "d17: DISTANCE ATOMS=5,237\n",
      "d18: DISTANCE ATOMS=5,251\n",
      "d19: DISTANCE ATOMS=5,263\n",
      "d20: DISTANCE ATOMS=17,27\n",
      "d21: DISTANCE ATOMS=17,48\n",
      "d22: DISTANCE ATOMS=17,58\n",
      "d23: DISTANCE ATOMS=17,75\n",
      "d24: DISTANCE ATOMS=17,99\n",
      "d25: DISTANCE ATOMS=17,118\n",
      "d26: DISTANCE ATOMS=17,128\n",
      "d27: DISTANCE ATOMS=17,140\n",
      "d28: DISTANCE ATOMS=17,147\n",
      "d29: DISTANCE ATOMS=17,156\n",
      "d30: DISTANCE ATOMS=17,168\n",
      "d31: DISTANCE ATOMS=17,179\n",
      "d32: DISTANCE ATOMS=17,190\n",
      "d33: DISTANCE ATOMS=17,197\n",
      "d34: DISTANCE ATOMS=17,223\n",
      "d35: DISTANCE ATOMS=17,237\n",
      "d36: DISTANCE ATOMS=17,251\n",
      "d37: DISTANCE ATOMS=17,263\n",
      "d38: DISTANCE ATOMS=27,48\n",
      "d39: DISTANCE ATOMS=27,58\n",
      "d40: DISTANCE ATOMS=27,75\n",
      "d41: DISTANCE ATOMS=27,99\n",
      "d42: DISTANCE ATOMS=27,118\n",
      "d43: DISTANCE ATOMS=27,128\n",
      "d44: DISTANCE ATOMS=27,140\n",
      "d45: DISTANCE ATOMS=27,147\n",
      "d46: DISTANCE ATOMS=27,156\n",
      "d47: DISTANCE ATOMS=27,168\n",
      "d48: DISTANCE ATOMS=27,179\n",
      "d49: DISTANCE ATOMS=27,190\n",
      "d50: DISTANCE ATOMS=27,197\n",
      "d51: DISTANCE ATOMS=27,223\n",
      "d52: DISTANCE ATOMS=27,237\n",
      "d53: DISTANCE ATOMS=27,251\n",
      "d54: DISTANCE ATOMS=27,263\n",
      "d55: DISTANCE ATOMS=48,58\n",
      "d56: DISTANCE ATOMS=48,75\n",
      "d57: DISTANCE ATOMS=48,99\n",
      "d58: DISTANCE ATOMS=48,118\n",
      "d59: DISTANCE ATOMS=48,128\n",
      "d60: DISTANCE ATOMS=48,140\n",
      "d61: DISTANCE ATOMS=48,147\n",
      "d62: DISTANCE ATOMS=48,156\n",
      "d63: DISTANCE ATOMS=48,168\n",
      "d64: DISTANCE ATOMS=48,179\n",
      "d65: DISTANCE ATOMS=48,190\n",
      "d66: DISTANCE ATOMS=48,197\n",
      "d67: DISTANCE ATOMS=48,223\n",
      "d68: DISTANCE ATOMS=48,237\n",
      "d69: DISTANCE ATOMS=48,251\n",
      "d70: DISTANCE ATOMS=48,263\n",
      "d71: DISTANCE ATOMS=58,75\n",
      "d72: DISTANCE ATOMS=58,99\n",
      "d73: DISTANCE ATOMS=58,118\n",
      "d74: DISTANCE ATOMS=58,128\n",
      "d75: DISTANCE ATOMS=58,140\n",
      "d76: DISTANCE ATOMS=58,147\n",
      "d77: DISTANCE ATOMS=58,156\n",
      "d78: DISTANCE ATOMS=58,168\n",
      "d79: DISTANCE ATOMS=58,179\n",
      "d80: DISTANCE ATOMS=58,190\n",
      "d81: DISTANCE ATOMS=58,197\n",
      "d82: DISTANCE ATOMS=58,223\n",
      "d83: DISTANCE ATOMS=58,237\n",
      "d84: DISTANCE ATOMS=58,251\n",
      "d85: DISTANCE ATOMS=58,263\n",
      "d86: DISTANCE ATOMS=75,99\n",
      "d87: DISTANCE ATOMS=75,118\n",
      "d88: DISTANCE ATOMS=75,128\n",
      "d89: DISTANCE ATOMS=75,140\n",
      "d90: DISTANCE ATOMS=75,147\n",
      "d91: DISTANCE ATOMS=75,156\n",
      "d92: DISTANCE ATOMS=75,168\n",
      "d93: DISTANCE ATOMS=75,179\n",
      "d94: DISTANCE ATOMS=75,190\n",
      "d95: DISTANCE ATOMS=75,197\n",
      "d96: DISTANCE ATOMS=75,223\n",
      "d97: DISTANCE ATOMS=75,237\n",
      "d98: DISTANCE ATOMS=75,251\n",
      "d99: DISTANCE ATOMS=75,263\n",
      "d100: DISTANCE ATOMS=99,118\n",
      "d101: DISTANCE ATOMS=99,128\n",
      "d102: DISTANCE ATOMS=99,140\n",
      "d103: DISTANCE ATOMS=99,147\n",
      "d104: DISTANCE ATOMS=99,156\n",
      "d105: DISTANCE ATOMS=99,168\n",
      "d106: DISTANCE ATOMS=99,179\n",
      "d107: DISTANCE ATOMS=99,190\n",
      "d108: DISTANCE ATOMS=99,197\n",
      "d109: DISTANCE ATOMS=99,223\n",
      "d110: DISTANCE ATOMS=99,237\n",
      "d111: DISTANCE ATOMS=99,251\n",
      "d112: DISTANCE ATOMS=99,263\n",
      "d113: DISTANCE ATOMS=118,128\n",
      "d114: DISTANCE ATOMS=118,140\n",
      "d115: DISTANCE ATOMS=118,147\n",
      "d116: DISTANCE ATOMS=118,156\n",
      "d117: DISTANCE ATOMS=118,168\n",
      "d118: DISTANCE ATOMS=118,179\n",
      "d119: DISTANCE ATOMS=118,190\n",
      "d120: DISTANCE ATOMS=118,197\n",
      "d121: DISTANCE ATOMS=118,223\n",
      "d122: DISTANCE ATOMS=118,237\n",
      "d123: DISTANCE ATOMS=118,251\n",
      "d124: DISTANCE ATOMS=118,263\n",
      "d125: DISTANCE ATOMS=128,140\n",
      "d126: DISTANCE ATOMS=128,147\n",
      "d127: DISTANCE ATOMS=128,156\n",
      "d128: DISTANCE ATOMS=128,168\n",
      "d129: DISTANCE ATOMS=128,179\n",
      "d130: DISTANCE ATOMS=128,190\n",
      "d131: DISTANCE ATOMS=128,197\n",
      "d132: DISTANCE ATOMS=128,223\n",
      "d133: DISTANCE ATOMS=128,237\n",
      "d134: DISTANCE ATOMS=128,251\n",
      "d135: DISTANCE ATOMS=128,263\n",
      "d136: DISTANCE ATOMS=140,147\n",
      "d137: DISTANCE ATOMS=140,156\n",
      "d138: DISTANCE ATOMS=140,168\n",
      "d139: DISTANCE ATOMS=140,179\n",
      "d140: DISTANCE ATOMS=140,190\n",
      "d141: DISTANCE ATOMS=140,197\n",
      "d142: DISTANCE ATOMS=140,223\n",
      "d143: DISTANCE ATOMS=140,237\n",
      "d144: DISTANCE ATOMS=140,251\n",
      "d145: DISTANCE ATOMS=140,263\n",
      "d146: DISTANCE ATOMS=147,156\n",
      "d147: DISTANCE ATOMS=147,168\n",
      "d148: DISTANCE ATOMS=147,179\n",
      "d149: DISTANCE ATOMS=147,190\n",
      "d150: DISTANCE ATOMS=147,197\n",
      "d151: DISTANCE ATOMS=147,223\n",
      "d152: DISTANCE ATOMS=147,237\n",
      "d153: DISTANCE ATOMS=147,251\n",
      "d154: DISTANCE ATOMS=147,263\n",
      "d155: DISTANCE ATOMS=156,168\n",
      "d156: DISTANCE ATOMS=156,179\n",
      "d157: DISTANCE ATOMS=156,190\n",
      "d158: DISTANCE ATOMS=156,197\n",
      "d159: DISTANCE ATOMS=156,223\n",
      "d160: DISTANCE ATOMS=156,237\n",
      "d161: DISTANCE ATOMS=156,251\n",
      "d162: DISTANCE ATOMS=156,263\n",
      "d163: DISTANCE ATOMS=168,179\n",
      "d164: DISTANCE ATOMS=168,190\n",
      "d165: DISTANCE ATOMS=168,197\n",
      "d166: DISTANCE ATOMS=168,223\n",
      "d167: DISTANCE ATOMS=168,237\n",
      "d168: DISTANCE ATOMS=168,251\n",
      "d169: DISTANCE ATOMS=168,263\n",
      "d170: DISTANCE ATOMS=179,190\n",
      "d171: DISTANCE ATOMS=179,197\n",
      "d172: DISTANCE ATOMS=179,223\n",
      "d173: DISTANCE ATOMS=179,237\n",
      "d174: DISTANCE ATOMS=179,251\n",
      "d175: DISTANCE ATOMS=179,263\n",
      "d176: DISTANCE ATOMS=190,197\n",
      "d177: DISTANCE ATOMS=190,223\n",
      "d178: DISTANCE ATOMS=190,237\n",
      "d179: DISTANCE ATOMS=190,251\n",
      "d180: DISTANCE ATOMS=190,263\n",
      "d181: DISTANCE ATOMS=197,223\n",
      "d182: DISTANCE ATOMS=197,237\n",
      "d183: DISTANCE ATOMS=197,251\n",
      "d184: DISTANCE ATOMS=197,263\n",
      "d185: DISTANCE ATOMS=223,237\n",
      "d186: DISTANCE ATOMS=223,251\n",
      "d187: DISTANCE ATOMS=223,263\n",
      "d188: DISTANCE ATOMS=237,251\n",
      "d189: DISTANCE ATOMS=237,263\n",
      "d190: DISTANCE ATOMS=251,263\n",
      "\n",
      "\n",
      "ARG=d1,d2,d3,d4,d5,d6,d7,d8,d9,d10,d11,d12,d13,d14,d15,d16,d17,d18,d19,d20,d21,d22,d23,d24,d25,d26,d27,d28,d29,d30,d31,d32,d33,d34,d35,d36,d37,d38,d39,d40,d41,d42,d43,d44,d45,d46,d47,d48,d49,d50,d51,d52,d53,d54,d55,d56,d57,d58,d59,d60,d61,d62,d63,d64,d65,d66,d67,d68,d69,d70,d71,d72,d73,d74,d75,d76,d77,d78,d79,d80,d81,d82,d83,d84,d85,d86,d87,d88,d89,d90,d91,d92,d93,d94,d95,d96,d97,d98,d99,d100,d101,d102,d103,d104,d105,d106,d107,d108,d109,d110,d111,d112,d113,d114,d115,d116,d117,d118,d119,d120,d121,d122,d123,d124,d125,d126,d127,d128,d129,d130,d131,d132,d133,d134,d135,d136,d137,d138,d139,d140,d141,d142,d143,d144,d145,d146,d147,d148,d149,d150,d151,d152,d153,d154,d155,d156,d157,d158,d159,d160,d161,d162,d163,d164,d165,d166,d167,d168,d169,d170,d171,d172,d173,d174,d175,d176,d177,d178,d179,d180,d181,d182,d183,d184,d185,d186,d187,d188,d189,d190\n"
     ]
    }
   ],
   "source": [
    "cnt = 0\n",
    "for i in range(len(gro_ca_indices)):\n",
    "    for j in range(i+1, len(gro_ca_indices)):\n",
    "        print(f\"d{cnt+1}: DISTANCE ATOMS={gro_ca_indices[i]},{gro_ca_indices[j]}\")\n",
    "        cnt += 1\n",
    "        \n",
    "print(\"\\n\")\n",
    "print(\"ARG=\" + \",\".join(f\"d{i+1}\" for i in range(cnt)))"
   ]
  },
  {
   "cell_type": "markdown",
   "id": "09af401e",
   "metadata": {},
   "source": [
    "# TICA coordinates & trjconv"
   ]
  },
  {
   "cell_type": "code",
   "execution_count": null,
   "id": "bc67eead",
   "metadata": {},
   "outputs": [
    {
     "name": "stdout",
     "output_type": "stream",
     "text": [
      "gmx trjconv -f /bioemu/opes/simulations/gtt/tica/debug/0.xtc -s /bioemu/opes/data/GT/nvt_0.tpr -pbc nojump -o /bioemu/opes/simulations/gtt/tica/debug/0.xtc\n"
     ]
    }
   ],
   "source": [
    "xtc_path = \"/bioemu/opes/simulations/gtt/tica/debug/0.xtc\"\n",
    "analysis_dir = Path(f\"/bioemu/opes/simulations/gtt/tica/debug/\")\n",
    "tpr_path = \"/bioemu/opes/data/GTT/nvt_0.tpr\"\n",
    "# cmd = f\"gmx trjconv -f {xtc_path} -o {analysis_dir}/0_debug.xtc -pbc nojump \"\n",
    "cmd = f\"gmx trjconv -f {xtc_path} -s {tpr_path} -pbc nojump -o {analysis_dir}/0.xtc\"\n",
    "print(cmd)"
   ]
  },
  {
   "cell_type": "code",
   "execution_count": null,
   "id": "c1aa6f58",
   "metadata": {},
   "outputs": [
    {
     "name": "stdout",
     "output_type": "stream",
     "text": [
      "python analysis_opes.py --config-name tica-1fme date=0908_152748 analysis.skip_steps=0 analysis.unit_steps=1 +tags=['vast','debug']\n"
     ]
    }
   ],
   "source": [
    "method=\"tica\"\n",
    "moelcule=\"1fme\"\n",
    "date=\"0908_152748\"\n",
    "\n",
    "print(f\"python analysis_opes.py --config-name {method}-{molecule} date={date} analysis.skip_steps=0 analysis.unit_steps=1 +tags=['vast','debug']\")"
   ]
  },
  {
   "cell_type": "markdown",
   "id": "55199926",
   "metadata": {},
   "source": [
    "# OPES results"
   ]
  },
  {
   "cell_type": "code",
   "execution_count": 174,
   "id": "5f59900b",
   "metadata": {},
   "outputs": [
    {
     "data": {
      "application/vnd.jupyter.widget-view+json": {
       "model_id": "17b23be5f6374632b3e0386f18a04eff",
       "version_major": 2,
       "version_minor": 0
      },
      "text/plain": [
       "NGLWidget()"
      ]
     },
     "metadata": {},
     "output_type": "display_data"
    }
   ],
   "source": [
    "xtc_path = \"/home/shpark/prj-mlcv/lib/bioemu/opes/simulations/gtt/tica/debug/0.xtc\"\n",
    "gro_path = \"/home/shpark/prj-mlcv/lib/bioemu/opes/data/GTT/folded.gro\"\n",
    "traj = md.load(xtc_path, top=gro_path)\n",
    "view = nv.show_mdtraj(traj)\n",
    "view.add_representation(\"licorice\", selection=\"protein\")\n",
    "view.display()"
   ]
  },
  {
   "cell_type": "code",
   "execution_count": null,
   "id": "5f59900b",
   "metadata": {
    "vscode": {
     "languageId": "shellscript"
    }
   },
   "outputs": [],
   "source": [
    "export GMX_CUDA_GRAPH=0\n",
    "export CUDA_LAUNCH_BLOCKING=1\n",
    "gmx mdrun -s md.tpr -deffnm md -ntmpi 1 -ntomp 1 -reprod -pme cpu\n",
    "gmx mdrun -s ./data/1FME/nvt_0.tpr -deffnm simulations/1fme/tica/debug/0 -plumed simulations/1fme/tica/debug/0/plumed.dat -nsteps 1000000 -reseed 0 -ntomp 1 -bonded gpu -nb gpu -pme gpu -dlb no -reprod -pme cpu"
   ]
  },
  {
   "cell_type": "code",
   "execution_count": 92,
   "id": "8e051356",
   "metadata": {},
   "outputs": [
    {
     "data": {
      "application/vnd.jupyter.widget-view+json": {
       "model_id": "16b64523374b4ce1b0aca68f3ea87f45",
       "version_major": 2,
       "version_minor": 0
      },
      "text/plain": [
       "NGLWidget()"
      ]
     },
     "metadata": {},
     "output_type": "display_data"
    }
   ],
   "source": [
    "gro_path = \"/home/shpark/prj-mlcv/lib/bioemu/opes/data/1FME/boxed.gro\"\n",
    "traj = md.load(gro_path)\n",
    "view = nv.show_mdtraj(traj)\n",
    "view.add_representation(\"licorice\", selection=\"protein\")\n",
    "view.display()"
   ]
  },
  {
   "cell_type": "code",
   "execution_count": null,
   "id": "6bbf7683",
   "metadata": {
    "vscode": {
     "languageId": "shellscript"
    }
   },
   "outputs": [],
   "source": [
    "# gmx grompp -f 1fme.mdp -c start_center.gro -p topol.top -o nvt_1.tpr -maxwarn 2\n",
    "# gmx grompp -f 1fme_2.mdp -c start_center.gro -p topol.top -o nvt_2.tpr -maxwarn 2"
   ]
  },
  {
   "cell_type": "code",
   "execution_count": null,
   "id": "0253aa5a",
   "metadata": {
    "vscode": {
     "languageId": "shellscript"
    }
   },
   "outputs": [],
   "source": [
    "gmx editconf -f folded.gro -o boxed.gro -c -d 1.0 -bt cubic\n",
    "gmx solvate -cp boxed.gro -cs spc216.gro -o solv.gro -p topol.top\n",
    "gmx grompp -f ions.mdp -c solv.gro -p topol.top -o ions.tpr -maxwarn 1\n",
    "gmx genion -s ions.tpr -o solv_ions.gro -p topol.top -pname NA -nname CL -neutral -conc 0.065\n",
    "13\n",
    "gmx grompp -f 1fme_ions.mdp -c solv_ions.gro -p topol.top -o nvt_ion.tpr"
   ]
  },
  {
   "cell_type": "code",
   "execution_count": null,
   "metadata": {
    "vscode": {
     "languageId": "shellscript"
    }
   },
   "outputs": [],
   "source": [
    "gmx grompp -f ions.mdp -c solv.gro -p topol.top -o ions.tpr\n",
    "gmx genion -s ions.tpr -o solv_ions.gro -p topol.top -nname CL -neutral"
   ]
  },
  {
   "cell_type": "code",
   "execution_count": null,
   "id": "e5c984c4",
   "metadata": {
    "vscode": {
     "languageId": "shellscript"
    }
   },
   "outputs": [],
   "source": [
    "# GTT\n",
    "\n",
    "gmx editconf -f folded.gro -o boxed.gro -bt cubic -box 5.2 5.2 5.2 -c\n",
    "\n",
    "gmx solvate -cp boxed.gro -cs spc216.gro -o solv.gro -p topol.top\n",
    "\n",
    "gmx grompp -f ions.mdp -c solv.gro -p topol.top -o ions.tpr -maxwarn 1\n",
    "\n",
    "gmx genion -s ions.tpr -o solv_ions.gro -p topol.top -nname CL -neutral\n",
    "\n",
    "gmx grompp -f em.mdp -c solv_ions.gro -p topol.top -o em.tpr\n",
    "\n",
    "gmx mdrun  -deffnm em -v\n",
    "\n",
    "gmx grompp -f gtt.mdp -c em.gro -p topol.top -o nvt_1.tpr"
   ]
  },
  {
   "cell_type": "code",
   "execution_count": null,
   "id": "73cc05dd",
   "metadata": {
    "vscode": {
     "languageId": "shellscript"
    }
   },
   "outputs": [],
   "source": [
    "# 1FME\n",
    "gmx pdb2gmx -f folded.pdb -o folded.gro -p topol.top -ff charmm27 -water tip3p --ignh\n",
    "\n",
    "gmx grompp -f em.mdp -c solv_ions.gro -p topol.top -o em.tpr -maxwarn 1\n",
    "\n",
    "gmx mdrun -deffnm em -ntmpi 1 -nb gpu"
   ]
  },
  {
   "cell_type": "code",
   "execution_count": null,
   "id": "f4e55811",
   "metadata": {
    "vscode": {
     "languageId": "shellscript"
    }
   },
   "outputs": [],
   "source": []
  }
 ],
 "metadata": {
  "kernelspec": {
   "display_name": "bioemu",
   "language": "python",
   "name": "python3"
  },
  "language_info": {
   "codemirror_mode": {
    "name": "ipython",
    "version": 3
   },
   "file_extension": ".py",
   "mimetype": "text/x-python",
   "name": "python",
   "nbconvert_exporter": "python",
   "pygments_lexer": "ipython3",
   "version": "3.10.18"
  }
 },
 "nbformat": 4,
 "nbformat_minor": 5
}
