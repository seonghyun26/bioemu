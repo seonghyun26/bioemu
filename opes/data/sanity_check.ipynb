{
 "cells": [
  {
   "cell_type": "code",
   "execution_count": 29,
   "id": "e0c8f974",
   "metadata": {},
   "outputs": [],
   "source": [
    "import torch\n",
    "import pickle\n",
    "\n",
    "from pathlib import Path\n",
    "from itertools import combinations\n",
    "from matplotlib.colors import LogNorm\n",
    "\n",
    "import numpy as np\n",
    "import matplotlib.pyplot as plt\n",
    "import mdtraj as md\n",
    "import nglview as nv\n",
    "\n",
    "blue = (70 / 255, 110 / 255, 250 / 255)\n"
   ]
  },
  {
   "cell_type": "markdown",
   "id": "baf1005f",
   "metadata": {},
   "source": [
    "# Visualization"
   ]
  },
  {
   "cell_type": "code",
   "execution_count": 46,
   "id": "27ab014a",
   "metadata": {},
   "outputs": [
    {
     "name": "stdout",
     "output_type": "stream",
     "text": [
      "<mdtraj.Trajectory with 1 frames, 504 atoms, 28 residues, and unitcells>\n",
      "Alpha carbon indices: [5, 20, 37, 58, 72, 82, 104, 125, 147, 154, 178, 192, 212, 236, 250, 265, 287, 302, 321, 345, 357, 377, 396, 411, 433, 453, 475, 482]\n"
     ]
    },
    {
     "data": {
      "application/vnd.jupyter.widget-view+json": {
       "model_id": "61808ef2b2f04fa1a7534df0cc1d1546",
       "version_major": 2,
       "version_minor": 0
      },
      "text/plain": [
       "NGLWidget()"
      ]
     },
     "metadata": {},
     "output_type": "display_data"
    }
   ],
   "source": [
    "molecule = \"1fme\"\n",
    "\n",
    "gro_path = f\"./{molecule.upper()}/folded.gro\"\n",
    "traj = md.load(gro_path)\n",
    "print(traj)\n",
    "traj.center_coordinates()\n",
    "view = nv.show_mdtraj(traj)\n",
    "view.add_representation(\"licorice\", selection=\"protein\")\n",
    "\n",
    "ca_atoms = [atom for atom in traj.topology.atoms if atom.name == \"CA\"]\n",
    "ca_indices = [atom.index + 1 for atom in ca_atoms]\n",
    "print(\"Alpha carbon indices:\", ca_indices)\n",
    "\n",
    "view"
   ]
  },
  {
   "cell_type": "code",
   "execution_count": 30,
   "id": "16a7ea85",
   "metadata": {},
   "outputs": [
    {
     "name": "stdout",
     "output_type": "stream",
     "text": [
      "d1: DISTANCE ATOMS=5,20\n",
      "d2: DISTANCE ATOMS=5,37\n",
      "d3: DISTANCE ATOMS=5,58\n",
      "d4: DISTANCE ATOMS=5,72\n",
      "d5: DISTANCE ATOMS=5,82\n",
      "d6: DISTANCE ATOMS=5,104\n",
      "d7: DISTANCE ATOMS=5,125\n",
      "d8: DISTANCE ATOMS=5,147\n",
      "d9: DISTANCE ATOMS=5,154\n",
      "d10: DISTANCE ATOMS=5,178\n",
      "d11: DISTANCE ATOMS=5,192\n",
      "d12: DISTANCE ATOMS=5,212\n",
      "d13: DISTANCE ATOMS=5,236\n",
      "d14: DISTANCE ATOMS=5,250\n",
      "d15: DISTANCE ATOMS=5,265\n",
      "d16: DISTANCE ATOMS=5,287\n",
      "d17: DISTANCE ATOMS=5,302\n",
      "d18: DISTANCE ATOMS=5,321\n",
      "d19: DISTANCE ATOMS=5,345\n",
      "d20: DISTANCE ATOMS=5,357\n",
      "d21: DISTANCE ATOMS=5,377\n",
      "d22: DISTANCE ATOMS=5,396\n",
      "d23: DISTANCE ATOMS=5,411\n",
      "d24: DISTANCE ATOMS=5,433\n",
      "d25: DISTANCE ATOMS=5,453\n",
      "d26: DISTANCE ATOMS=5,475\n",
      "d27: DISTANCE ATOMS=5,482\n",
      "d28: DISTANCE ATOMS=20,37\n",
      "d29: DISTANCE ATOMS=20,58\n",
      "d30: DISTANCE ATOMS=20,72\n",
      "d31: DISTANCE ATOMS=20,82\n",
      "d32: DISTANCE ATOMS=20,104\n",
      "d33: DISTANCE ATOMS=20,125\n",
      "d34: DISTANCE ATOMS=20,147\n",
      "d35: DISTANCE ATOMS=20,154\n",
      "d36: DISTANCE ATOMS=20,178\n",
      "d37: DISTANCE ATOMS=20,192\n",
      "d38: DISTANCE ATOMS=20,212\n",
      "d39: DISTANCE ATOMS=20,236\n",
      "d40: DISTANCE ATOMS=20,250\n",
      "d41: DISTANCE ATOMS=20,265\n",
      "d42: DISTANCE ATOMS=20,287\n",
      "d43: DISTANCE ATOMS=20,302\n",
      "d44: DISTANCE ATOMS=20,321\n",
      "d45: DISTANCE ATOMS=20,345\n",
      "d46: DISTANCE ATOMS=20,357\n",
      "d47: DISTANCE ATOMS=20,377\n",
      "d48: DISTANCE ATOMS=20,396\n",
      "d49: DISTANCE ATOMS=20,411\n",
      "d50: DISTANCE ATOMS=20,433\n",
      "d51: DISTANCE ATOMS=20,453\n",
      "d52: DISTANCE ATOMS=20,475\n",
      "d53: DISTANCE ATOMS=20,482\n",
      "d54: DISTANCE ATOMS=37,58\n",
      "d55: DISTANCE ATOMS=37,72\n",
      "d56: DISTANCE ATOMS=37,82\n",
      "d57: DISTANCE ATOMS=37,104\n",
      "d58: DISTANCE ATOMS=37,125\n",
      "d59: DISTANCE ATOMS=37,147\n",
      "d60: DISTANCE ATOMS=37,154\n",
      "d61: DISTANCE ATOMS=37,178\n",
      "d62: DISTANCE ATOMS=37,192\n",
      "d63: DISTANCE ATOMS=37,212\n",
      "d64: DISTANCE ATOMS=37,236\n",
      "d65: DISTANCE ATOMS=37,250\n",
      "d66: DISTANCE ATOMS=37,265\n",
      "d67: DISTANCE ATOMS=37,287\n",
      "d68: DISTANCE ATOMS=37,302\n",
      "d69: DISTANCE ATOMS=37,321\n",
      "d70: DISTANCE ATOMS=37,345\n",
      "d71: DISTANCE ATOMS=37,357\n",
      "d72: DISTANCE ATOMS=37,377\n",
      "d73: DISTANCE ATOMS=37,396\n",
      "d74: DISTANCE ATOMS=37,411\n",
      "d75: DISTANCE ATOMS=37,433\n",
      "d76: DISTANCE ATOMS=37,453\n",
      "d77: DISTANCE ATOMS=37,475\n",
      "d78: DISTANCE ATOMS=37,482\n",
      "d79: DISTANCE ATOMS=58,72\n",
      "d80: DISTANCE ATOMS=58,82\n",
      "d81: DISTANCE ATOMS=58,104\n",
      "d82: DISTANCE ATOMS=58,125\n",
      "d83: DISTANCE ATOMS=58,147\n",
      "d84: DISTANCE ATOMS=58,154\n",
      "d85: DISTANCE ATOMS=58,178\n",
      "d86: DISTANCE ATOMS=58,192\n",
      "d87: DISTANCE ATOMS=58,212\n",
      "d88: DISTANCE ATOMS=58,236\n",
      "d89: DISTANCE ATOMS=58,250\n",
      "d90: DISTANCE ATOMS=58,265\n",
      "d91: DISTANCE ATOMS=58,287\n",
      "d92: DISTANCE ATOMS=58,302\n",
      "d93: DISTANCE ATOMS=58,321\n",
      "d94: DISTANCE ATOMS=58,345\n",
      "d95: DISTANCE ATOMS=58,357\n",
      "d96: DISTANCE ATOMS=58,377\n",
      "d97: DISTANCE ATOMS=58,396\n",
      "d98: DISTANCE ATOMS=58,411\n",
      "d99: DISTANCE ATOMS=58,433\n",
      "d100: DISTANCE ATOMS=58,453\n",
      "d101: DISTANCE ATOMS=58,475\n",
      "d102: DISTANCE ATOMS=58,482\n",
      "d103: DISTANCE ATOMS=72,82\n",
      "d104: DISTANCE ATOMS=72,104\n",
      "d105: DISTANCE ATOMS=72,125\n",
      "d106: DISTANCE ATOMS=72,147\n",
      "d107: DISTANCE ATOMS=72,154\n",
      "d108: DISTANCE ATOMS=72,178\n",
      "d109: DISTANCE ATOMS=72,192\n",
      "d110: DISTANCE ATOMS=72,212\n",
      "d111: DISTANCE ATOMS=72,236\n",
      "d112: DISTANCE ATOMS=72,250\n",
      "d113: DISTANCE ATOMS=72,265\n",
      "d114: DISTANCE ATOMS=72,287\n",
      "d115: DISTANCE ATOMS=72,302\n",
      "d116: DISTANCE ATOMS=72,321\n",
      "d117: DISTANCE ATOMS=72,345\n",
      "d118: DISTANCE ATOMS=72,357\n",
      "d119: DISTANCE ATOMS=72,377\n",
      "d120: DISTANCE ATOMS=72,396\n",
      "d121: DISTANCE ATOMS=72,411\n",
      "d122: DISTANCE ATOMS=72,433\n",
      "d123: DISTANCE ATOMS=72,453\n",
      "d124: DISTANCE ATOMS=72,475\n",
      "d125: DISTANCE ATOMS=72,482\n",
      "d126: DISTANCE ATOMS=82,104\n",
      "d127: DISTANCE ATOMS=82,125\n",
      "d128: DISTANCE ATOMS=82,147\n",
      "d129: DISTANCE ATOMS=82,154\n",
      "d130: DISTANCE ATOMS=82,178\n",
      "d131: DISTANCE ATOMS=82,192\n",
      "d132: DISTANCE ATOMS=82,212\n",
      "d133: DISTANCE ATOMS=82,236\n",
      "d134: DISTANCE ATOMS=82,250\n",
      "d135: DISTANCE ATOMS=82,265\n",
      "d136: DISTANCE ATOMS=82,287\n",
      "d137: DISTANCE ATOMS=82,302\n",
      "d138: DISTANCE ATOMS=82,321\n",
      "d139: DISTANCE ATOMS=82,345\n",
      "d140: DISTANCE ATOMS=82,357\n",
      "d141: DISTANCE ATOMS=82,377\n",
      "d142: DISTANCE ATOMS=82,396\n",
      "d143: DISTANCE ATOMS=82,411\n",
      "d144: DISTANCE ATOMS=82,433\n",
      "d145: DISTANCE ATOMS=82,453\n",
      "d146: DISTANCE ATOMS=82,475\n",
      "d147: DISTANCE ATOMS=82,482\n",
      "d148: DISTANCE ATOMS=104,125\n",
      "d149: DISTANCE ATOMS=104,147\n",
      "d150: DISTANCE ATOMS=104,154\n",
      "d151: DISTANCE ATOMS=104,178\n",
      "d152: DISTANCE ATOMS=104,192\n",
      "d153: DISTANCE ATOMS=104,212\n",
      "d154: DISTANCE ATOMS=104,236\n",
      "d155: DISTANCE ATOMS=104,250\n",
      "d156: DISTANCE ATOMS=104,265\n",
      "d157: DISTANCE ATOMS=104,287\n",
      "d158: DISTANCE ATOMS=104,302\n",
      "d159: DISTANCE ATOMS=104,321\n",
      "d160: DISTANCE ATOMS=104,345\n",
      "d161: DISTANCE ATOMS=104,357\n",
      "d162: DISTANCE ATOMS=104,377\n",
      "d163: DISTANCE ATOMS=104,396\n",
      "d164: DISTANCE ATOMS=104,411\n",
      "d165: DISTANCE ATOMS=104,433\n",
      "d166: DISTANCE ATOMS=104,453\n",
      "d167: DISTANCE ATOMS=104,475\n",
      "d168: DISTANCE ATOMS=104,482\n",
      "d169: DISTANCE ATOMS=125,147\n",
      "d170: DISTANCE ATOMS=125,154\n",
      "d171: DISTANCE ATOMS=125,178\n",
      "d172: DISTANCE ATOMS=125,192\n",
      "d173: DISTANCE ATOMS=125,212\n",
      "d174: DISTANCE ATOMS=125,236\n",
      "d175: DISTANCE ATOMS=125,250\n",
      "d176: DISTANCE ATOMS=125,265\n",
      "d177: DISTANCE ATOMS=125,287\n",
      "d178: DISTANCE ATOMS=125,302\n",
      "d179: DISTANCE ATOMS=125,321\n",
      "d180: DISTANCE ATOMS=125,345\n",
      "d181: DISTANCE ATOMS=125,357\n",
      "d182: DISTANCE ATOMS=125,377\n",
      "d183: DISTANCE ATOMS=125,396\n",
      "d184: DISTANCE ATOMS=125,411\n",
      "d185: DISTANCE ATOMS=125,433\n",
      "d186: DISTANCE ATOMS=125,453\n",
      "d187: DISTANCE ATOMS=125,475\n",
      "d188: DISTANCE ATOMS=125,482\n",
      "d189: DISTANCE ATOMS=147,154\n",
      "d190: DISTANCE ATOMS=147,178\n",
      "d191: DISTANCE ATOMS=147,192\n",
      "d192: DISTANCE ATOMS=147,212\n",
      "d193: DISTANCE ATOMS=147,236\n",
      "d194: DISTANCE ATOMS=147,250\n",
      "d195: DISTANCE ATOMS=147,265\n",
      "d196: DISTANCE ATOMS=147,287\n",
      "d197: DISTANCE ATOMS=147,302\n",
      "d198: DISTANCE ATOMS=147,321\n",
      "d199: DISTANCE ATOMS=147,345\n",
      "d200: DISTANCE ATOMS=147,357\n",
      "d201: DISTANCE ATOMS=147,377\n",
      "d202: DISTANCE ATOMS=147,396\n",
      "d203: DISTANCE ATOMS=147,411\n",
      "d204: DISTANCE ATOMS=147,433\n",
      "d205: DISTANCE ATOMS=147,453\n",
      "d206: DISTANCE ATOMS=147,475\n",
      "d207: DISTANCE ATOMS=147,482\n",
      "d208: DISTANCE ATOMS=154,178\n",
      "d209: DISTANCE ATOMS=154,192\n",
      "d210: DISTANCE ATOMS=154,212\n",
      "d211: DISTANCE ATOMS=154,236\n",
      "d212: DISTANCE ATOMS=154,250\n",
      "d213: DISTANCE ATOMS=154,265\n",
      "d214: DISTANCE ATOMS=154,287\n",
      "d215: DISTANCE ATOMS=154,302\n",
      "d216: DISTANCE ATOMS=154,321\n",
      "d217: DISTANCE ATOMS=154,345\n",
      "d218: DISTANCE ATOMS=154,357\n",
      "d219: DISTANCE ATOMS=154,377\n",
      "d220: DISTANCE ATOMS=154,396\n",
      "d221: DISTANCE ATOMS=154,411\n",
      "d222: DISTANCE ATOMS=154,433\n",
      "d223: DISTANCE ATOMS=154,453\n",
      "d224: DISTANCE ATOMS=154,475\n",
      "d225: DISTANCE ATOMS=154,482\n",
      "d226: DISTANCE ATOMS=178,192\n",
      "d227: DISTANCE ATOMS=178,212\n",
      "d228: DISTANCE ATOMS=178,236\n",
      "d229: DISTANCE ATOMS=178,250\n",
      "d230: DISTANCE ATOMS=178,265\n",
      "d231: DISTANCE ATOMS=178,287\n",
      "d232: DISTANCE ATOMS=178,302\n",
      "d233: DISTANCE ATOMS=178,321\n",
      "d234: DISTANCE ATOMS=178,345\n",
      "d235: DISTANCE ATOMS=178,357\n",
      "d236: DISTANCE ATOMS=178,377\n",
      "d237: DISTANCE ATOMS=178,396\n",
      "d238: DISTANCE ATOMS=178,411\n",
      "d239: DISTANCE ATOMS=178,433\n",
      "d240: DISTANCE ATOMS=178,453\n",
      "d241: DISTANCE ATOMS=178,475\n",
      "d242: DISTANCE ATOMS=178,482\n",
      "d243: DISTANCE ATOMS=192,212\n",
      "d244: DISTANCE ATOMS=192,236\n",
      "d245: DISTANCE ATOMS=192,250\n",
      "d246: DISTANCE ATOMS=192,265\n",
      "d247: DISTANCE ATOMS=192,287\n",
      "d248: DISTANCE ATOMS=192,302\n",
      "d249: DISTANCE ATOMS=192,321\n",
      "d250: DISTANCE ATOMS=192,345\n",
      "d251: DISTANCE ATOMS=192,357\n",
      "d252: DISTANCE ATOMS=192,377\n",
      "d253: DISTANCE ATOMS=192,396\n",
      "d254: DISTANCE ATOMS=192,411\n",
      "d255: DISTANCE ATOMS=192,433\n",
      "d256: DISTANCE ATOMS=192,453\n",
      "d257: DISTANCE ATOMS=192,475\n",
      "d258: DISTANCE ATOMS=192,482\n",
      "d259: DISTANCE ATOMS=212,236\n",
      "d260: DISTANCE ATOMS=212,250\n",
      "d261: DISTANCE ATOMS=212,265\n",
      "d262: DISTANCE ATOMS=212,287\n",
      "d263: DISTANCE ATOMS=212,302\n",
      "d264: DISTANCE ATOMS=212,321\n",
      "d265: DISTANCE ATOMS=212,345\n",
      "d266: DISTANCE ATOMS=212,357\n",
      "d267: DISTANCE ATOMS=212,377\n",
      "d268: DISTANCE ATOMS=212,396\n",
      "d269: DISTANCE ATOMS=212,411\n",
      "d270: DISTANCE ATOMS=212,433\n",
      "d271: DISTANCE ATOMS=212,453\n",
      "d272: DISTANCE ATOMS=212,475\n",
      "d273: DISTANCE ATOMS=212,482\n",
      "d274: DISTANCE ATOMS=236,250\n",
      "d275: DISTANCE ATOMS=236,265\n",
      "d276: DISTANCE ATOMS=236,287\n",
      "d277: DISTANCE ATOMS=236,302\n",
      "d278: DISTANCE ATOMS=236,321\n",
      "d279: DISTANCE ATOMS=236,345\n",
      "d280: DISTANCE ATOMS=236,357\n",
      "d281: DISTANCE ATOMS=236,377\n",
      "d282: DISTANCE ATOMS=236,396\n",
      "d283: DISTANCE ATOMS=236,411\n",
      "d284: DISTANCE ATOMS=236,433\n",
      "d285: DISTANCE ATOMS=236,453\n",
      "d286: DISTANCE ATOMS=236,475\n",
      "d287: DISTANCE ATOMS=236,482\n",
      "d288: DISTANCE ATOMS=250,265\n",
      "d289: DISTANCE ATOMS=250,287\n",
      "d290: DISTANCE ATOMS=250,302\n",
      "d291: DISTANCE ATOMS=250,321\n",
      "d292: DISTANCE ATOMS=250,345\n",
      "d293: DISTANCE ATOMS=250,357\n",
      "d294: DISTANCE ATOMS=250,377\n",
      "d295: DISTANCE ATOMS=250,396\n",
      "d296: DISTANCE ATOMS=250,411\n",
      "d297: DISTANCE ATOMS=250,433\n",
      "d298: DISTANCE ATOMS=250,453\n",
      "d299: DISTANCE ATOMS=250,475\n",
      "d300: DISTANCE ATOMS=250,482\n",
      "d301: DISTANCE ATOMS=265,287\n",
      "d302: DISTANCE ATOMS=265,302\n",
      "d303: DISTANCE ATOMS=265,321\n",
      "d304: DISTANCE ATOMS=265,345\n",
      "d305: DISTANCE ATOMS=265,357\n",
      "d306: DISTANCE ATOMS=265,377\n",
      "d307: DISTANCE ATOMS=265,396\n",
      "d308: DISTANCE ATOMS=265,411\n",
      "d309: DISTANCE ATOMS=265,433\n",
      "d310: DISTANCE ATOMS=265,453\n",
      "d311: DISTANCE ATOMS=265,475\n",
      "d312: DISTANCE ATOMS=265,482\n",
      "d313: DISTANCE ATOMS=287,302\n",
      "d314: DISTANCE ATOMS=287,321\n",
      "d315: DISTANCE ATOMS=287,345\n",
      "d316: DISTANCE ATOMS=287,357\n",
      "d317: DISTANCE ATOMS=287,377\n",
      "d318: DISTANCE ATOMS=287,396\n",
      "d319: DISTANCE ATOMS=287,411\n",
      "d320: DISTANCE ATOMS=287,433\n",
      "d321: DISTANCE ATOMS=287,453\n",
      "d322: DISTANCE ATOMS=287,475\n",
      "d323: DISTANCE ATOMS=287,482\n",
      "d324: DISTANCE ATOMS=302,321\n",
      "d325: DISTANCE ATOMS=302,345\n",
      "d326: DISTANCE ATOMS=302,357\n",
      "d327: DISTANCE ATOMS=302,377\n",
      "d328: DISTANCE ATOMS=302,396\n",
      "d329: DISTANCE ATOMS=302,411\n",
      "d330: DISTANCE ATOMS=302,433\n",
      "d331: DISTANCE ATOMS=302,453\n",
      "d332: DISTANCE ATOMS=302,475\n",
      "d333: DISTANCE ATOMS=302,482\n",
      "d334: DISTANCE ATOMS=321,345\n",
      "d335: DISTANCE ATOMS=321,357\n",
      "d336: DISTANCE ATOMS=321,377\n",
      "d337: DISTANCE ATOMS=321,396\n",
      "d338: DISTANCE ATOMS=321,411\n",
      "d339: DISTANCE ATOMS=321,433\n",
      "d340: DISTANCE ATOMS=321,453\n",
      "d341: DISTANCE ATOMS=321,475\n",
      "d342: DISTANCE ATOMS=321,482\n",
      "d343: DISTANCE ATOMS=345,357\n",
      "d344: DISTANCE ATOMS=345,377\n",
      "d345: DISTANCE ATOMS=345,396\n",
      "d346: DISTANCE ATOMS=345,411\n",
      "d347: DISTANCE ATOMS=345,433\n",
      "d348: DISTANCE ATOMS=345,453\n",
      "d349: DISTANCE ATOMS=345,475\n",
      "d350: DISTANCE ATOMS=345,482\n",
      "d351: DISTANCE ATOMS=357,377\n",
      "d352: DISTANCE ATOMS=357,396\n",
      "d353: DISTANCE ATOMS=357,411\n",
      "d354: DISTANCE ATOMS=357,433\n",
      "d355: DISTANCE ATOMS=357,453\n",
      "d356: DISTANCE ATOMS=357,475\n",
      "d357: DISTANCE ATOMS=357,482\n",
      "d358: DISTANCE ATOMS=377,396\n",
      "d359: DISTANCE ATOMS=377,411\n",
      "d360: DISTANCE ATOMS=377,433\n",
      "d361: DISTANCE ATOMS=377,453\n",
      "d362: DISTANCE ATOMS=377,475\n",
      "d363: DISTANCE ATOMS=377,482\n",
      "d364: DISTANCE ATOMS=396,411\n",
      "d365: DISTANCE ATOMS=396,433\n",
      "d366: DISTANCE ATOMS=396,453\n",
      "d367: DISTANCE ATOMS=396,475\n",
      "d368: DISTANCE ATOMS=396,482\n",
      "d369: DISTANCE ATOMS=411,433\n",
      "d370: DISTANCE ATOMS=411,453\n",
      "d371: DISTANCE ATOMS=411,475\n",
      "d372: DISTANCE ATOMS=411,482\n",
      "d373: DISTANCE ATOMS=433,453\n",
      "d374: DISTANCE ATOMS=433,475\n",
      "d375: DISTANCE ATOMS=433,482\n",
      "d376: DISTANCE ATOMS=453,475\n",
      "d377: DISTANCE ATOMS=453,482\n",
      "d378: DISTANCE ATOMS=475,482\n"
     ]
    }
   ],
   "source": [
    "cnt = 0\n",
    "for i in range(len(ca_indices)):\n",
    "    for j in range(i+1, len(ca_indices)):\n",
    "        print(f\"d{cnt+1}: DISTANCE ATOMS={ca_indices[i]},{ca_indices[j]}\")\n",
    "        cnt += 1"
   ]
  },
  {
   "cell_type": "code",
   "execution_count": 31,
   "id": "4dd36459",
   "metadata": {},
   "outputs": [
    {
     "name": "stdout",
     "output_type": "stream",
     "text": [
      "ARG=d1,d2,d3,d4,d5,d6,d7,d8,d9,d10,d11,d12,d13,d14,d15,d16,d17,d18,d19,d20,d21,d22,d23,d24,d25,d26,d27,d28,d29,d30,d31,d32,d33,d34,d35,d36,d37,d38,d39,d40,d41,d42,d43,d44,d45,d46,d47,d48,d49,d50,d51,d52,d53,d54,d55,d56,d57,d58,d59,d60,d61,d62,d63,d64,d65,d66,d67,d68,d69,d70,d71,d72,d73,d74,d75,d76,d77,d78,d79,d80,d81,d82,d83,d84,d85,d86,d87,d88,d89,d90,d91,d92,d93,d94,d95,d96,d97,d98,d99,d100,d101,d102,d103,d104,d105,d106,d107,d108,d109,d110,d111,d112,d113,d114,d115,d116,d117,d118,d119,d120,d121,d122,d123,d124,d125,d126,d127,d128,d129,d130,d131,d132,d133,d134,d135,d136,d137,d138,d139,d140,d141,d142,d143,d144,d145,d146,d147,d148,d149,d150,d151,d152,d153,d154,d155,d156,d157,d158,d159,d160,d161,d162,d163,d164,d165,d166,d167,d168,d169,d170,d171,d172,d173,d174,d175,d176,d177,d178,d179,d180,d181,d182,d183,d184,d185,d186,d187,d188,d189,d190,d191,d192,d193,d194,d195,d196,d197,d198,d199,d200,d201,d202,d203,d204,d205,d206,d207,d208,d209,d210,d211,d212,d213,d214,d215,d216,d217,d218,d219,d220,d221,d222,d223,d224,d225,d226,d227,d228,d229,d230,d231,d232,d233,d234,d235,d236,d237,d238,d239,d240,d241,d242,d243,d244,d245,d246,d247,d248,d249,d250,d251,d252,d253,d254,d255,d256,d257,d258,d259,d260,d261,d262,d263,d264,d265,d266,d267,d268,d269,d270,d271,d272,d273,d274,d275,d276,d277,d278,d279,d280,d281,d282,d283,d284,d285,d286,d287,d288,d289,d290,d291,d292,d293,d294,d295,d296,d297,d298,d299,d300,d301,d302,d303,d304,d305,d306,d307,d308,d309,d310,d311,d312,d313,d314,d315,d316,d317,d318,d319,d320,d321,d322,d323,d324,d325,d326,d327,d328,d329,d330,d331,d332,d333,d334,d335,d336,d337,d338,d339,d340,d341,d342,d343,d344,d345,d346,d347,d348,d349,d350,d351,d352,d353,d354,d355,d356,d357,d358,d359,d360,d361,d362,d363,d364,d365,d366,d367,d368,d369,d370,d371,d372,d373,d374,d375,d376,d377,d378\n"
     ]
    }
   ],
   "source": [
    "print(\"ARG=\" + \",\".join(f\"d{i+1}\" for i in range(cnt)))"
   ]
  },
  {
   "cell_type": "markdown",
   "id": "86c9f5e5",
   "metadata": {},
   "source": [
    "# Descriptors"
   ]
  },
  {
   "cell_type": "code",
   "execution_count": null,
   "id": "61756f7e",
   "metadata": {},
   "outputs": [
    {
     "name": "stdout",
     "output_type": "stream",
     "text": [
      "<mdtraj.Trajectory with 10000 frames, 504 atoms, 28 residues, and unitcells>\n"
     ]
    },
    {
     "data": {
      "application/vnd.jupyter.widget-view+json": {
       "model_id": "2c84b20d0a944e1baaa825e92f6cab82",
       "version_major": 2,
       "version_minor": 0
      },
      "text/plain": [
       "NGLWidget(max_frame=9999)"
      ]
     },
     "metadata": {},
     "output_type": "display_data"
    }
   ],
   "source": [
    "sample_traj_path = \"/home/shpark/prj-mlcv/lib/DESRES/DESRES-Trajectory_1FME-0-protein/1FME-0-protein/1FME-0-protein-000-aligned.dcd\"\n",
    "pdb_path = \"/home/shpark/prj-mlcv/lib/bioemu/opes/data/1FME/1FME_from_mae.pdb\"\n",
    "# pdb_path = \"/home/shpark/prj-mlcv/lib/DESRES/data/1FME/1FME.pdb\"\n",
    "\n",
    "sample_traj = md.load_dcd(\n",
    "    sample_traj_path,\n",
    "    top=pdb_path\n",
    ")\n",
    "sample_traj.center_coordinates()\n",
    "print(sample_traj)\n",
    "\n",
    "sample_view = nv.show_mdtraj(sample_traj)\n",
    "sample_view.add_representation(\"licorice\", selection=\"protein\")\n",
    "sample_view.display()"
   ]
  },
  {
   "cell_type": "code",
   "execution_count": 8,
   "id": "f287f865",
   "metadata": {},
   "outputs": [
    {
     "data": {
      "application/vnd.jupyter.widget-view+json": {
       "model_id": "c4c8fd701f6b46d4b2b46e5592a5169c",
       "version_major": 2,
       "version_minor": 0
      },
      "text/plain": [
       "NGLWidget()"
      ]
     },
     "metadata": {},
     "output_type": "display_data"
    }
   ],
   "source": [
    "pdb_traj = md.load_pdb(pdb_path)\n",
    "pdb_traj.center_coordinates()\n",
    "pdb_view = nv.show_mdtraj(pdb_traj)\n",
    "pdb_view.add_representation(\"licorice\", selection=\"protein\")\n",
    "pdb_view.display()\n"
   ]
  },
  {
   "cell_type": "code",
   "execution_count": null,
   "id": "be3a1fd4",
   "metadata": {},
   "outputs": [],
   "source": [
    "ca_resid_pair = np.array(\n",
    "\t[(a.index, b.index) for a, b in combinations(list(all_traj.topology.residues), 2)]\n",
    ")"
   ]
  },
  {
   "cell_type": "markdown",
   "id": "09af401e",
   "metadata": {},
   "source": [
    "# TICA"
   ]
  },
  {
   "cell_type": "code",
   "execution_count": 67,
   "id": "bc67eead",
   "metadata": {},
   "outputs": [
    {
     "name": "stdout",
     "output_type": "stream",
     "text": [
      "gmx trjconv -f /bioemu/opes/simulations/1fme/tica/debug/0.xtc-s /bioemu/opes/data/1FME/nvt_0.tpr -pbc nojump -o /bioemu/opes/simulations/1fme/tica/debug/0.xtc\n"
     ]
    }
   ],
   "source": [
    "xtc_path = \"/bioemu/opes/simulations/1fme/tica/debug/0.xtc\"\n",
    "analysis_dir = Path(f\"/bioemu/opes/simulations/1fme/tica/debug/\")\n",
    "tpr_path = \"/bioemu/opes/data/1FME/nvt_0.tpr\"\n",
    "# cmd = f\"gmx trjconv -f {xtc_path} -o {analysis_dir}/0_debug.xtc -pbc nojump \"\n",
    "cmd = f\"gmx trjconv -f {xtc_path}-s {tpr_path} -pbc nojump -o {analysis_dir}/0.xtc\"\n",
    "print(cmd)"
   ]
  },
  {
   "cell_type": "code",
   "execution_count": 75,
   "id": "c1aa6f58",
   "metadata": {},
   "outputs": [
    {
     "name": "stdout",
     "output_type": "stream",
     "text": [
      "python analysis_opes.py --config-name tica-1fme date=0908_152748 analysis.skip_steps=0 analysis.unit_steps=1 +tags=['vast','debug']\n"
     ]
    }
   ],
   "source": [
    "method=\"tica\"\n",
    "moelcule=\"1fme\"\n",
    "date=\"0908_152748\"\n",
    "\n",
    "print(f\"python analysis_opes.py --config-name {method}-{molecule} date={date} analysis.skip_steps=0 analysis.unit_steps=1 +tags=['vast','debug']\")"
   ]
  },
  {
   "cell_type": "markdown",
   "id": "55199926",
   "metadata": {},
   "source": [
    "# Something"
   ]
  },
  {
   "cell_type": "code",
   "execution_count": null,
   "id": "6efe5221",
   "metadata": {},
   "outputs": [],
   "source": [
    "gmx trjconv -f /bioemu/opes/simulations/cln025/ours/0907_065813/0.xtc -center -s /bioemu/opes/data/CLN025/nvt_0.tpr -pbc mol -o /bioemu/opes/simulations/cln025/ours/0907_065813/analysis/0_tctc.xtc\n"
   ]
  },
  {
   "cell_type": "code",
   "execution_count": 81,
   "id": "5f59900b",
   "metadata": {},
   "outputs": [
    {
     "data": {
      "application/vnd.jupyter.widget-view+json": {
       "model_id": "ecf23666aafd48eea95fdd65dc9947f4",
       "version_major": 2,
       "version_minor": 0
      },
      "text/plain": [
       "NGLWidget(max_frame=67356)"
      ]
     },
     "metadata": {},
     "output_type": "display_data"
    }
   ],
   "source": [
    "xtc_path = \"/home/shpark/prj-mlcv/lib/bioemu/opes/simulations/cln025/ours/0907_065813/analysis/0_tctc.xtc\"\n",
    "gro_path = \"/home/shpark/prj-mlcv/lib/bioemu/opes/data/CLN025/folded.gro\"\n",
    "traj = md.load(xtc_path, top=gro_path)\n",
    "view = nv.show_mdtraj(traj)\n",
    "view.add_representation(\"licorice\", selection=\"protein\")\n",
    "view.display()"
   ]
  },
  {
   "cell_type": "code",
   "execution_count": null,
   "id": "9b91325a",
   "metadata": {},
   "outputs": [],
   "source": []
  }
 ],
 "metadata": {
  "kernelspec": {
   "display_name": "bioemu",
   "language": "python",
   "name": "python3"
  },
  "language_info": {
   "codemirror_mode": {
    "name": "ipython",
    "version": 3
   },
   "file_extension": ".py",
   "mimetype": "text/x-python",
   "name": "python",
   "nbconvert_exporter": "python",
   "pygments_lexer": "ipython3",
   "version": "3.10.18"
  }
 },
 "nbformat": 4,
 "nbformat_minor": 5
}
