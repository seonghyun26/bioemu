{
 "cells": [
  {
   "cell_type": "code",
   "execution_count": 17,
   "id": "17672514",
   "metadata": {},
   "outputs": [],
   "source": [
    "import mdtraj as md\n",
    "\n",
    "molecule=\"gtt\"\n",
    "molecule_lower = molecule.lower()\n",
    "molecule_upper = molecule.upper()"
   ]
  },
  {
   "cell_type": "code",
   "execution_count": 19,
   "id": "53c7fb38",
   "metadata": {},
   "outputs": [],
   "source": [
    "traj = md.load(f\"../data/{molecule_upper}/folded.pdb\")\n",
    "traj.save_gro(f\"../data/{molecule_upper}/folded.gro\")"
   ]
  },
  {
   "cell_type": "code",
   "execution_count": null,
   "id": "ccc2b094",
   "metadata": {},
   "outputs": [
    {
     "name": "stdout",
     "output_type": "stream",
     "text": [
      "\n",
      "Create .gro file\n",
      "gmx pdb2gmx -f GTT/folded.pdb -o GTT/folded.gro -p GTT/topol.top -ff charmm27 -water tip3p --ignh\n",
      "\n",
      "Create .tpr file\n",
      "gmx grompp -f gtt.mdp -c GTT/folded.gro -p GTT/topol.top -o GTT/gtt.tpr -maxwarn 2\n"
     ]
    }
   ],
   "source": [
    "print(\"\\nCreate .gro file\")\n",
    "# print(f\"gmx pdb2gmx -f {molecule_upper}/folded.pdb -o {molecule_upper}/folded.gro -p {molecule_upper}/topol.top -ignh\")\n",
    "print(f\"gmx pdb2gmx -f {molecule_upper}/folded.pdb -o {molecule_upper}/folded.gro -p {molecule_upper}/topol.top -ff charmm27 -water tip3p --ignh\")\n",
    "\n",
    "print(\"\\nCreate .tpr file\")\n",
    "print(f\"gmx grompp -f {molecule_lower}.mdp -c {molecule_upper}/folded.gro -p {molecule_upper}/topol.top -o {molecule_upper}/nvt_0.tpr -maxwarn 2\")"
   ]
  },
  {
   "cell_type": "code",
   "execution_count": null,
   "id": "7ab3214e",
   "metadata": {
    "vscode": {
     "languageId": "shellscript"
    }
   },
   "outputs": [],
   "source": [
    "gmx grompp -f test.mdp -c 2JOF/folded.gro -p 2JOF/topol.top -o 2jof.tpr\n",
    "\n",
    "gmx pdb2gmx -f 2JOF/folded.pdb -o 2JOF/folded.gro -p 2JOF/topol.top -ff amber99sb-ildn -water tip3p\n",
    "\n",
    "gmx grompp -f 2JOF/2jof.mdp -c 2JOF/folded.gro -p 2JOF/topol.top -o 2jof.tpr\n",
    "\n",
    "gmx grompp -f test.mdp -c 2JOF/folded.gro -p 2JOF/topol.top -o 2jof.tpr"
   ]
  },
  {
   "cell_type": "code",
   "execution_count": null,
   "metadata": {
    "vscode": {
     "languageId": "shellscript"
    }
   },
   "outputs": [],
   "source": [
    "Opening force field file /gromacs/AVX2_256_ts/share/gromacs/top/charmm27.ff/atomtypes.atp\n",
    "Opening force field file /gromacs/AVX2_256_ts/share/gromacs/top/charmm27.ff/aminoacids.rtp\n",
    "Opening force field file /gromacs/AVX2_256_ts/share/gromacs/top/charmm27.ff/dna.rtp\n",
    "Opening force field file /gromacs/AVX2_256_ts/share/gromacs/top/charmm27.ff/lipids.rtp\n",
    "Opening force field file /gromacs/AVX2_256_ts/share/gromacs/top/charmm27.ff/rna.rtp\n",
    "Opening force field file /gromacs/AVX2_256_ts/share/gromacs/top/charmm27.ff/aminoacids.hdb\n",
    "Opening force field file /gromacs/AVX2_256_ts/share/gromacs/top/charmm27.ff/dna.hdb\n",
    "Opening force field file /gromacs/AVX2_256_ts/share/gromacs/top/charmm27.ff/lipids.hdb\n",
    "Opening force field file /gromacs/AVX2_256_ts/share/gromacs/top/charmm27.ff/rna.hdb\n",
    "Opening force field file /gromacs/AVX2_256_ts/share/gromacs/top/charmm27.ff/aminoacids.n.tdb\n",
    "Opening force field file /gromacs/AVX2_256_ts/share/gromacs/top/charmm27.ff/dna.n.tdb\n",
    "Opening force field file /gromacs/AVX2_256_ts/share/gromacs/top/charmm27.ff/rna.n.tdb\n",
    "Opening force field file /gromacs/AVX2_256_ts/share/gromacs/top/charmm27.ff/aminoacids.c.tdb\n",
    "Opening force field file /gromacs/AVX2_256_ts/share/gromacs/top/charmm27.ff/dna.c.tdb\n",
    "Opening force field file /gromacs/AVX2_256_ts/share/gromacs/top/charmm27.ff/rna.c.tdb\n",
    "\n",
    "/gromacs/AVX2_256_ts/share/gromacs/top/charmm27.ff/atomtypes.atp\n",
    "/gromacs/AVX2_256_ts/share/gromacs/top/charmm27.ff/aminoacids.hdb\n",
    "/gromacs/AVX2_256_ts/share/gromacs/top/charmm27.ff/aminoacids.rtp\n",
    "/gromacs/AVX2_256_ts/share/gromacs/top/charmm27.ff/aminoacids.n.tdb\n",
    "/gromacs/AVX2_256_ts/share/gromacs/top/charmm27.ff/aminoacids.c.tdb\n",
    "\n",
    "residuetypes.dat "
   ]
  },
  {
   "cell_type": "code",
   "execution_count": null,
   "id": "2c448bc2",
   "metadata": {},
   "outputs": [],
   "source": [
    "1.79071   2.10721   1.56292"
   ]
  },
  {
   "cell_type": "markdown",
   "id": "a64ef2da",
   "metadata": {},
   "source": [
    "8: CHARMM27 all-atom force field (CHARM22 plus CMAP for proteins)\n",
    "\n",
    "1: TIP3P   TIP 3-point, recommended"
   ]
  }
 ],
 "metadata": {
  "kernelspec": {
   "display_name": "bioemu",
   "language": "python",
   "name": "python3"
  },
  "language_info": {
   "codemirror_mode": {
    "name": "ipython",
    "version": 3
   },
   "file_extension": ".py",
   "mimetype": "text/x-python",
   "name": "python",
   "nbconvert_exporter": "python",
   "pygments_lexer": "ipython3",
   "version": "3.10.18"
  }
 },
 "nbformat": 4,
 "nbformat_minor": 5
}
