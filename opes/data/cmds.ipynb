{
 "cells": [
  {
   "cell_type": "markdown",
   "id": "ed4d24c3",
   "metadata": {},
   "source": [
    "# GROMACS CMDs"
   ]
  },
  {
   "cell_type": "markdown",
   "id": "5bf6c72d",
   "metadata": {},
   "source": [
    "## Force field"
   ]
  },
  {
   "cell_type": "code",
   "execution_count": null,
   "id": "3921f148",
   "metadata": {
    "vscode": {
     "languageId": "shellscript"
    }
   },
   "outputs": [],
   "source": [
    "Opening force field file /gromacs/AVX2_256_ts/share/gromacs/top/charmm27.ff/atomtypes.atp\n",
    "Opening force field file /gromacs/AVX2_256_ts/share/gromacs/top/charmm27.ff/aminoacids.rtp\n",
    "Opening force field file /gromacs/AVX2_256_ts/share/gromacs/top/charmm27.ff/dna.rtp\n",
    "Opening force field file /gromacs/AVX2_256_ts/share/gromacs/top/charmm27.ff/lipids.rtp\n",
    "Opening force field file /gromacs/AVX2_256_ts/share/gromacs/top/charmm27.ff/rna.rtp\n",
    "Opening force field file /gromacs/AVX2_256_ts/share/gromacs/top/charmm27.ff/aminoacids.hdb\n",
    "Opening force field file /gromacs/AVX2_256_ts/share/gromacs/top/charmm27.ff/dna.hdb\n",
    "Opening force field file /gromacs/AVX2_256_ts/share/gromacs/top/charmm27.ff/lipids.hdb\n",
    "Opening force field file /gromacs/AVX2_256_ts/share/gromacs/top/charmm27.ff/rna.hdb\n",
    "Opening force field file /gromacs/AVX2_256_ts/share/gromacs/top/charmm27.ff/aminoacids.n.tdb\n",
    "Opening force field file /gromacs/AVX2_256_ts/share/gromacs/top/charmm27.ff/dna.n.tdb\n",
    "Opening force field file /gromacs/AVX2_256_ts/share/gromacs/top/charmm27.ff/rna.n.tdb\n",
    "Opening force field file /gromacs/AVX2_256_ts/share/gromacs/top/charmm27.ff/aminoacids.c.tdb\n",
    "Opening force field file /gromacs/AVX2_256_ts/share/gromacs/top/charmm27.ff/dna.c.tdb\n",
    "Opening force field file /gromacs/AVX2_256_ts/share/gromacs/top/charmm27.ff/rna.c.tdb\n",
    "\n",
    "/gromacs/AVX2_256_ts/share/gromacs/top/charmm27.ff/aminoacids.hdb\n",
    "/gromacs/AVX2_256_ts/share/gromacs/top/charmm27.ff/aminoacids.rtp\n",
    "/gromacs/AVX2_256_ts/share/gromacs/top/residuetypes.dat \n",
    "# /gromacs/AVX2_256_ts/share/gromacs/top/charmm27.ff/atomtypes.atp\n",
    "# /gromacs/AVX2_256_ts/share/gromacs/top/charmm27.ff/aminoacids.n.tdb -> Seems like IONS\n",
    "# /gromacs/AVX2_256_ts/share/gromacs/top/charmm27.ff/aminoacids.c.tdb -> Terminal ones, OXT\n",
    "\n",
    "NLE \n",
    "residuetypes.dat <- 51: NLE Protein"
   ]
  },
  {
   "cell_type": "markdown",
   "id": "a64ef2da",
   "metadata": {},
   "source": [
    "8: CHARMM27 all-atom force field (CHARM22 plus CMAP for proteins)\n",
    "\n",
    "1: TIP3P   TIP 3-point, recommended"
   ]
  },
  {
   "cell_type": "markdown",
   "id": "44ca3e49",
   "metadata": {},
   "source": [
    "# Equilibrium"
   ]
  },
  {
   "cell_type": "code",
   "execution_count": 1,
   "metadata": {
    "vscode": {
     "languageId": "shellscript"
    }
   },
   "outputs": [
    {
     "data": {
      "application/vnd.jupyter.widget-view+json": {
       "model_id": "eecba0a454fc4b35a85f2110c07c1bf6",
       "version_major": 2,
       "version_minor": 0
      },
      "text/plain": []
     },
     "metadata": {},
     "output_type": "display_data"
    }
   ],
   "source": [
    "import mdtraj as md\n",
    "import nglview as nv\n",
    "\n",
    "molecule=\"2f4k\"\n",
    "molecule_lower = molecule.lower()\n",
    "molecule_upper = molecule.upper()"
   ]
  },
  {
   "cell_type": "markdown",
   "id": "5a8152ac",
   "metadata": {},
   "source": [
    "## Explicit TIP3P"
   ]
  },
  {
   "cell_type": "code",
   "execution_count": 2,
   "id": "5c5797ba",
   "metadata": {},
   "outputs": [
    {
     "name": "stdout",
     "output_type": "stream",
     "text": [
      "Initial system configuration: folded.gro, topol.top\n",
      "gmx pdb2gmx -f folded.pdb -o folded.gro -p topol.top -ff charmm27 -water tip3p --ignh\n",
      "\n",
      "gmx pdb2gmx -f folded.pdb -o folded.gro -p topol.top -ff charmm36 -water tip3p --ignh\n",
      "\n",
      "Create box: folded_boxed.gro\n",
      "gmx editconf -f folded.gro -o folded_boxed.gro -c -d 1.2 -bt cubic -box 4.7 4.7 4.7\n",
      "\n",
      "Solvate: folded_solv.gro, topol.top\n",
      "gmx solvate -cp folded_boxed.gro -cs spc216.gro -o folded_solv.gro -p topol.top\n",
      "\n",
      "> Add ions: ions.tpr - WARNING on net charge\n",
      "gmx grompp -f ../common/ions.mdp -po ions.mdp -c folded_solv.gro -p topol.top -o ions.tpr -maxwarn 1\n",
      "> Select SOL (13): topol.top, folded_solv_ions.gro\n",
      "gmx genion -s ions.tpr -o folded_solv_ions.gro -p topol.top -pname NA -nname CL -neutral\n",
      "\n",
      "\n",
      "\n",
      "Energy minimization (EM)\n",
      "> Energy minimization: em.tpr\n",
      "gmx grompp -f ../common/minim.mdp -c folded_solv_ions.gro -p topol.top -o em.tpr\n",
      "\n",
      "> Run EM MD: em.log, em.edr (energy), em.trr (full precision trajectory), em.gro (EM structure)\n",
      "gmx mdrun -v -deffnm em -ntomp 1 -pin on\n",
      "\n",
      "> Energy analysis (11 0): potential.xvg\n",
      "gmx energy -f em.edr -o potential.xvg\n",
      "\n",
      "\n",
      "\n",
      "Equilibration - temperature\n",
      "> Equilibration - temperature: nvt.tpr, nvt.gro, nvt.cpt, nvt.edr, nvt.log, nvt.trr, nvt.log, nvt.xtc\n",
      "gmx grompp -f ./2f4k_nvt.mdp -c em.gro -r em.gro -p topol.top -po 2f4k_nvt_out.mdp -o nvt.tpr\n",
      "\n",
      "> Run NVT MD: nvt.log, nvt.xtc\n",
      "gmx mdrun -deffnm nvt -ntomp 1 -pin on -bonded gpu -nb gpu -pme gpu\n",
      "\n",
      "> Energy analysis (16 0): temperature.xvg\n",
      "gmx energy -f nvt.edr -o temperature.xvg\n",
      "\n",
      "\n",
      "\n",
      "Equilibration - pressure\n",
      "> Equilibration - pressure : npt.tpr, npt.gro, npt.cpt, npt.edr, npt.log, npt.trr, npt.log, npt.xtc\n",
      "gmx grompp -f ./2f4k_npt.mdp -c nvt.gro -r nvt.gro -t nvt.cpt -p topol.top -po 2f4k_npt_out.mdp -o npt.tpr\n",
      "\n",
      "> Run NPT MD: npt.log, npt.xtc\n",
      "gmx mdrun -deffnm npt -ntomp 1 -pin on -bonded gpu -nb gpu -pme gpu\n",
      "\n",
      "> Energy analysis (17 0): pressure.xvg\n",
      "gmx energy -f npt.edr -o pressure.xvg\n",
      "\n",
      "> Energy analysis (23 0): density.xvg\n",
      "gmx energy -f npt.edr -o density.xvg\n",
      "\n",
      "\n",
      "\n",
      "> Final tpr\n",
      "gmx grompp -f ./2f4k_md.mdp -c npt.gro -t npt.cpt -p topol.top -o md.tpr\n"
     ]
    }
   ],
   "source": [
    "cmds = []\n",
    "## Initial system ##\n",
    "cmds.append(\"Initial system configuration: folded.gro, topol.top\")\n",
    "cmds.append(\"gmx pdb2gmx -f folded.pdb -o folded.gro -p topol.top -ff charmm27 -water tip3p --ignh\\n\")\n",
    "cmds.append(\"gmx pdb2gmx -f folded.pdb -o folded.gro -p topol.top -ff charmm36 -water tip3p --ignh\\n\")\n",
    "\n",
    "cmds.append(\"Create box: folded_boxed.gro\")\n",
    "cmds.append(\"gmx editconf -f folded.gro -o folded_boxed.gro -c -d 1.2 -bt cubic -box 4.7 4.7 4.7\\n\")\n",
    "\n",
    "cmds.append(\"Solvate: folded_solv.gro, topol.top\")\n",
    "cmds.append(\"gmx solvate -cp folded_boxed.gro -cs spc216.gro -o folded_solv.gro -p topol.top\\n\")\n",
    "\n",
    "cmds.append(\"> Add ions: ions.tpr - WARNING on net charge\")\n",
    "cmds.append(\"gmx grompp -f ../common/ions.mdp -po ions.mdp -c folded_solv.gro -p topol.top -o ions.tpr -maxwarn 1\")\n",
    "cmds.append(\"> Select SOL (13): topol.top, folded_solv_ions.gro\")\n",
    "cmds.append(\"gmx genion -s ions.tpr -o folded_solv_ions.gro -p topol.top -pname NA -nname CL -neutral\\n\")\n",
    "\n",
    "\n",
    "\n",
    "cmds.append(\"\\n\\nEnergy minimization (EM)\")\n",
    "cmds.append(\"> Energy minimization: em.tpr\")\n",
    "cmds.append(\"gmx grompp -f ../common/minim.mdp -c folded_solv_ions.gro -p topol.top -o em.tpr\\n\")\n",
    "\n",
    "cmds.append(\"> Run EM MD: em.log, em.edr (energy), em.trr (full precision trajectory), em.gro (EM structure)\")\n",
    "cmds.append(\"gmx mdrun -v -deffnm em -ntomp 1 -pin on\\n\")\n",
    "\n",
    "cmds.append(\"> Energy analysis (11 0): potential.xvg\")\n",
    "cmds.append(\"gmx energy -f em.edr -o potential.xvg\\n\")\n",
    "\n",
    "\n",
    "\n",
    "cmds.append(\"\\n\\nEquilibration - temperature\")\n",
    "cmds.append(\"> Equilibration - temperature: nvt.tpr, nvt.gro, nvt.cpt, nvt.edr, nvt.log, nvt.trr, nvt.log, nvt.xtc\")\n",
    "cmds.append(f\"gmx grompp -f ./{molecule_lower}_nvt.mdp -c em.gro -r em.gro -p topol.top -po {molecule_lower}_nvt_out.mdp -o nvt.tpr\\n\")\n",
    "\n",
    "cmds.append(\"> Run NVT MD: nvt.log, nvt.xtc\")\n",
    "cmds.append(\"gmx mdrun -deffnm nvt -ntomp 1 -pin on -bonded gpu -nb gpu -pme gpu\\n\")\n",
    "\n",
    "cmds.append(\"> Energy analysis (16 0): temperature.xvg\")\n",
    "cmds.append(\"gmx energy -f nvt.edr -o temperature.xvg\\n\")\n",
    "\n",
    "\n",
    "\n",
    "cmds.append(\"\\n\\nEquilibration - pressure\")\n",
    "cmds.append(\"> Equilibration - pressure : npt.tpr, npt.gro, npt.cpt, npt.edr, npt.log, npt.trr, npt.log, npt.xtc\")\n",
    "cmds.append(f\"gmx grompp -f ./{molecule_lower}_npt.mdp -c nvt.gro -r nvt.gro -t nvt.cpt -p topol.top -po {molecule_lower}_npt_out.mdp -o npt.tpr\\n\")\n",
    "cmds.append(\"> Run NPT MD: npt.log, npt.xtc\")\n",
    "cmds.append(\"gmx mdrun -deffnm npt -ntomp 1 -pin on -bonded gpu -nb gpu -pme gpu\\n\")\n",
    "\n",
    "cmds.append(\"> Energy analysis (17 0): pressure.xvg\")\n",
    "cmds.append(\"gmx energy -f npt.edr -o pressure.xvg\\n\")\n",
    "\n",
    "cmds.append(\"> Energy analysis (23 0): density.xvg\")\n",
    "cmds.append(\"gmx energy -f npt.edr -o density.xvg\\n\")\n",
    "\n",
    "\n",
    "\n",
    "## Production MD ##\n",
    "cmds.append(\"\\n\\n> Final tpr\")\n",
    "cmds.append(f\"gmx grompp -f ./{molecule_lower}_md.mdp -c npt.gro -t npt.cpt -p topol.top -o md.tpr\")\n",
    "\n",
    "for cmd in cmds:\n",
    "    print(cmd)\n"
   ]
  },
  {
   "cell_type": "markdown",
   "id": "dfcdbeec",
   "metadata": {},
   "source": [
    "## Visualization"
   ]
  },
  {
   "cell_type": "code",
   "execution_count": null,
   "id": "30720fdb",
   "metadata": {},
   "outputs": [
    {
     "data": {
      "application/vnd.jupyter.widget-view+json": {
       "model_id": "62b9aacdaa664dd19b6a74838727098e",
       "version_major": 2,
       "version_minor": 0
      },
      "text/plain": [
       "NGLWidget()"
      ]
     },
     "metadata": {},
     "output_type": "display_data"
    }
   ],
   "source": [
    "gro_path = f\"./{molecule.upper()}/folded_solv_ions.gro\"\n",
    "gro_traj = md.load(gro_path)\n",
    "gro_traj.center_coordinates()\n",
    "gro_view = nv.show_mdtraj(gro_traj)\n",
    "gro_view.clear_representations()\n",
    "gro_view.add_cartoon(selection=\"protein\")\n",
    "gro_view.add_ball_and_stick(selection=\"resname\")\n",
    "gro_view.add_ball_and_stick(selection=\"CL\", radius=0.5)\n",
    "\n",
    "gro_view"
   ]
  },
  {
   "cell_type": "code",
   "execution_count": null,
   "id": "17f5c9d0",
   "metadata": {},
   "outputs": [
    {
     "data": {
      "application/vnd.jupyter.widget-view+json": {
       "model_id": "da2e9122d54a4eb9865063e594f7134f",
       "version_major": 2,
       "version_minor": 0
      },
      "text/plain": [
       "NGLWidget(max_frame=50)"
      ]
     },
     "metadata": {},
     "output_type": "display_data"
    }
   ],
   "source": [
    "xtc_path = f\"./{molecule.upper()}/nvt.xtc\"\n",
    "gro_path = f\"./{molecule.upper()}/nvt.gro\"\n",
    "gro_traj = md.load(xtc_path, top=gro_path)\n",
    "gro_traj.center_coordinates()\n",
    "gro_view = nv.show_mdtraj(gro_traj)\n",
    "gro_view.clear_representations()\n",
    "gro_view.add_cartoon(selection=\"protein\")\n",
    "gro_view.add_ball_and_stick(selection=\"resname\")\n",
    "gro_view.add_ball_and_stick(selection=\"CL\", radius=0.5)\n",
    "\n",
    "gro_view"
   ]
  },
  {
   "cell_type": "code",
   "execution_count": null,
   "id": "c1f543c4",
   "metadata": {},
   "outputs": [
    {
     "data": {
      "application/vnd.jupyter.widget-view+json": {
       "model_id": "31040a3e8e3b44279967edb3960f28c0",
       "version_major": 2,
       "version_minor": 0
      },
      "text/plain": [
       "NGLWidget()"
      ]
     },
     "metadata": {},
     "output_type": "display_data"
    }
   ],
   "source": [
    "gro_path = f\"./{molecule.upper()}/npt.gro\"\n",
    "gro_traj = md.load(gro_path)\n",
    "gro_traj.center_coordinates()\n",
    "gro_view = nv.show_mdtraj(gro_traj)\n",
    "gro_view.clear_representations()\n",
    "gro_view.add_cartoon(selection=\"protein\")\n",
    "gro_view.add_ball_and_stick(selection=\"resname\")\n",
    "gro_view.add_ball_and_stick(selection=\"CL\", radius=0.5)\n",
    "\n",
    "gro_view"
   ]
  },
  {
   "cell_type": "code",
   "execution_count": null,
   "id": "e3b8cc55",
   "metadata": {},
   "outputs": [
    {
     "data": {
      "application/vnd.jupyter.widget-view+json": {
       "model_id": "3e3c4f3a8d82437e80e968b41262b889",
       "version_major": 2,
       "version_minor": 0
      },
      "text/plain": [
       "NGLWidget()"
      ]
     },
     "metadata": {},
     "output_type": "display_data"
    }
   ],
   "source": [
    "gro_path = f\"./{molecule.upper()}/folded.gro\"\n",
    "gro_traj = md.load(gro_path)\n",
    "gro_traj.center_coordinates()\n",
    "gro_view = nv.show_mdtraj(gro_traj)\n",
    "gro_view.clear_representations()\n",
    "gro_view.add_cartoon(selection=\"protein\")\n",
    "gro_view.add_ball_and_stick(selection=\"resname\")\n",
    "gro_view.add_ball_and_stick(selection=\"CL\", radius=0.5)\n",
    "\n",
    "gro_view"
   ]
  },
  {
   "cell_type": "code",
   "execution_count": null,
   "id": "3e2f065a",
   "metadata": {},
   "outputs": [
    {
     "data": {
      "application/vnd.jupyter.widget-view+json": {
       "model_id": "ad5acee768be490ab171af13dd8c3178",
       "version_major": 2,
       "version_minor": 0
      },
      "text/plain": [
       "NGLWidget(max_frame=20)"
      ]
     },
     "metadata": {},
     "output_type": "display_data"
    }
   ],
   "source": [
    "xtc_path = f\"/home/shpark/prj-mlcv/lib/bioemu/opes/simulations/1fme/tica/debug/0.xtc\"\n",
    "gro_path = f\"./{molecule.upper()}/folded.gro\"\n",
    "gro_traj = md.load_xtc(xtc_path, top=gro_path)\n",
    "gro_traj.center_coordinates()\n",
    "gro_view = nv.show_mdtraj(gro_traj)\n",
    "gro_view.clear_representations()\n",
    "gro_view.add_cartoon(selection=\"protein\")\n",
    "gro_view.add_ball_and_stick(selection=\"resname\")\n",
    "gro_view.add_ball_and_stick(selection=\"CL\", radius=0.5)\n",
    "\n",
    "gro_view"
   ]
  },
  {
   "cell_type": "code",
   "execution_count": null,
   "id": "a5000975",
   "metadata": {},
   "outputs": [],
   "source": []
  }
 ],
 "metadata": {
  "kernelspec": {
   "display_name": "bioemu",
   "language": "python",
   "name": "python3"
  },
  "language_info": {
   "codemirror_mode": {
    "name": "ipython",
    "version": 3
   },
   "file_extension": ".py",
   "mimetype": "text/x-python",
   "name": "python",
   "nbconvert_exporter": "python",
   "pygments_lexer": "ipython3",
   "version": "3.10.18"
  }
 },
 "nbformat": 4,
 "nbformat_minor": 5
}
