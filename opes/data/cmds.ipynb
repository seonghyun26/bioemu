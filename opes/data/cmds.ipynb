{
 "cells": [
  {
   "cell_type": "markdown",
   "id": "ed4d24c3",
   "metadata": {},
   "source": [
    "# GROMACS CMDs"
   ]
  },
  {
   "cell_type": "code",
   "execution_count": 27,
   "id": "17672514",
   "metadata": {},
   "outputs": [],
   "source": [
    "import mdtraj as md\n",
    "import nglview as nv\n",
    "\n",
    "molecule=\"1fme\"\n",
    "molecule_lower = molecule.lower()\n",
    "molecule_upper = molecule.upper()"
   ]
  },
  {
   "cell_type": "code",
   "execution_count": 29,
   "id": "ccc2b094",
   "metadata": {},
   "outputs": [
    {
     "name": "stdout",
     "output_type": "stream",
     "text": [
      "\n",
      "Create .gro file\n",
      "gmx pdb2gmx -f folded.pdb -o folded.gro -p topol.top -ff charmm27 -water tip3p --ignh\n",
      "\n",
      "Create .tpr file\n",
      "gmx grompp -f 1fme.mdp -c folded.gro -p topol.top -o nvt_0.tpr -maxwarn 2\n"
     ]
    }
   ],
   "source": [
    "print(\"\\nCreate .gro file\")\n",
    "print(f\"gmx pdb2gmx -f folded.pdb -o folded.gro -p topol.top -ff charmm27 -water tip3p --ignh\")\n",
    "\n",
    "print(\"\\nCreate .tpr file\")\n",
    "print(f\"gmx grompp -f {molecule_lower}.mdp -c folded.gro -p topol.top -o nvt_0.tpr -maxwarn 2\")"
   ]
  },
  {
   "cell_type": "code",
   "execution_count": null,
   "id": "3921f148",
   "metadata": {
    "vscode": {
     "languageId": "shellscript"
    }
   },
   "outputs": [],
   "source": [
    "Opening force field file /gromacs/AVX2_256_ts/share/gromacs/top/charmm27.ff/atomtypes.atp\n",
    "Opening force field file /gromacs/AVX2_256_ts/share/gromacs/top/charmm27.ff/aminoacids.rtp\n",
    "Opening force field file /gromacs/AVX2_256_ts/share/gromacs/top/charmm27.ff/dna.rtp\n",
    "Opening force field file /gromacs/AVX2_256_ts/share/gromacs/top/charmm27.ff/lipids.rtp\n",
    "Opening force field file /gromacs/AVX2_256_ts/share/gromacs/top/charmm27.ff/rna.rtp\n",
    "Opening force field file /gromacs/AVX2_256_ts/share/gromacs/top/charmm27.ff/aminoacids.hdb\n",
    "Opening force field file /gromacs/AVX2_256_ts/share/gromacs/top/charmm27.ff/dna.hdb\n",
    "Opening force field file /gromacs/AVX2_256_ts/share/gromacs/top/charmm27.ff/lipids.hdb\n",
    "Opening force field file /gromacs/AVX2_256_ts/share/gromacs/top/charmm27.ff/rna.hdb\n",
    "Opening force field file /gromacs/AVX2_256_ts/share/gromacs/top/charmm27.ff/aminoacids.n.tdb\n",
    "Opening force field file /gromacs/AVX2_256_ts/share/gromacs/top/charmm27.ff/dna.n.tdb\n",
    "Opening force field file /gromacs/AVX2_256_ts/share/gromacs/top/charmm27.ff/rna.n.tdb\n",
    "Opening force field file /gromacs/AVX2_256_ts/share/gromacs/top/charmm27.ff/aminoacids.c.tdb\n",
    "Opening force field file /gromacs/AVX2_256_ts/share/gromacs/top/charmm27.ff/dna.c.tdb\n",
    "Opening force field file /gromacs/AVX2_256_ts/share/gromacs/top/charmm27.ff/rna.c.tdb\n",
    "\n",
    "/gromacs/AVX2_256_ts/share/gromacs/top/charmm27.ff/atomtypes.atp\n",
    "/gromacs/AVX2_256_ts/share/gromacs/top/charmm27.ff/aminoacids.hdb\n",
    "/gromacs/AVX2_256_ts/share/gromacs/top/charmm27.ff/aminoacids.rtp\n",
    "/gromacs/AVX2_256_ts/share/gromacs/top/charmm27.ff/aminoacids.n.tdb\n",
    "/gromacs/AVX2_256_ts/share/gromacs/top/charmm27.ff/aminoacids.c.tdb\n",
    "\n",
    "residuetypes.dat "
   ]
  },
  {
   "cell_type": "code",
   "execution_count": null,
   "id": "2c448bc2",
   "metadata": {},
   "outputs": [],
   "source": [
    "1.79071   2.10721   1.56292"
   ]
  },
  {
   "cell_type": "markdown",
   "id": "a64ef2da",
   "metadata": {},
   "source": [
    "8: CHARMM27 all-atom force field (CHARM22 plus CMAP for proteins)\n",
    "\n",
    "1: TIP3P   TIP 3-point, recommended"
   ]
  }
 ],
 "metadata": {
  "kernelspec": {
   "display_name": "bioemu",
   "language": "python",
   "name": "python3"
  },
  "language_info": {
   "codemirror_mode": {
    "name": "ipython",
    "version": 3
   },
   "file_extension": ".py",
   "mimetype": "text/x-python",
   "name": "python",
   "nbconvert_exporter": "python",
   "pygments_lexer": "ipython3",
   "version": "3.10.18"
  }
 },
 "nbformat": 4,
 "nbformat_minor": 5
}
