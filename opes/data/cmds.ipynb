{
 "cells": [
  {
   "cell_type": "markdown",
   "id": "ed4d24c3",
   "metadata": {},
   "source": [
    "# GROMACS CMDs"
   ]
  },
  {
   "cell_type": "markdown",
   "id": "f506abce",
   "metadata": {},
   "source": [
    "## tpr"
   ]
  },
  {
   "cell_type": "code",
   "execution_count": 7,
   "id": "17672514",
   "metadata": {},
   "outputs": [],
   "source": [
    "import mdtraj as md\n",
    "import nglview as nv\n",
    "\n",
    "molecule=\"1fme\"\n",
    "molecule_lower = molecule.lower()\n",
    "molecule_upper = molecule.upper()"
   ]
  },
  {
   "cell_type": "code",
   "execution_count": 8,
   "id": "ccc2b094",
   "metadata": {},
   "outputs": [
    {
     "name": "stdout",
     "output_type": "stream",
     "text": [
      "\n",
      "Create .gro file\n",
      "gmx pdb2gmx -f folded.pdb -o folded.gro -p topol.top -ff charmm27 -water tip3p --ignh\n",
      "\n",
      "Create .tpr file\n",
      "gmx grompp -f 1fme.mdp -po 1fme.mdp -c folded.gro -p topol.top -o nvt_0.tpr -maxwarn 2\n"
     ]
    }
   ],
   "source": [
    "print(\"\\nCreate .gro file\")\n",
    "print(f\"gmx pdb2gmx -f folded.pdb -o folded.gro -p topol.top -ff charmm27 -water tip3p --ignh\")\n",
    "\n",
    "print(\"\\nCreate .tpr file\")\n",
    "print(f\"gmx grompp -f {molecule_lower}.mdp -po {molecule_lower}.mdp -c folded.gro -p topol.top -o nvt_0.tpr -maxwarn 2\")"
   ]
  },
  {
   "cell_type": "markdown",
   "id": "5bf6c72d",
   "metadata": {},
   "source": [
    "## Force field"
   ]
  },
  {
   "cell_type": "code",
   "execution_count": null,
   "id": "3921f148",
   "metadata": {
    "vscode": {
     "languageId": "shellscript"
    }
   },
   "outputs": [],
   "source": [
    "Opening force field file /gromacs/AVX2_256_ts/share/gromacs/top/charmm27.ff/atomtypes.atp\n",
    "Opening force field file /gromacs/AVX2_256_ts/share/gromacs/top/charmm27.ff/aminoacids.rtp\n",
    "Opening force field file /gromacs/AVX2_256_ts/share/gromacs/top/charmm27.ff/dna.rtp\n",
    "Opening force field file /gromacs/AVX2_256_ts/share/gromacs/top/charmm27.ff/lipids.rtp\n",
    "Opening force field file /gromacs/AVX2_256_ts/share/gromacs/top/charmm27.ff/rna.rtp\n",
    "Opening force field file /gromacs/AVX2_256_ts/share/gromacs/top/charmm27.ff/aminoacids.hdb\n",
    "Opening force field file /gromacs/AVX2_256_ts/share/gromacs/top/charmm27.ff/dna.hdb\n",
    "Opening force field file /gromacs/AVX2_256_ts/share/gromacs/top/charmm27.ff/lipids.hdb\n",
    "Opening force field file /gromacs/AVX2_256_ts/share/gromacs/top/charmm27.ff/rna.hdb\n",
    "Opening force field file /gromacs/AVX2_256_ts/share/gromacs/top/charmm27.ff/aminoacids.n.tdb\n",
    "Opening force field file /gromacs/AVX2_256_ts/share/gromacs/top/charmm27.ff/dna.n.tdb\n",
    "Opening force field file /gromacs/AVX2_256_ts/share/gromacs/top/charmm27.ff/rna.n.tdb\n",
    "Opening force field file /gromacs/AVX2_256_ts/share/gromacs/top/charmm27.ff/aminoacids.c.tdb\n",
    "Opening force field file /gromacs/AVX2_256_ts/share/gromacs/top/charmm27.ff/dna.c.tdb\n",
    "Opening force field file /gromacs/AVX2_256_ts/share/gromacs/top/charmm27.ff/rna.c.tdb\n",
    "\n",
    "/gromacs/AVX2_256_ts/share/gromacs/top/charmm27.ff/atomtypes.atp\n",
    "/gromacs/AVX2_256_ts/share/gromacs/top/charmm27.ff/aminoacids.hdb\n",
    "/gromacs/AVX2_256_ts/share/gromacs/top/charmm27.ff/aminoacids.rtp\n",
    "/gromacs/AVX2_256_ts/share/gromacs/top/charmm27.ff/aminoacids.n.tdb\n",
    "/gromacs/AVX2_256_ts/share/gromacs/top/charmm27.ff/aminoacids.c.tdb\n",
    "\n",
    "residuetypes.dat "
   ]
  },
  {
   "cell_type": "markdown",
   "id": "a64ef2da",
   "metadata": {},
   "source": [
    "8: CHARMM27 all-atom force field (CHARM22 plus CMAP for proteins)\n",
    "\n",
    "1: TIP3P   TIP 3-point, recommended"
   ]
  },
  {
   "cell_type": "markdown",
   "id": "44ca3e49",
   "metadata": {},
   "source": [
    "# Equilibrium"
   ]
  },
  {
   "cell_type": "markdown",
   "id": "5a8152ac",
   "metadata": {},
   "source": [
    "## Explicit TIP3P"
   ]
  },
  {
   "cell_type": "code",
   "execution_count": null,
   "id": "5c5797ba",
   "metadata": {
    "vscode": {
     "languageId": "shellscript"
    }
   },
   "outputs": [],
   "source": [
    "## Initial system ##\n",
    "# gro, top file: folded.gro, topol.top\n",
    "gmx pdb2gmx -f folded.pdb -o folded.gro -p topol.top -ff charmm27 -water tip3p --ignh\n",
    "\n",
    "# Create box: folded_boxed.gro\n",
    "gmx editconf -f folded.gro -o folded_boxed.gro -c -d 1.2 -bt cubic -box 4.7 4.7 4.7\n",
    "\n",
    "# Solvate: folded_solv.gro, topol.top\n",
    "gmx solvate -cp folded_boxed.gro -cs spc216.gro -o folded_solv.gro -p topol.top\n",
    "\n",
    "# Add ions: ions.tpr\n",
    "gmx grompp -f ../common/ions.mdp -po ions.mdp -c folded_solv.gro -p topol.top -o ions.tpr -maxwarn 1\n",
    "# select SOL (13): topol.top, folded_solv_ions.gro\n",
    "gmx genion -s ions.tpr -o folded_solv_ions.gro -p topol.top -pname NA -nname CL -neutral\n",
    "\n",
    "\n",
    "\n",
    "## Energy minimization ##\n",
    "# Energy minimization: em.tpr\n",
    "gmx grompp -f ../common/minim.mdp -c folded_solv_ions.gro -p topol.top -o em.tpr\n",
    "\n",
    "# Energy minimization: em.log, em.edr, em.trr, em.gro\n",
    "# em.log: ASCII-text log file of the EM process\n",
    "# em.edr: Binary energy file\n",
    "# em.trr: Binary full-precision trajectory\n",
    "# em.gro: Energy-minimized structure\n",
    "gmx mdrun -v -deffnm em\n",
    "# Energy analysis (11, 0): potential.xvg\n",
    "gmx energy -f em.edr -o potential.xvg\n",
    "\n",
    "\n",
    "## Equilibration - temperature ##\n",
    "# Equilibration - temperature: nvt.tpr, nvt.gro, nvt.cpt, nvt.edr, nvt.log, nvt.trr, nvt.log, nvt.xtc\n",
    "# gmx grompp -f ../common/1fme_nvt.mdp -c em.gro -r em.gro -p topol.top -o nvt.tpr\n",
    "gmx grompp -f ../common/gtt_nvt.mdp -c em.gro -r em.gro -p topol.top -o nvt.tpr\n",
    "\n",
    "gmx mdrun -deffnm nvt -ntomp 1 -pin on -bonded gpu -nb gpu -pme gpu\n",
    "\n",
    "# Analysis - 16 0\n",
    "gmx energy -f nvt.edr -o temperature.xvg\n",
    "\n",
    "## Equilibration - pressure ##\n",
    "# Equilibration - pressure : \n",
    "# gmx grompp -f ../common/1fme_npt.mdp -c nvt.gro -r nvt.gro -t nvt.cpt -p topol.top -o npt.tpr\n",
    "gmx grompp -f ../common/gtt_npt.mdp -c nvt.gro -r nvt.gro -t nvt.cpt -p topol.top -o npt.tpr\n",
    "\n",
    "gmx mdrun -deffnm npt -ntomp 1 -pin on -bonded gpu -nb gpu -pme gpu\n",
    "\n",
    "# Analysis \n",
    "# 17 0\n",
    "gmx energy -f npt.edr -o pressure.xvg \n",
    "# 23 0\n",
    "gmx energy -f npt.edr -o density.xvg \n",
    "\n",
    "\n",
    "\n",
    "## Production MD ##\n",
    "# Final tpr\n",
    "# gmx grompp -f 1fme_md.mdp -c npt.gro -t npt.cpt -p topol.top -o md.tpr\n",
    "gmx grompp -f gtt_md.mdp -c npt.gro -t npt.cpt -p topol.top -o md.tpr\n",
    "\n",
    "# Run MD\n",
    "# gmx mdrun -deffnm md -ntomp 1\n"
   ]
  },
  {
   "cell_type": "code",
   "execution_count": 34,
   "id": "30720fdb",
   "metadata": {},
   "outputs": [
    {
     "data": {
      "application/vnd.jupyter.widget-view+json": {
       "model_id": "62b9aacdaa664dd19b6a74838727098e",
       "version_major": 2,
       "version_minor": 0
      },
      "text/plain": [
       "NGLWidget()"
      ]
     },
     "metadata": {},
     "output_type": "display_data"
    }
   ],
   "source": [
    "molecule=\"1fme\"\n",
    "gro_path = f\"./{molecule.upper()}/folded_solv_ions.gro\"\n",
    "gro_traj = md.load(gro_path)\n",
    "gro_traj.center_coordinates()\n",
    "gro_view = nv.show_mdtraj(gro_traj)\n",
    "gro_view.clear_representations()\n",
    "gro_view.add_cartoon(selection=\"protein\")\n",
    "gro_view.add_ball_and_stick(selection=\"resname\")\n",
    "gro_view.add_ball_and_stick(selection=\"CL\", radius=0.5)\n",
    "\n",
    "gro_view"
   ]
  },
  {
   "cell_type": "code",
   "execution_count": 38,
   "id": "17f5c9d0",
   "metadata": {},
   "outputs": [
    {
     "data": {
      "application/vnd.jupyter.widget-view+json": {
       "model_id": "da2e9122d54a4eb9865063e594f7134f",
       "version_major": 2,
       "version_minor": 0
      },
      "text/plain": [
       "NGLWidget(max_frame=50)"
      ]
     },
     "metadata": {},
     "output_type": "display_data"
    }
   ],
   "source": [
    "molecule=\"1fme\"\n",
    "xtc_path = f\"./{molecule.upper()}/nvt.xtc\"\n",
    "gro_path = f\"./{molecule.upper()}/nvt.gro\"\n",
    "gro_traj = md.load(xtc_path, top=gro_path)\n",
    "gro_traj.center_coordinates()\n",
    "gro_view = nv.show_mdtraj(gro_traj)\n",
    "gro_view.clear_representations()\n",
    "gro_view.add_cartoon(selection=\"protein\")\n",
    "gro_view.add_ball_and_stick(selection=\"resname\")\n",
    "gro_view.add_ball_and_stick(selection=\"CL\", radius=0.5)\n",
    "\n",
    "gro_view"
   ]
  },
  {
   "cell_type": "code",
   "execution_count": 40,
   "id": "c1f543c4",
   "metadata": {},
   "outputs": [
    {
     "data": {
      "application/vnd.jupyter.widget-view+json": {
       "model_id": "31040a3e8e3b44279967edb3960f28c0",
       "version_major": 2,
       "version_minor": 0
      },
      "text/plain": [
       "NGLWidget()"
      ]
     },
     "metadata": {},
     "output_type": "display_data"
    }
   ],
   "source": [
    "molecule=\"1fme\"\n",
    "gro_path = f\"./{molecule.upper()}/npt.gro\"\n",
    "gro_traj = md.load(gro_path)\n",
    "gro_traj.center_coordinates()\n",
    "gro_view = nv.show_mdtraj(gro_traj)\n",
    "gro_view.clear_representations()\n",
    "gro_view.add_cartoon(selection=\"protein\")\n",
    "gro_view.add_ball_and_stick(selection=\"resname\")\n",
    "gro_view.add_ball_and_stick(selection=\"CL\", radius=0.5)\n",
    "\n",
    "gro_view"
   ]
  },
  {
   "cell_type": "code",
   "execution_count": null,
   "id": "e3b8cc55",
   "metadata": {},
   "outputs": [
    {
     "data": {
      "application/vnd.jupyter.widget-view+json": {
       "model_id": "3e3c4f3a8d82437e80e968b41262b889",
       "version_major": 2,
       "version_minor": 0
      },
      "text/plain": [
       "NGLWidget()"
      ]
     },
     "metadata": {},
     "output_type": "display_data"
    }
   ],
   "source": [
    "molecule=\"1fme\"\n",
    "gro_path = f\"./{molecule.upper()}/folded.gro\"\n",
    "gro_traj = md.load(gro_path)\n",
    "gro_traj.center_coordinates()\n",
    "gro_view = nv.show_mdtraj(gro_traj)\n",
    "gro_view.clear_representations()\n",
    "gro_view.add_cartoon(selection=\"protein\")\n",
    "gro_view.add_ball_and_stick(selection=\"resname\")\n",
    "gro_view.add_ball_and_stick(selection=\"CL\", radius=0.5)\n",
    "\n",
    "gro_view"
   ]
  },
  {
   "cell_type": "code",
   "execution_count": 43,
   "id": "3e2f065a",
   "metadata": {},
   "outputs": [
    {
     "data": {
      "application/vnd.jupyter.widget-view+json": {
       "model_id": "ad5acee768be490ab171af13dd8c3178",
       "version_major": 2,
       "version_minor": 0
      },
      "text/plain": [
       "NGLWidget(max_frame=20)"
      ]
     },
     "metadata": {},
     "output_type": "display_data"
    }
   ],
   "source": [
    "molecule=\"1fme\"\n",
    "xtc_path = f\"/home/shpark/prj-mlcv/lib/bioemu/opes/simulations/1fme/tica/debug/0.xtc\"\n",
    "gro_path = f\"./{molecule.upper()}/folded.gro\"\n",
    "gro_traj = md.load_xtc(xtc_path, top=gro_path)\n",
    "gro_traj.center_coordinates()\n",
    "gro_view = nv.show_mdtraj(gro_traj)\n",
    "gro_view.clear_representations()\n",
    "gro_view.add_cartoon(selection=\"protein\")\n",
    "gro_view.add_ball_and_stick(selection=\"resname\")\n",
    "gro_view.add_ball_and_stick(selection=\"CL\", radius=0.5)\n",
    "\n",
    "gro_view"
   ]
  },
  {
   "cell_type": "markdown",
   "id": "20f29857",
   "metadata": {},
   "source": [
    "## Implicit TIP3P"
   ]
  },
  {
   "cell_type": "code",
   "execution_count": null,
   "id": "1f697a11",
   "metadata": {
    "vscode": {
     "languageId": "shellscript"
    }
   },
   "outputs": [],
   "source": [
    "gmx pdb2gmx -f folded.pdb -o folded.gro -p topol.top -ff charmm27 -water tip3p -ignh\n",
    "\n",
    "# EM\n",
    "gmx grompp -f em_gb.mdp -c gb_processed.gro -p topol.top -o em_gb.tpr\n",
    "gmx mdrun  -deffnm em_gb\n",
    "\n",
    "# NVT - restrained\n",
    "gmx grompp -f nvt_gb_posres.mdp -c em_gb.gro -p topol.top -o nvt_gb_posres.tpr\n",
    "gmx mdrun  -deffnm nvt_gb_posres\n",
    "\n",
    "# NVT - unrestrained\n",
    "gmx grompp -f nvt_gb.mdp -c nvt_gb_posres.gro -t nvt_gb_posres.cpt -p topol.top -o nvt_gb.tpr\n",
    "gmx mdrun  -deffnm nvt_gb\n",
    "\n",
    "# start OPES (GBSA)\n",
    "gmx grompp -f md_opes_gb.mdp -c nvt_gb.gro -t nvt_gb.cpt -p topol.top -o opes_gb.tpr\n",
    "gmx mdrun  -deffnm opes_gb -plumed plumed.dat"
   ]
  },
  {
   "cell_type": "code",
   "execution_count": null,
   "id": "a5000975",
   "metadata": {},
   "outputs": [],
   "source": []
  }
 ],
 "metadata": {
  "kernelspec": {
   "display_name": "bioemu",
   "language": "python",
   "name": "python3"
  },
  "language_info": {
   "codemirror_mode": {
    "name": "ipython",
    "version": 3
   },
   "file_extension": ".py",
   "mimetype": "text/x-python",
   "name": "python",
   "nbconvert_exporter": "python",
   "pygments_lexer": "ipython3",
   "version": "3.10.18"
  }
 },
 "nbformat": 4,
 "nbformat_minor": 5
}
